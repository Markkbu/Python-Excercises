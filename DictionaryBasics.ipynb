{
 "cells": [
  {
   "cell_type": "code",
   "execution_count": 1,
   "id": "61f5228d-0c51-4710-90fc-1242a7a90eed",
   "metadata": {},
   "outputs": [],
   "source": [
    "keys = [\"Ten\", \"Twenty\", \"Thirty\"]\n",
    "values = [10,20,30]"
   ]
  },
  {
   "cell_type": "code",
   "execution_count": 2,
   "id": "6e421cba-2c69-4f64-8955-4620bc4ba0ae",
   "metadata": {},
   "outputs": [
    {
     "data": {
      "text/plain": [
       "{'Ten': 10, 'Twenty': 20, 'Thirty': 30}"
      ]
     },
     "execution_count": 2,
     "metadata": {},
     "output_type": "execute_result"
    }
   ],
   "source": [
    "# 2 lists int a dictionary\n",
    "res= {}\n",
    "\n",
    "for key in keys:\n",
    "    for value in values:\n",
    "        res[key] = value\n",
    "        values.remove(value)\n",
    "        break\n",
    "        \n",
    "res"
   ]
  },
  {
   "cell_type": "code",
   "execution_count": 3,
   "id": "271ea338-8340-406e-9142-eaf72b65b643",
   "metadata": {},
   "outputs": [
    {
     "data": {
      "text/plain": [
       "{'Ten': 10, 'Twenty': 20, 'Thirty': 30}"
      ]
     },
     "execution_count": 3,
     "metadata": {},
     "output_type": "execute_result"
    }
   ],
   "source": [
    "# using dcitionary comprehension\n",
    "keys = [\"Ten\", \"Twenty\", \"Thirty\"]\n",
    "values = [10,20,30]\n",
    "\n",
    "res2 = {keys[i]: values[i] for i in range(len(keys))}\n",
    "res2"
   ]
  },
  {
   "cell_type": "code",
   "execution_count": 4,
   "id": "4a7a1f03-a4dc-4eba-98c2-58db7b62dca1",
   "metadata": {},
   "outputs": [
    {
     "name": "stdout",
     "output_type": "stream",
     "text": [
      "{'Ten': 10, 'Twenty': 20, 'Thirty': 30, 'Forty': 40, 'Fifty': 50, 'Sixty': 60}\n"
     ]
    }
   ],
   "source": [
    "dict1={'Ten':10, 'Twenty':20, 'Thirty':30}\n",
    "dict2={'Forty':40, 'Fifty': 50, 'Sixty':60}\n",
    "\n",
    "dict1.update(dict2)\n",
    "print(dict1)"
   ]
  },
  {
   "cell_type": "code",
   "execution_count": 5,
   "id": "661fde96-15f7-4fa6-820f-188073528be8",
   "metadata": {},
   "outputs": [
    {
     "name": "stdout",
     "output_type": "stream",
     "text": [
      "{'Ten': 10, 'Twenty': 20, 'Thirty': 30, 'Forty': 40, 'Fifty': 50, 'Sixty': 60}\n"
     ]
    }
   ],
   "source": [
    "#or\n",
    "dict1={'Ten':10, 'Twenty':20, 'Thirty':30}\n",
    "dict2={'Forty':40, 'Fifty': 50, 'Sixty':60}\n",
    "\n",
    "dict3 ={**dict1, **dict2}\n",
    "print(dict3)\n"
   ]
  },
  {
   "cell_type": "code",
   "execution_count": 6,
   "id": "b5e95072-d24f-48d0-aff6-d2d3e063aacf",
   "metadata": {},
   "outputs": [],
   "source": [
    "sampledict={'class':{'student':{'name':'Mike','marks':{'physics':70,'history':80}}}}"
   ]
  },
  {
   "cell_type": "code",
   "execution_count": 7,
   "id": "8aaa8cdb-7a9a-491b-adee-9b1cd3a36b49",
   "metadata": {},
   "outputs": [
    {
     "name": "stdout",
     "output_type": "stream",
     "text": [
      "80\n"
     ]
    }
   ],
   "source": [
    "print(sampledict['class']['student']['marks']['history'])"
   ]
  },
  {
   "cell_type": "code",
   "execution_count": 8,
   "id": "10db74ee-7e8b-4c94-a818-16e7338f62ae",
   "metadata": {},
   "outputs": [],
   "source": [
    "employees = ['Kelly','Emma', 'John']\n",
    "defaults ={'designation':'Application Developer', 'salary':8000}"
   ]
  },
  {
   "cell_type": "code",
   "execution_count": 9,
   "id": "9ad500e2-f863-498c-b0fd-0f119efabb70",
   "metadata": {},
   "outputs": [
    {
     "name": "stdout",
     "output_type": "stream",
     "text": [
      "{'Kelly': {'designation': 'Application Developer', 'salary': 8000}, 'Emma': {'designation': 'Application Developer', 'salary': 8000}, 'John': {'designation': 'Application Developer', 'salary': 8000}}\n"
     ]
    }
   ],
   "source": [
    "resdict = dict.fromkeys(employees, defaults)\n",
    "print(resdict)"
   ]
  },
  {
   "cell_type": "code",
   "execution_count": 10,
   "id": "43733226-1c9e-4764-9ac7-9b09413de82e",
   "metadata": {},
   "outputs": [
    {
     "name": "stdout",
     "output_type": "stream",
     "text": [
      "{'designation': 'Application Developer', 'salary': 8000}\n"
     ]
    }
   ],
   "source": [
    "print(resdict['Kelly'])"
   ]
  },
  {
   "cell_type": "code",
   "execution_count": 11,
   "id": "9a868307-c3cd-421a-ad0f-468bd4160150",
   "metadata": {},
   "outputs": [],
   "source": [
    "#create a new dictionary by extracting from the keys\n",
    "\n",
    "sampledict= {\n",
    "    'name':'Kelly',\n",
    "    'age':25,\n",
    "    'salary':8000,\n",
    "    'city':'New York'\n",
    "}"
   ]
  },
  {
   "cell_type": "code",
   "execution_count": 12,
   "id": "a2d21cfb-e60f-4783-aa94-10aa06afc783",
   "metadata": {},
   "outputs": [
    {
     "name": "stdout",
     "output_type": "stream",
     "text": [
      "{'name': 'Kelly', 'salary': 8000}\n"
     ]
    }
   ],
   "source": [
    "keys = [\"name\",\"salary\"] \n",
    "newdict = {k:sampledict[k] for k in keys}\n",
    "print(newdict)"
   ]
  },
  {
   "cell_type": "code",
   "execution_count": 13,
   "id": "3e7978cf-ef80-4f8d-994c-a33030797cde",
   "metadata": {},
   "outputs": [
    {
     "name": "stdout",
     "output_type": "stream",
     "text": [
      "{'age': 25, 'salary': 8000, 'city': 'New York'}\n"
     ]
    }
   ],
   "source": [
    "# delete a set of keys from a dictionary\n",
    "del sampledict['name']\n",
    "print (sampledict)"
   ]
  },
  {
   "cell_type": "code",
   "execution_count": 14,
   "id": "16f10868-9b4c-4800-b9f8-851694534211",
   "metadata": {},
   "outputs": [
    {
     "name": "stdout",
     "output_type": "stream",
     "text": [
      "{'age': 25, 'city': 'New York'}\n"
     ]
    }
   ],
   "source": [
    "del sampledict['salary']\n",
    "print (sampledict)"
   ]
  },
  {
   "cell_type": "code",
   "execution_count": 15,
   "id": "5ee0c88a-6a34-40c4-b7bd-4243f4658485",
   "metadata": {},
   "outputs": [],
   "source": [
    "# it looks like you have to delete keys one at a time, otherwise there is a problem"
   ]
  },
  {
   "cell_type": "code",
   "execution_count": 16,
   "id": "37212b84-37e0-44b8-a9a2-83f2ab68e98f",
   "metadata": {},
   "outputs": [
    {
     "name": "stdout",
     "output_type": "stream",
     "text": [
      "True\n"
     ]
    }
   ],
   "source": [
    "sampledict = {'a':100, 'b':200, 'c':300}\n",
    "print(200 in sampledict.values())"
   ]
  },
  {
   "cell_type": "code",
   "execution_count": 17,
   "id": "eb9386d8-0615-4b6f-abcf-65bd7e278bec",
   "metadata": {},
   "outputs": [],
   "source": [
    "sampledict= {\n",
    "    'name':'Kelly',\n",
    "    'age':25,\n",
    "    'salary':8000,\n",
    "    'city':'New York'\n",
    "}\n"
   ]
  },
  {
   "cell_type": "code",
   "execution_count": 18,
   "id": "1f1eafb2-09cb-41d8-aa35-e431eb1dec90",
   "metadata": {},
   "outputs": [],
   "source": [
    "sampledict['location'] =sampledict['city']"
   ]
  },
  {
   "cell_type": "code",
   "execution_count": 19,
   "id": "611e054f-6842-4097-9fcf-ff79fdeed8c6",
   "metadata": {},
   "outputs": [
    {
     "name": "stdout",
     "output_type": "stream",
     "text": [
      "{'name': 'Kelly', 'age': 25, 'salary': 8000, 'city': 'New York', 'location': 'New York'}\n"
     ]
    }
   ],
   "source": [
    "print(sampledict)"
   ]
  },
  {
   "cell_type": "code",
   "execution_count": 20,
   "id": "96aa4ff7-2f24-42de-9080-2a4bd464030b",
   "metadata": {},
   "outputs": [],
   "source": [
    "sampledict={'Physics':82,'Math':65, 'hisotry':75}"
   ]
  },
  {
   "cell_type": "code",
   "execution_count": 21,
   "id": "8fec0b38-d7ed-462c-8921-a08e9dbc8c7d",
   "metadata": {},
   "outputs": [
    {
     "name": "stdout",
     "output_type": "stream",
     "text": [
      "Math 65\n"
     ]
    }
   ],
   "source": [
    "lowest = min(sampledict,key=sampledict.get)\n",
    "print(lowest,sampledict[lowest])"
   ]
  },
  {
   "cell_type": "code",
   "execution_count": 22,
   "id": "bc38284b-3263-43bf-bda3-145ba8ecb66d",
   "metadata": {},
   "outputs": [
    {
     "name": "stdout",
     "output_type": "stream",
     "text": [
      "Math\n"
     ]
    }
   ],
   "source": [
    "print(lowest)"
   ]
  },
  {
   "cell_type": "code",
   "execution_count": 23,
   "id": "914323a8-f349-40f9-a0ca-17cdb5306b98",
   "metadata": {},
   "outputs": [],
   "source": [
    "sampleDict = {\n",
    "     'emp1': {'name': 'Jhon', 'salary': 7500},\n",
    "     'emp2': {'name': 'Emma', 'salary': 8000},\n",
    "     'emp3': {'name': 'Brad', 'salary': 6500}\n",
    "}"
   ]
  },
  {
   "cell_type": "code",
   "execution_count": 24,
   "id": "17b62cee-ec1f-42cb-8d80-b274327fe447",
   "metadata": {},
   "outputs": [
    {
     "name": "stdout",
     "output_type": "stream",
     "text": [
      "{'emp1': {'name': 'Jhon', 'salary': 7500}, 'emp2': {'name': 'Emma', 'salary': 8000}, 'emp3': {'name': 'Brad', 'salary': 8500}}\n"
     ]
    }
   ],
   "source": [
    "sampleDict['emp3']['salary'] = 8500\n",
    "print(sampleDict)"
   ]
  },
  {
   "cell_type": "code",
   "execution_count": null,
   "id": "3a39d044-8fb0-4391-8a75-9184e8d6dd69",
   "metadata": {},
   "outputs": [],
   "source": []
  }
 ],
 "metadata": {
  "kernelspec": {
   "display_name": "Python 3",
   "language": "python",
   "name": "python3"
  },
  "language_info": {
   "codemirror_mode": {
    "name": "ipython",
    "version": 3
   },
   "file_extension": ".py",
   "mimetype": "text/x-python",
   "name": "python",
   "nbconvert_exporter": "python",
   "pygments_lexer": "ipython3",
   "version": "3.9.5"
  }
 },
 "nbformat": 4,
 "nbformat_minor": 5
}
