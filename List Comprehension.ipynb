{
 "cells": [
  {
   "cell_type": "code",
   "execution_count": 1,
   "id": "2328885e-091d-4792-b3a8-6a6446e0693e",
   "metadata": {},
   "outputs": [],
   "source": [
    "#Define Studen Data\n"
   ]
  },
  {
   "cell_type": "markdown",
   "id": "a1d7d4ae-5055-4421-bc23-b9e2a1f337e8",
   "metadata": {},
   "source": []
  },
  {
   "cell_type": "raw",
   "id": "8a50bce9-7913-45b6-bb34-c590b2c3c1fa",
   "metadata": {},
   "source": [
    "Each record isn [Name, GPA, Year, Instate]\n"
   ]
  },
  {
   "cell_type": "code",
   "execution_count": 21,
   "id": "e7d1965c-16bc-4900-853a-4daab83c9c23",
   "metadata": {},
   "outputs": [],
   "source": [
    "students =[\n",
    "    ['Harry', 3.5, 3, True],\n",
    "    ['Ron', 2.7, 2, True],\n",
    "    ['Hermione', 3.9, 1, False],\n",
    "    ['Dumbledore', 2.9, 4, True],\n",
    "    ['Snape', 3.1, 4, False],\n",
    "]"
   ]
  },
  {
   "cell_type": "markdown",
   "id": "04bf6d8f-5398-4883-88a7-650e22a17972",
   "metadata": {},
   "source": [
    "Anatomy of a List Comprehension:\n"
   ]
  },
  {
   "cell_type": "markdown",
   "id": "7a8bd5e0-59f2-4ae9-9397-50dfeac16c6a",
   "metadata": {},
   "source": [
    "[\"returned value\" for \"item\" in \"sourse list\" if \"conditional\"]"
   ]
  },
  {
   "cell_type": "markdown",
   "id": "827716bd-7516-4636-9832-91fc622af9a9",
   "metadata": {},
   "source": [
    "Goals: Get the name of every student"
   ]
  },
  {
   "cell_type": "code",
   "execution_count": 3,
   "id": "e5f2f244-71b3-44f6-b4c3-2b3d2516cf5b",
   "metadata": {},
   "outputs": [],
   "source": [
    "names = [student[0] for student in students]"
   ]
  },
  {
   "cell_type": "code",
   "execution_count": 4,
   "id": "15961e7b-db0d-4d7e-9273-0437df38ce8d",
   "metadata": {},
   "outputs": [
    {
     "data": {
      "text/plain": [
       "['Harry', 'Ron', 'Hermione', 'Dumbledore', 'Snape']"
      ]
     },
     "execution_count": 4,
     "metadata": {},
     "output_type": "execute_result"
    }
   ],
   "source": [
    "names"
   ]
  },
  {
   "cell_type": "markdown",
   "id": "abe9bf60-2dc4-4849-8da8-661eebcf9b70",
   "metadata": {},
   "source": [
    "Goal: to get the length of the name of each student"
   ]
  },
  {
   "cell_type": "code",
   "execution_count": 5,
   "id": "c392f8de-796d-42a3-b5c6-c30aa1c36475",
   "metadata": {},
   "outputs": [],
   "source": [
    "name_lengths = [len(student[0]) for student in students] "
   ]
  },
  {
   "cell_type": "code",
   "execution_count": 6,
   "id": "899ec394-2bf5-474c-9d65-dfc2cab093f3",
   "metadata": {},
   "outputs": [
    {
     "data": {
      "text/plain": [
       "[5, 3, 8, 10, 5]"
      ]
     },
     "execution_count": 6,
     "metadata": {},
     "output_type": "execute_result"
    }
   ],
   "source": [
    "name_lengths"
   ]
  },
  {
   "cell_type": "markdown",
   "id": "3506134b-b948-452f-ae0e-ebd30254f9cd",
   "metadata": {},
   "source": [
    "Goal: Get the name of every student who is a 4th year"
   ]
  },
  {
   "cell_type": "code",
   "execution_count": 7,
   "id": "e170f469-5a2f-467e-a291-63e8e311002f",
   "metadata": {},
   "outputs": [],
   "source": [
    "fourth_year_names = [student[0] for student in students if student[2]==4]"
   ]
  },
  {
   "cell_type": "code",
   "execution_count": 8,
   "id": "ddeac29d-27cd-4af6-8452-1a51d97250ed",
   "metadata": {
    "collapsed": true,
    "jupyter": {
     "outputs_hidden": true
    },
    "tags": []
   },
   "outputs": [
    {
     "data": {
      "text/plain": [
       "['Dumbledore', 'Snape']"
      ]
     },
     "execution_count": 8,
     "metadata": {},
     "output_type": "execute_result"
    }
   ],
   "source": [
    "fourth_year_names "
   ]
  },
  {
   "cell_type": "markdown",
   "id": "afef56e4-7692-48df-9e92-3c577721046c",
   "metadata": {},
   "source": [
    "Goal: Get every 4th year or instate student"
   ]
  },
  {
   "cell_type": "code",
   "execution_count": 9,
   "id": "d9ab3be3-f5f8-4d12-85f2-41edd66dd8f9",
   "metadata": {},
   "outputs": [],
   "source": [
    "Foruth_year_or_instate_names = [student[0] for student in students if (student[2] == 4 or student[3] ==True)]"
   ]
  },
  {
   "cell_type": "code",
   "execution_count": 10,
   "id": "02c53827-9c0a-4af0-95fc-610a868512f0",
   "metadata": {},
   "outputs": [
    {
     "data": {
      "text/plain": [
       "['Harry', 'Ron', 'Dumbledore', 'Snape']"
      ]
     },
     "execution_count": 10,
     "metadata": {},
     "output_type": "execute_result"
    }
   ],
   "source": [
    "Foruth_year_or_instate_names"
   ]
  },
  {
   "cell_type": "markdown",
   "id": "e501ad12-d3f6-4b66-9f3f-a265a9e2aeb8",
   "metadata": {
    "tags": []
   },
   "source": [
    "Goal : Get the data type of each piece of data in 'students'"
   ]
  },
  {
   "cell_type": "code",
   "execution_count": 12,
   "id": "e14e1174-f7ae-42b2-be68-25e52149a8dd",
   "metadata": {},
   "outputs": [],
   "source": [
    "students = [[type(items) for items in student] for student in students]"
   ]
  },
  {
   "cell_type": "code",
   "execution_count": 13,
   "id": "25033a22-0b5f-42a7-bc1c-8519fbc5c0a7",
   "metadata": {},
   "outputs": [
    {
     "data": {
      "text/plain": [
       "[[str, float, int, bool],\n",
       " [str, float, int, bool],\n",
       " [str, float, int, bool],\n",
       " [str, float, int, bool],\n",
       " [str, float, int, bool]]"
      ]
     },
     "execution_count": 13,
     "metadata": {},
     "output_type": "execute_result"
    }
   ],
   "source": [
    "students"
   ]
  },
  {
   "cell_type": "markdown",
   "id": "63c0cd45-d2f9-4c62-aa1d-69d470cabb4d",
   "metadata": {},
   "source": [
    "Goal: Get the square of of each ever integer between 2 and 10"
   ]
  },
  {
   "cell_type": "code",
   "execution_count": 17,
   "id": "f748c815-d42e-44ae-8083-73315d700c7a",
   "metadata": {},
   "outputs": [
    {
     "data": {
      "text/plain": [
       "[1, 9, 25, 49, 81]"
      ]
     },
     "execution_count": 17,
     "metadata": {},
     "output_type": "execute_result"
    }
   ],
   "source": [
    "[i**2 for i in range(1,11,2)]"
   ]
  },
  {
   "cell_type": "markdown",
   "id": "91ae649b-808c-4e80-af08-f9c4773ffafe",
   "metadata": {},
   "source": [
    "Goal: \"Flatten\" the following matrix"
   ]
  },
  {
   "cell_type": "code",
   "execution_count": 18,
   "id": "999458bb-bd4a-4bbf-a24e-dbc0c4f354f2",
   "metadata": {},
   "outputs": [],
   "source": [
    "n = [[1,2,3],[4,5,6],[7,8,9]]"
   ]
  },
  {
   "cell_type": "code",
   "execution_count": 19,
   "id": "1bdb4bb2-0f2c-4ad1-9b4f-4784e2619534",
   "metadata": {},
   "outputs": [
    {
     "data": {
      "text/plain": [
       "[[1, 2, 3], [4, 5, 6], [7, 8, 9]]"
      ]
     },
     "execution_count": 19,
     "metadata": {},
     "output_type": "execute_result"
    }
   ],
   "source": [
    "n\n"
   ]
  },
  {
   "cell_type": "code",
   "execution_count": 20,
   "id": "daed1c9c-543a-4d49-835e-eb020e3dedcd",
   "metadata": {
    "collapsed": true,
    "jupyter": {
     "outputs_hidden": true
    },
    "tags": []
   },
   "outputs": [
    {
     "data": {
      "text/plain": [
       "[1, 2, 3, 4, 5, 6, 7, 8, 9]"
      ]
     },
     "execution_count": 20,
     "metadata": {},
     "output_type": "execute_result"
    }
   ],
   "source": [
    "[item for row in n for item in row]"
   ]
  },
  {
   "cell_type": "markdown",
   "id": "80c68f7c-9987-4d92-b1cc-ed49096de6bf",
   "metadata": {},
   "source": [
    "Time Considerations"
   ]
  },
  {
   "cell_type": "code",
   "execution_count": 29,
   "id": "9f227df9-72b9-41ea-9800-d51e0bdf8bb7",
   "metadata": {},
   "outputs": [
    {
     "name": "stdout",
     "output_type": "stream",
     "text": [
      "483 ns ± 13.6 ns per loop (mean ± std. dev. of 7 runs, 1000000 loops each)\n"
     ]
    }
   ],
   "source": [
    "%%timeit\n",
    "Foruth_year_or_instate_names = [student[0] for student in students if (student[2] == 4 or student[3] ==True)]"
   ]
  },
  {
   "cell_type": "code",
   "execution_count": 30,
   "id": "8e7ab31c-3d4a-4070-a1a7-9556065e0553",
   "metadata": {},
   "outputs": [
    {
     "name": "stdout",
     "output_type": "stream",
     "text": [
      "428 ns ± 8.64 ns per loop (mean ± std. dev. of 7 runs, 1000000 loops each)\n"
     ]
    }
   ],
   "source": [
    "%%timeit\n",
    "fourth_year_or_instate = []\n",
    "for student in students:\n",
    "    if (student[2] == 4 or student[3] == True):\n",
    "        fourth_year_or_instate.append(student)"
   ]
  },
  {
   "cell_type": "code",
   "execution_count": null,
   "id": "c571f3a9-e27d-448f-80e6-fd8948695d9a",
   "metadata": {},
   "outputs": [],
   "source": []
  }
 ],
 "metadata": {
  "kernelspec": {
   "display_name": "Python 3",
   "language": "python",
   "name": "python3"
  },
  "language_info": {
   "codemirror_mode": {
    "name": "ipython",
    "version": 3
   },
   "file_extension": ".py",
   "mimetype": "text/x-python",
   "name": "python",
   "nbconvert_exporter": "python",
   "pygments_lexer": "ipython3",
   "version": "3.9.5"
  }
 },
 "nbformat": 4,
 "nbformat_minor": 5
}
