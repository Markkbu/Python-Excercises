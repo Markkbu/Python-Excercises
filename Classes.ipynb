{
 "cells": [
  {
   "cell_type": "code",
   "execution_count": 1,
   "id": "e4ca2ff4-5c6d-4d1e-bcc0-c83a4a02fca2",
   "metadata": {},
   "outputs": [],
   "source": [
    "class Student:\n",
    "    university_name = ['Hogwarts']\n",
    "    def __init__ (self, name, gpa, major):\n",
    "        self.name = name\n",
    "        self.gpa = gpa\n",
    "        self.major = major"
   ]
  },
  {
   "cell_type": "code",
   "execution_count": 2,
   "id": "aa2ca893-6174-4d76-993f-ebe04ceb1254",
   "metadata": {},
   "outputs": [],
   "source": [
    "s1 = Student('Harry', 3.4, 'Math')"
   ]
  },
  {
   "cell_type": "code",
   "execution_count": 3,
   "id": "8660cbd3-0a6d-46d5-b42f-43522a48cfc6",
   "metadata": {},
   "outputs": [
    {
     "data": {
      "text/plain": [
       "'Harry'"
      ]
     },
     "execution_count": 3,
     "metadata": {},
     "output_type": "execute_result"
    }
   ],
   "source": [
    "s1.name"
   ]
  },
  {
   "cell_type": "code",
   "execution_count": 4,
   "id": "5b44e56b-bc8b-4665-806f-4a2ca6f1bef1",
   "metadata": {},
   "outputs": [
    {
     "data": {
      "text/plain": [
       "3.4"
      ]
     },
     "execution_count": 4,
     "metadata": {},
     "output_type": "execute_result"
    }
   ],
   "source": [
    "s1.gpa"
   ]
  },
  {
   "cell_type": "code",
   "execution_count": 5,
   "id": "27942359-33e1-4cc0-8cb4-a5b0c37f37ce",
   "metadata": {
    "collapsed": true,
    "jupyter": {
     "outputs_hidden": true
    },
    "tags": []
   },
   "outputs": [
    {
     "data": {
      "text/plain": [
       "'Math'"
      ]
     },
     "execution_count": 5,
     "metadata": {},
     "output_type": "execute_result"
    }
   ],
   "source": [
    "s1.major"
   ]
  },
  {
   "cell_type": "code",
   "execution_count": 6,
   "id": "cdee83c1-11bb-4979-9f8e-7aeb6ffe2d70",
   "metadata": {},
   "outputs": [],
   "source": [
    "s2 = Student('Herione', 4.0, 'History')"
   ]
  },
  {
   "cell_type": "code",
   "execution_count": 7,
   "id": "a5f095e2-d781-4f50-b92f-7f740b217065",
   "metadata": {},
   "outputs": [
    {
     "name": "stdout",
     "output_type": "stream",
     "text": [
      "Herione 4.0 History\n"
     ]
    }
   ],
   "source": [
    "print(s2.name, s2.gpa, s2.major)"
   ]
  },
  {
   "cell_type": "code",
   "execution_count": 8,
   "id": "c61982da-4fe6-4b06-98cb-049103fc8cf3",
   "metadata": {},
   "outputs": [
    {
     "name": "stdout",
     "output_type": "stream",
     "text": [
      "['Hogwarts'] ['Hogwarts']\n"
     ]
    }
   ],
   "source": [
    "print(s1.university_name, s2.university_name)"
   ]
  },
  {
   "cell_type": "code",
   "execution_count": 9,
   "id": "419d8ef3-ca87-4a2a-827c-83a64409e895",
   "metadata": {},
   "outputs": [
    {
     "data": {
      "text/plain": [
       "(140393122314240, 140393122314240)"
      ]
     },
     "execution_count": 9,
     "metadata": {},
     "output_type": "execute_result"
    }
   ],
   "source": [
    "id(s1.university_name), id(s2.university_name)"
   ]
  },
  {
   "cell_type": "code",
   "execution_count": null,
   "id": "f66dc309-7459-4e8f-a78e-4536e4405a74",
   "metadata": {},
   "outputs": [],
   "source": []
  },
  {
   "cell_type": "markdown",
   "id": "4f1e6da4-5425-41ed-858f-0cf16bc9b730",
   "metadata": {},
   "source": [
    "## __university_name is a class variable__"
   ]
  },
  {
   "cell_type": "code",
   "execution_count": 10,
   "id": "efa3e526-7e8a-4fcc-9df7-943afe90e1e2",
   "metadata": {},
   "outputs": [],
   "source": [
    "#what happens if you do it wrong"
   ]
  },
  {
   "cell_type": "code",
   "execution_count": 11,
   "id": "ed56d4c7-8c1a-4191-bbb5-1c16ea51eecb",
   "metadata": {},
   "outputs": [],
   "source": [
    "class Student:\n",
    "    current_courses = []\n",
    "    def __init__ (self, name, gpa, major):\n",
    "        self.name = name\n",
    "        self.gpa = gpa\n",
    "        self.major = major"
   ]
  },
  {
   "cell_type": "code",
   "execution_count": 12,
   "id": "4561ad2d-3074-45e8-9d53-14d469ad36d7",
   "metadata": {},
   "outputs": [],
   "source": [
    "s1 = Student('Harry', 3.4, 'Math')\n",
    "s2 = Student('Herione', 4.0, 'History')"
   ]
  },
  {
   "cell_type": "code",
   "execution_count": 13,
   "id": "43cfb2bd-f083-4704-825f-e72e96063e09",
   "metadata": {},
   "outputs": [
    {
     "name": "stdout",
     "output_type": "stream",
     "text": [
      "[] []\n"
     ]
    }
   ],
   "source": [
    "print(s1.current_courses, s2.current_courses)"
   ]
  },
  {
   "cell_type": "code",
   "execution_count": 14,
   "id": "f9054c94-ee70-40b2-a78b-cbdb25a04b0b",
   "metadata": {},
   "outputs": [],
   "source": [
    "s1.current_courses.append('Math 1')"
   ]
  },
  {
   "cell_type": "code",
   "execution_count": 15,
   "id": "f9415e4f-16cc-44f6-a720-66ae0d73315b",
   "metadata": {},
   "outputs": [
    {
     "name": "stdout",
     "output_type": "stream",
     "text": [
      "['Math 1'] ['Math 1']\n"
     ]
    }
   ],
   "source": [
    "print(s1.current_courses, s2.current_courses)"
   ]
  },
  {
   "cell_type": "code",
   "execution_count": 16,
   "id": "6bef4b6a-d05f-4ab3-89c4-1259ae88f23e",
   "metadata": {},
   "outputs": [],
   "source": [
    "#Obiously current_courses shoudl have been an instance variable instead of a class variable"
   ]
  },
  {
   "cell_type": "code",
   "execution_count": 17,
   "id": "ea1e2c58-3e87-4744-809f-deeb18f8eb72",
   "metadata": {},
   "outputs": [],
   "source": [
    "# A correct way of doing this is:"
   ]
  },
  {
   "cell_type": "code",
   "execution_count": 18,
   "id": "e8182857-5a34-474b-877a-74be465bd1fc",
   "metadata": {},
   "outputs": [],
   "source": [
    "class Student:\n",
    "    university_name = 'Hogwarts'\n",
    "    def __init__ (self, name, gpa, major):\n",
    "        self.name = name\n",
    "        self.gpa = gpa\n",
    "        self.major = major\n",
    "    def update_gpa(self, new_gpa):\n",
    "        self.gpa = new_gpa\n",
    "    def update_major(self, new_major):\n",
    "        self.major = new_major"
   ]
  },
  {
   "cell_type": "code",
   "execution_count": 19,
   "id": "d8419a98-cb47-43d8-beb2-5582d45f4049",
   "metadata": {},
   "outputs": [],
   "source": [
    "s1 = Student('Harry', 3.4, 'Math')"
   ]
  },
  {
   "cell_type": "code",
   "execution_count": 20,
   "id": "ecb6dfc8-4d93-4007-b04c-0832a22f550f",
   "metadata": {},
   "outputs": [
    {
     "name": "stdout",
     "output_type": "stream",
     "text": [
      "Harry\n"
     ]
    }
   ],
   "source": [
    "print(s1.name)"
   ]
  },
  {
   "cell_type": "code",
   "execution_count": 21,
   "id": "dc6d1b35-cfd7-46f5-ae03-e5812565efdb",
   "metadata": {},
   "outputs": [],
   "source": [
    "s1.update_gpa(3.6)"
   ]
  },
  {
   "cell_type": "code",
   "execution_count": 22,
   "id": "37bb9615-d416-4f00-8b1d-ca51e8c1a91d",
   "metadata": {},
   "outputs": [
    {
     "name": "stdout",
     "output_type": "stream",
     "text": [
      "Harry 3.6 Math\n"
     ]
    }
   ],
   "source": [
    "print(s1.name, s1.gpa, s1.major)"
   ]
  },
  {
   "cell_type": "code",
   "execution_count": 23,
   "id": "e811ecac-555c-41bb-a2b3-d4d72ca20db1",
   "metadata": {},
   "outputs": [],
   "source": [
    "s1.update_major('Physics')"
   ]
  },
  {
   "cell_type": "code",
   "execution_count": 24,
   "id": "123dbdf3-02c7-40eb-a958-ff0476d72d05",
   "metadata": {},
   "outputs": [
    {
     "name": "stdout",
     "output_type": "stream",
     "text": [
      "Harry 3.6 Physics\n"
     ]
    }
   ],
   "source": [
    "print(s1.name, s1.gpa, s1.major)"
   ]
  },
  {
   "cell_type": "markdown",
   "id": "6ebd5959-4010-46c4-9798-36426e371ac6",
   "metadata": {},
   "source": [
    "## What's up with the 'self'"
   ]
  },
  {
   "cell_type": "markdown",
   "id": "a5c06255-c571-4de1-822a-06de47f697c6",
   "metadata": {},
   "source": [
    "## s1.update_major  ('Chemistry') is actually shorthand for Student.update_major(s1, 'Chemistry')"
   ]
  },
  {
   "cell_type": "code",
   "execution_count": 25,
   "id": "29b82b30-7b82-41ac-84b4-660a83ff2832",
   "metadata": {},
   "outputs": [],
   "source": [
    "# -Using the Student.update_major function,\n",
    "#\n",
    "# execute s1.major='Chemistry'"
   ]
  },
  {
   "cell_type": "code",
   "execution_count": 26,
   "id": "0b33b13b-9a89-4dcf-9945-6930a7779b8d",
   "metadata": {},
   "outputs": [],
   "source": [
    "Student.update_major(s1, 'Chemistry')"
   ]
  },
  {
   "cell_type": "code",
   "execution_count": 27,
   "id": "e6db44cb-a506-404a-aeb6-db01551a814b",
   "metadata": {},
   "outputs": [
    {
     "name": "stdout",
     "output_type": "stream",
     "text": [
      "Harry 3.6 Chemistry\n"
     ]
    }
   ],
   "source": [
    "print(s1.name, s1.gpa, s1.major)"
   ]
  },
  {
   "cell_type": "markdown",
   "id": "85063157-fc5f-46a3-8b2d-8a45fe4d4b3d",
   "metadata": {},
   "source": [
    "# Look up rules for class vs instance variables"
   ]
  },
  {
   "cell_type": "code",
   "execution_count": 28,
   "id": "40f3143f-2ed4-44ab-a26c-66b197f96b81",
   "metadata": {},
   "outputs": [
    {
     "data": {
      "text/plain": [
       "'Hogwarts'"
      ]
     },
     "execution_count": 28,
     "metadata": {},
     "output_type": "execute_result"
    }
   ],
   "source": [
    "s1.university_name"
   ]
  },
  {
   "cell_type": "code",
   "execution_count": 29,
   "id": "78f858ab-2fcc-4bdb-bcf1-6435679ae6c1",
   "metadata": {},
   "outputs": [
    {
     "data": {
      "text/plain": [
       "140393087301808"
      ]
     },
     "execution_count": 29,
     "metadata": {},
     "output_type": "execute_result"
    }
   ],
   "source": [
    "id(s1.university_name)"
   ]
  },
  {
   "cell_type": "code",
   "execution_count": 30,
   "id": "ad6ed129-4144-4240-acf1-5e149034d704",
   "metadata": {},
   "outputs": [],
   "source": [
    "s2 = Student('Hermione', 4.0, 'History')"
   ]
  },
  {
   "cell_type": "code",
   "execution_count": 31,
   "id": "96dad0f8-75ce-47c9-a520-442f445652b5",
   "metadata": {},
   "outputs": [
    {
     "data": {
      "text/plain": [
       "'Hogwarts'"
      ]
     },
     "execution_count": 31,
     "metadata": {},
     "output_type": "execute_result"
    }
   ],
   "source": [
    "s2.university_name"
   ]
  },
  {
   "cell_type": "code",
   "execution_count": 32,
   "id": "ba72ea3a-4eed-45d8-b490-d136a272cab3",
   "metadata": {
    "jupyter": {
     "source_hidden": true
    },
    "tags": []
   },
   "outputs": [
    {
     "data": {
      "text/plain": [
       "140393087301808"
      ]
     },
     "execution_count": 32,
     "metadata": {},
     "output_type": "execute_result"
    }
   ],
   "source": [
    "id(s2.university_name)"
   ]
  },
  {
   "cell_type": "code",
   "execution_count": 33,
   "id": "d29cd9b9-9c5a-4f27-9ae0-d24742a42d74",
   "metadata": {},
   "outputs": [],
   "source": [
    "s1.university_name = 'UCLA'"
   ]
  },
  {
   "cell_type": "code",
   "execution_count": 34,
   "id": "80d09b6a-7f0e-4ffe-93cf-92b0d99aa84b",
   "metadata": {},
   "outputs": [
    {
     "data": {
      "text/plain": [
       "'UCLA'"
      ]
     },
     "execution_count": 34,
     "metadata": {},
     "output_type": "execute_result"
    }
   ],
   "source": [
    "s1.university_name"
   ]
  },
  {
   "cell_type": "code",
   "execution_count": 35,
   "id": "dda412d7-3e77-4e1b-9b37-db6f5c154003",
   "metadata": {},
   "outputs": [
    {
     "data": {
      "text/plain": [
       "140393086966192"
      ]
     },
     "execution_count": 35,
     "metadata": {},
     "output_type": "execute_result"
    }
   ],
   "source": [
    "id(s1.university_name)"
   ]
  },
  {
   "cell_type": "code",
   "execution_count": 36,
   "id": "afbc0755-b884-4c02-b7ba-f6595823192a",
   "metadata": {},
   "outputs": [
    {
     "data": {
      "text/plain": [
       "'Hogwarts'"
      ]
     },
     "execution_count": 36,
     "metadata": {},
     "output_type": "execute_result"
    }
   ],
   "source": [
    "s2.university_name"
   ]
  },
  {
   "cell_type": "code",
   "execution_count": 37,
   "id": "697916e2-a2bb-4db4-9064-2afe6923edf8",
   "metadata": {},
   "outputs": [
    {
     "data": {
      "text/plain": [
       "140393087301808"
      ]
     },
     "execution_count": 37,
     "metadata": {},
     "output_type": "execute_result"
    }
   ],
   "source": [
    "id(s2.university_name)"
   ]
  },
  {
   "cell_type": "markdown",
   "id": "b99f0202-aaea-4546-907c-013711c4bb36",
   "metadata": {},
   "source": [
    "## what happened her is that s1.university_name created an instance variable...while s2.university_name is still a class variable"
   ]
  },
  {
   "cell_type": "markdown",
   "id": "1f813f50-81be-47ee-9e3b-0280e8fdbc4b",
   "metadata": {},
   "source": [
    "## __Student Class__"
   ]
  },
  {
   "cell_type": "code",
   "execution_count": 81,
   "id": "5d5f5556-ca88-462d-9949-8da422f67d56",
   "metadata": {
    "tags": []
   },
   "outputs": [],
   "source": [
    "class Student:\n",
    "    university_name = 'Hogwarts'\n",
    "    def __init__ (self, name, gpa, major):\n",
    "        self.name = name\n",
    "        self.gpa = gpa\n",
    "        self.major = major\n",
    "    \n",
    "        #\"private\" instance variable\n",
    "        self.__list_of_courses = []\n",
    "    \n",
    "    def update_gpa (self, new_gpa):\n",
    "        self.gpa = new_gpa\n",
    "    \n",
    "    def update_major (self, new_major):\n",
    "        self.gpa = new_major\n",
    "\n",
    "    def get_list_of_courses(self):\n",
    "        return [c.name for c in self.__list_of_courses]\n",
    "    _\n",
    "    def enroll(self, course):\n",
    "        self.__list_of_courses.append(course)"
   ]
  },
  {
   "cell_type": "code",
   "execution_count": 82,
   "id": "2511c485-0787-436e-bc4f-b9349de0e0e7",
   "metadata": {},
   "outputs": [],
   "source": [
    "s1 = Student('Harry', 3.4, 'Math')\n"
   ]
  },
  {
   "cell_type": "code",
   "execution_count": 83,
   "id": "f955aa8f-c9cf-4ef2-a30e-f0323366f761",
   "metadata": {},
   "outputs": [
    {
     "name": "stdout",
     "output_type": "stream",
     "text": [
      "Harry 3.4 Math\n"
     ]
    }
   ],
   "source": [
    "print(s1.name, s1.gpa, s1.major)"
   ]
  },
  {
   "cell_type": "code",
   "execution_count": 84,
   "id": "fd41420e-d08d-4bf3-9c76-82cb9929e93f",
   "metadata": {
    "tags": []
   },
   "outputs": [
    {
     "ename": "AttributeError",
     "evalue": "'Student' object has no attribute '__list_of_courses'",
     "output_type": "error",
     "traceback": [
      "\u001b[0;31m---------------------------------------------------------------------------\u001b[0m",
      "\u001b[0;31mAttributeError\u001b[0m                            Traceback (most recent call last)",
      "\u001b[0;32m<ipython-input-84-31850f3f7557>\u001b[0m in \u001b[0;36m<module>\u001b[0;34m\u001b[0m\n\u001b[1;32m      1\u001b[0m \u001b[0;31m#just to show, we can't do this\u001b[0m\u001b[0;34m\u001b[0m\u001b[0;34m\u001b[0m\u001b[0;34m\u001b[0m\u001b[0m\n\u001b[0;32m----> 2\u001b[0;31m \u001b[0mprint\u001b[0m\u001b[0;34m(\u001b[0m\u001b[0ms1\u001b[0m\u001b[0;34m.\u001b[0m\u001b[0m__list_of_courses\u001b[0m\u001b[0;34m)\u001b[0m\u001b[0;34m\u001b[0m\u001b[0;34m\u001b[0m\u001b[0m\n\u001b[0m",
      "\u001b[0;31mAttributeError\u001b[0m: 'Student' object has no attribute '__list_of_courses'"
     ]
    }
   ],
   "source": [
    "#just to show, we can't do this\n",
    "print(s1.__list_of_courses)"
   ]
  },
  {
   "cell_type": "markdown",
   "id": "ffad57a8-02a7-465b-a4dc-a611f0b9a6c6",
   "metadata": {},
   "source": [
    "# definign a variable with 2 leading underscores like \"__list_of_course\", just replaces it with \"_Student__list_of_courses\".\n"
   ]
  },
  {
   "cell_type": "code",
   "execution_count": 47,
   "id": "e344f180-dc84-4161-bfc1-e994059fef56",
   "metadata": {},
   "outputs": [],
   "source": [
    "#That is called \"name Mangling\""
   ]
  },
  {
   "cell_type": "code",
   "execution_count": 85,
   "id": "96fac467-811b-41e1-9d53-46487283bafb",
   "metadata": {},
   "outputs": [
    {
     "name": "stdout",
     "output_type": "stream",
     "text": [
      "[]\n"
     ]
    }
   ],
   "source": [
    "print(s1._Student__list_of_courses)"
   ]
  },
  {
   "cell_type": "code",
   "execution_count": 63,
   "id": "e567f53c-a4cb-4896-9fb8-aca2a4e990ed",
   "metadata": {},
   "outputs": [],
   "source": [
    "class Course:\n",
    "    def __init__(self, name, max_capacity):\n",
    "        self.name = name\n",
    "        self.max_capacity = max_capacity\n",
    "        self.enrolled_students =[]\n",
    "        \n",
    "    def enroll_students(self, list_of_students):\n",
    "    #\"\"\"This function tries to enroll the given list of students\n",
    "    #into this course. If it is successful , return True, other wise False\n",
    "    #\"\"\"\n",
    "    \n",
    "        #check if max capaicty would not be exceeded\n",
    "        if len(self.enrolled_students) + len(list_of_students) <= self.max_capacity:\n",
    "    \n",
    "            #add these students to the course roster\n",
    "            self.enrolled_students.extend(list_of_students)\n",
    "        \n",
    "            #for each student, enroll them in the course\n",
    "            for student in list_of_students:\n",
    "                student.enroll(self)\n",
    "            \n",
    "            #success\n",
    "            return True\n",
    "        \n",
    "        #failure\n",
    "        return False\n",
    "        "
   ]
  },
  {
   "cell_type": "code",
   "execution_count": 64,
   "id": "55415f6d-7275-4123-9e93-437afe14e900",
   "metadata": {},
   "outputs": [],
   "source": [
    "s1 = Student('Harry', 3.4, 'Math')\n",
    "s2 = Student('Hermione', 4.0, 'History')\n",
    "s3 = Student('Ron', 2.6, 'Math')"
   ]
  },
  {
   "cell_type": "code",
   "execution_count": 65,
   "id": "9f0742a5-49f8-4379-b43e-04f7b21398f8",
   "metadata": {},
   "outputs": [],
   "source": [
    "c1 = Course('Math 1', 2)\n",
    "c2 = Course('History', 3)"
   ]
  },
  {
   "cell_type": "code",
   "execution_count": 66,
   "id": "5e0137ff-01d1-4010-babe-66b009c5c4f6",
   "metadata": {},
   "outputs": [
    {
     "name": "stdout",
     "output_type": "stream",
     "text": [
      "[] []\n"
     ]
    }
   ],
   "source": [
    "print(c1.enrolled_students, c2.enrolled_students)"
   ]
  },
  {
   "cell_type": "code",
   "execution_count": 68,
   "id": "1f405640-67d4-48ac-928d-e2f3369582b4",
   "metadata": {},
   "outputs": [
    {
     "data": {
      "text/plain": [
       "True"
      ]
     },
     "execution_count": 68,
     "metadata": {},
     "output_type": "execute_result"
    }
   ],
   "source": [
    "c1.enroll_students([s1,s2])"
   ]
  },
  {
   "cell_type": "code",
   "execution_count": 69,
   "id": "fb1f39f0-bdeb-474a-805c-d09a33861660",
   "metadata": {},
   "outputs": [
    {
     "data": {
      "text/plain": [
       "True"
      ]
     },
     "execution_count": 69,
     "metadata": {},
     "output_type": "execute_result"
    }
   ],
   "source": [
    "c2.enroll_students([s1,s2,s3])"
   ]
  },
  {
   "cell_type": "code",
   "execution_count": 70,
   "id": "24031619-3166-4084-9ef2-99c7b57ea7f9",
   "metadata": {},
   "outputs": [
    {
     "name": "stdout",
     "output_type": "stream",
     "text": [
      "[<__main__.Student object at 0x7fafd00d3dc0>, <__main__.Student object at 0x7fafd00d3cd0>]\n"
     ]
    }
   ],
   "source": [
    "print(c1.enrolled_students)"
   ]
  },
  {
   "cell_type": "code",
   "execution_count": 73,
   "id": "716d6863-200e-4afa-8225-867c98de8ac9",
   "metadata": {},
   "outputs": [
    {
     "name": "stdout",
     "output_type": "stream",
     "text": [
      "['Harry', 'Hermione'] are in Math 1\n"
     ]
    }
   ],
   "source": [
    "print('%s are in %s'%([s.name for s in c1.enrolled_students], c1.name))"
   ]
  },
  {
   "cell_type": "code",
   "execution_count": 75,
   "id": "fce36f30-9d6f-4bec-8470-2bf0a5cc25f0",
   "metadata": {},
   "outputs": [
    {
     "name": "stdout",
     "output_type": "stream",
     "text": [
      "['Harry', 'Hermione', 'Ron'] are in History\n"
     ]
    }
   ],
   "source": [
    "print('%s are in %s'%([s.name for s in c2.enrolled_students], c2.name))"
   ]
  },
  {
   "cell_type": "code",
   "execution_count": 80,
   "id": "a576a28e-60d6-45c8-91de-92c26f1ce189",
   "metadata": {},
   "outputs": [
    {
     "ename": "AttributeError",
     "evalue": "'Student' object has no attribute '_list_of_course'",
     "output_type": "error",
     "traceback": [
      "\u001b[0;31m---------------------------------------------------------------------------\u001b[0m",
      "\u001b[0;31mAttributeError\u001b[0m                            Traceback (most recent call last)",
      "\u001b[0;32m<ipython-input-80-9cfd8f8df8fc>\u001b[0m in \u001b[0;36m<module>\u001b[0;34m\u001b[0m\n\u001b[0;32m----> 1\u001b[0;31m \u001b[0mprint\u001b[0m\u001b[0;34m(\u001b[0m\u001b[0;34m'%s is enrolled in %s'\u001b[0m\u001b[0;34m%\u001b[0m\u001b[0;34m(\u001b[0m\u001b[0ms1\u001b[0m\u001b[0;34m.\u001b[0m\u001b[0mname\u001b[0m\u001b[0;34m,\u001b[0m \u001b[0ms1\u001b[0m\u001b[0;34m.\u001b[0m\u001b[0mget_list_of_courses\u001b[0m\u001b[0;34m(\u001b[0m\u001b[0;34m)\u001b[0m\u001b[0;34m)\u001b[0m\u001b[0;34m)\u001b[0m\u001b[0;34m\u001b[0m\u001b[0;34m\u001b[0m\u001b[0m\n\u001b[0m",
      "\u001b[0;32m<ipython-input-50-daaedbe70447>\u001b[0m in \u001b[0;36mget_list_of_courses\u001b[0;34m(self)\u001b[0m\n\u001b[1;32m     16\u001b[0m \u001b[0;34m\u001b[0m\u001b[0m\n\u001b[1;32m     17\u001b[0m     \u001b[0;32mdef\u001b[0m \u001b[0mget_list_of_courses\u001b[0m\u001b[0;34m(\u001b[0m\u001b[0mself\u001b[0m\u001b[0;34m)\u001b[0m\u001b[0;34m:\u001b[0m\u001b[0;34m\u001b[0m\u001b[0;34m\u001b[0m\u001b[0m\n\u001b[0;32m---> 18\u001b[0;31m         \u001b[0;32mreturn\u001b[0m \u001b[0;34m[\u001b[0m\u001b[0mc\u001b[0m\u001b[0;34m.\u001b[0m\u001b[0mname\u001b[0m \u001b[0;32mfor\u001b[0m \u001b[0mc\u001b[0m \u001b[0;32min\u001b[0m \u001b[0mself\u001b[0m\u001b[0;34m.\u001b[0m\u001b[0m_list_of_course\u001b[0m\u001b[0;34m]\u001b[0m\u001b[0;34m\u001b[0m\u001b[0;34m\u001b[0m\u001b[0m\n\u001b[0m\u001b[1;32m     19\u001b[0m     \u001b[0m_\u001b[0m\u001b[0;34m\u001b[0m\u001b[0;34m\u001b[0m\u001b[0m\n\u001b[1;32m     20\u001b[0m     \u001b[0;32mdef\u001b[0m \u001b[0menroll\u001b[0m\u001b[0;34m(\u001b[0m\u001b[0mself\u001b[0m\u001b[0;34m,\u001b[0m \u001b[0mcourse\u001b[0m\u001b[0;34m)\u001b[0m\u001b[0;34m:\u001b[0m\u001b[0;34m\u001b[0m\u001b[0;34m\u001b[0m\u001b[0m\n",
      "\u001b[0;31mAttributeError\u001b[0m: 'Student' object has no attribute '_list_of_course'"
     ]
    }
   ],
   "source": [
    "print('%s is enrolled in %s'%(s1.name, s1.get_list_of_courses()))"
   ]
  },
  {
   "cell_type": "code",
   "execution_count": null,
   "id": "a721dcc8-d089-4c6e-9b0f-922f660668b1",
   "metadata": {},
   "outputs": [],
   "source": []
  }
 ],
 "metadata": {
  "kernelspec": {
   "display_name": "Python 3",
   "language": "python",
   "name": "python3"
  },
  "language_info": {
   "codemirror_mode": {
    "name": "ipython",
    "version": 3
   },
   "file_extension": ".py",
   "mimetype": "text/x-python",
   "name": "python",
   "nbconvert_exporter": "python",
   "pygments_lexer": "ipython3",
   "version": "3.9.5"
  }
 },
 "nbformat": 4,
 "nbformat_minor": 5
}
