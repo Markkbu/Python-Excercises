{
 "cells": [
  {
   "cell_type": "code",
   "execution_count": 3,
   "id": "75265231-8513-444d-8eef-e1146b306885",
   "metadata": {},
   "outputs": [],
   "source": [
    "planets =['Mercury', 'Venus', 'Earth', 'Mars', 'Juptuter', 'Saturn','Uranus', 'Neptune']\n"
   ]
  },
  {
   "cell_type": "code",
   "execution_count": 6,
   "id": "44fa4799-02fe-4a77-95a0-58e8861498f2",
   "metadata": {},
   "outputs": [
    {
     "name": "stdout",
     "output_type": "stream",
     "text": [
      "Mercury\n",
      "Venus\n",
      "Earth\n",
      "Mars\n",
      "Juptuter\n",
      "Saturn\n",
      "Uranus\n",
      "Neptune\n"
     ]
    }
   ],
   "source": [
    "for planet in planets:\n",
    "    print(planet)"
   ]
  },
  {
   "cell_type": "code",
   "execution_count": 12,
   "id": "1d85eea8-49ad-4776-b7f1-77d9f590b6f6",
   "metadata": {},
   "outputs": [
    {
     "name": "stdout",
     "output_type": "stream",
     "text": [
      "4\n",
      "8\n",
      "16\n",
      "48\n",
      "144\n",
      "720\n"
     ]
    }
   ],
   "source": [
    "multiplicands = (4,2,2,3,3,5)\n",
    "product = 1\n",
    "for multi in multiplicands: \n",
    "    product = product * multi\n",
    "    print(product)"
   ]
  },
  {
   "cell_type": "code",
   "execution_count": 15,
   "id": "c50637bb-4ddc-4f27-9bec-addad0061e12",
   "metadata": {},
   "outputs": [
    {
     "name": "stdout",
     "output_type": "stream",
     "text": [
      "H E L L O "
     ]
    }
   ],
   "source": [
    "s= 'steganograpHy is the practicE of conceaLing a file, message, image, or video within another fiLe, message, image, Or video.'\n",
    "msg = ''\n",
    "for char in s:\n",
    "    if char.isupper():\n",
    "        print(char,end=' ')"
   ]
  },
  {
   "cell_type": "code",
   "execution_count": 17,
   "id": "0d29eb11-7dc2-4abf-8127-fa9ccadd4e55",
   "metadata": {},
   "outputs": [
    {
     "name": "stdout",
     "output_type": "stream",
     "text": [
      "Doing import work. i = 0\n",
      "Doing import work. i = 1\n",
      "Doing import work. i = 2\n",
      "Doing import work. i = 3\n",
      "Doing import work. i = 4\n"
     ]
    }
   ],
   "source": [
    "for i in range(5):\n",
    "    print('Doing import work. i =', i)"
   ]
  },
  {
   "cell_type": "code",
   "execution_count": 21,
   "id": "8c9909fe-9b97-40e4-84ad-8c10689db920",
   "metadata": {},
   "outputs": [
    {
     "name": "stdout",
     "output_type": "stream",
     "text": [
      "0 :-D  1 :-D  2 :-D  3 :-D  4 :-D  5 :-D  6 :-D  7 :-D  8 :-D  9 :-D  "
     ]
    }
   ],
   "source": [
    "i = 0\n",
    "while i < 10:\n",
    "    print(i,end=' :-D  ')\n",
    "    i += 1"
   ]
  },
  {
   "cell_type": "code",
   "execution_count": 22,
   "id": "e5180bad-c06b-4e8c-b8b6-c9d873b34a63",
   "metadata": {},
   "outputs": [],
   "source": [
    "# list comprehensions "
   ]
  },
  {
   "cell_type": "code",
   "execution_count": 28,
   "id": "d9f5c8c8-601b-483c-9e6b-cdfe9eaa1314",
   "metadata": {},
   "outputs": [
    {
     "data": {
      "text/plain": [
       "[0, 1, 4, 9, 16, 25, 36, 49, 64, 81]"
      ]
     },
     "execution_count": 28,
     "metadata": {},
     "output_type": "execute_result"
    }
   ],
   "source": [
    "squares = [n**2 for n in range(10)]\n",
    "squares"
   ]
  },
  {
   "cell_type": "code",
   "execution_count": 32,
   "id": "cc692db2-ac86-479b-9b37-2bfc0e2f819e",
   "metadata": {},
   "outputs": [
    {
     "data": {
      "text/plain": [
       "[0, 1, 4, 9, 16, 25, 36, 49, 64, 81]"
      ]
     },
     "execution_count": 32,
     "metadata": {},
     "output_type": "execute_result"
    }
   ],
   "source": [
    "#withou list comprehension\n",
    "squares = []\n",
    "for n in range(10):\n",
    "    squares.append(n**2)\n",
    "    \n",
    "squares"
   ]
  },
  {
   "cell_type": "code",
   "execution_count": 38,
   "id": "2b29b4de-c18c-4215-a6b1-ea024aadbae5",
   "metadata": {},
   "outputs": [
    {
     "data": {
      "text/plain": [
       "['Venus', 'Earth', 'Mars', 'Saturn', 'Uranus']"
      ]
     },
     "execution_count": 38,
     "metadata": {},
     "output_type": "execute_result"
    }
   ],
   "source": [
    "short_planets = [planet for planet in planets if len(planet) < 7]\n",
    "short_planets"
   ]
  },
  {
   "cell_type": "code",
   "execution_count": 40,
   "id": "ad7c31eb-5201-472e-aa4b-9dc7eba9d87a",
   "metadata": {},
   "outputs": [
    {
     "data": {
      "text/plain": [
       "['VENUS!', 'EARTH!', 'MARS!']"
      ]
     },
     "execution_count": 40,
     "metadata": {},
     "output_type": "execute_result"
    }
   ],
   "source": [
    "loud_short_planets = [planet.upper()+ '!' for planet in planets if len(planet) <6]\n",
    "loud_short_planets"
   ]
  },
  {
   "cell_type": "code",
   "execution_count": 41,
   "id": "8f1a5e9d-7a57-4b54-95c8-aae4e50f2289",
   "metadata": {},
   "outputs": [],
   "source": [
    "#the structure of that is similar to SQL with SELECT, FROM, WHERE"
   ]
  },
  {
   "cell_type": "code",
   "execution_count": 43,
   "id": "d5ee3ed4-e59d-4ece-b871-ea60dafb6f73",
   "metadata": {},
   "outputs": [
    {
     "data": {
      "text/plain": [
       "2"
      ]
     },
     "execution_count": 43,
     "metadata": {},
     "output_type": "execute_result"
    }
   ],
   "source": [
    "def count_negatives(nums):\n",
    "    n_negative = 0\n",
    "    for num in nums:\n",
    "        if num <0:\n",
    "            n_negative = n_negative +1\n",
    "    return n_negative\n",
    "\n",
    "count_negatives([5,-1,-2,0,3])"
   ]
  },
  {
   "cell_type": "code",
   "execution_count": 46,
   "id": "70eca5cf-4d12-42eb-bf0b-6df46d832979",
   "metadata": {},
   "outputs": [],
   "source": [
    "# we can do the same thing by doing\n",
    "def count_negatives2(nums):\n",
    "    return len([num for num in nums if num <0])"
   ]
  },
  {
   "cell_type": "code",
   "execution_count": 48,
   "id": "6ccc39e1-c445-4fc0-8e07-66d12f561a68",
   "metadata": {},
   "outputs": [
    {
     "data": {
      "text/plain": [
       "2"
      ]
     },
     "execution_count": 48,
     "metadata": {},
     "output_type": "execute_result"
    }
   ],
   "source": [
    "count_negatives2([5,-1,-2,0,3])"
   ]
  },
  {
   "cell_type": "code",
   "execution_count": 50,
   "id": "2f77aee5-75b6-40ee-9cfa-04cbfac8a424",
   "metadata": {},
   "outputs": [],
   "source": [
    "#beter still\n",
    "def count_negatives2(nums):\n",
    "    return [num < 0 for num in nums]"
   ]
  },
  {
   "cell_type": "code",
   "execution_count": 52,
   "id": "6a283cdd-79e3-4efe-a25e-89474a0b29cb",
   "metadata": {},
   "outputs": [
    {
     "data": {
      "text/plain": [
       "[False, True, True, False, False]"
      ]
     },
     "execution_count": 52,
     "metadata": {},
     "output_type": "execute_result"
    }
   ],
   "source": [
    "count_negatives2([5,-1,-2,0,3])"
   ]
  },
  {
   "cell_type": "code",
   "execution_count": 53,
   "id": "b513c88e-528c-4ca5-ae14-5434c20f73a1",
   "metadata": {},
   "outputs": [],
   "source": [
    "#beter still\n",
    "def count_negatives2(nums):\n",
    "    return sum([num < 0 for num in nums])"
   ]
  },
  {
   "cell_type": "code",
   "execution_count": 54,
   "id": "3820edb3-7440-40e3-9385-f7dc0da630d0",
   "metadata": {},
   "outputs": [
    {
     "data": {
      "text/plain": [
       "2"
      ]
     },
     "execution_count": 54,
     "metadata": {},
     "output_type": "execute_result"
    }
   ],
   "source": [
    "count_negatives2([5,-1,-2,0,3])"
   ]
  },
  {
   "cell_type": "code",
   "execution_count": 55,
   "id": "8f4dfee6-f103-4fff-beb3-ef589626168b",
   "metadata": {},
   "outputs": [
    {
     "name": "stdout",
     "output_type": "stream",
     "text": [
      "Help on built-in function any in module builtins:\n",
      "\n",
      "any(iterable, /)\n",
      "    Return True if bool(x) is True for any x in the iterable.\n",
      "    \n",
      "    If the iterable is empty, return False.\n",
      "\n"
     ]
    }
   ],
   "source": [
    "help(any)"
   ]
  },
  {
   "cell_type": "code",
   "execution_count": 1,
   "id": "16ccc7fd-6eae-4e27-b5dd-19221ce21758",
   "metadata": {},
   "outputs": [],
   "source": [
    "#some practice"
   ]
  },
  {
   "cell_type": "code",
   "execution_count": 6,
   "id": "901d2338-61b0-4d98-b4be-cc02294dc67b",
   "metadata": {},
   "outputs": [
    {
     "name": "stdout",
     "output_type": "stream",
     "text": [
      "1 \n",
      "1 2 \n",
      "1 2 3 \n",
      "1 2 3 4 \n",
      "1 2 3 4 5 \n"
     ]
    }
   ],
   "source": [
    "lastnumber = 6\n",
    "for row in range(1,lastnumber):\n",
    "    for column in range(1,row+1):\n",
    "        print (column, end=' ')\n",
    "    print(\"\")\n",
    "        \n",
    "    \n",
    "\n",
    "    "
   ]
  },
  {
   "cell_type": "code",
   "execution_count": null,
   "id": "bb58b7c6-438f-423c-967b-f9c16b5b9390",
   "metadata": {},
   "outputs": [],
   "source": []
  }
 ],
 "metadata": {
  "kernelspec": {
   "display_name": "Python 3",
   "language": "python",
   "name": "python3"
  },
  "language_info": {
   "codemirror_mode": {
    "name": "ipython",
    "version": 3
   },
   "file_extension": ".py",
   "mimetype": "text/x-python",
   "name": "python",
   "nbconvert_exporter": "python",
   "pygments_lexer": "ipython3",
   "version": "3.9.5"
  }
 },
 "nbformat": 4,
 "nbformat_minor": 5
}
