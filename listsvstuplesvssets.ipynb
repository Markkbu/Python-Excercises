{
 "cells": [
  {
   "cell_type": "code",
   "execution_count": null,
   "id": "ae0d8bfa-ac54-498b-a484-53c1964038bb",
   "metadata": {
    "gradient": {
     "editing": false,
     "execution_count": 1,
     "id": "ae0d8bfa-ac54-498b-a484-53c1964038bb",
     "kernelId": "7babbc86-f53b-4581-819a-42c6f3c0997f"
    }
   },
   "outputs": [],
   "source": [
    "#list and tuple allow us to work with sequencial data"
   ]
  },
  {
   "cell_type": "code",
   "execution_count": null,
   "id": "8c79dabf-62a0-4761-be1a-19d6b8a8007e",
   "metadata": {
    "gradient": {
     "editing": false,
     "execution_count": 2,
     "id": "8c79dabf-62a0-4761-be1a-19d6b8a8007e",
     "kernelId": "7babbc86-f53b-4581-819a-42c6f3c0997f"
    }
   },
   "outputs": [],
   "source": [
    "# set are unordered collections of values iwth no dulicates"
   ]
  },
  {
   "cell_type": "markdown",
   "id": "d28d965a-7a8b-4c4c-9e4d-82e11a0bb319",
   "metadata": {
    "gradient": {
     "editing": false,
     "id": "d28d965a-7a8b-4c4c-9e4d-82e11a0bb319",
     "kernelId": "7babbc86-f53b-4581-819a-42c6f3c0997f"
    }
   },
   "source": [
    "# Lists"
   ]
  },
  {
   "cell_type": "code",
   "execution_count": null,
   "id": "56f07196-86d5-4817-9156-b42259eab2e2",
   "metadata": {
    "gradient": {
     "editing": false,
     "execution_count": 3,
     "id": "56f07196-86d5-4817-9156-b42259eab2e2",
     "kernelId": "7babbc86-f53b-4581-819a-42c6f3c0997f"
    }
   },
   "outputs": [],
   "source": [
    "courses = ['History', 'Math', 'Physics', 'ComSci']"
   ]
  },
  {
   "cell_type": "code",
   "execution_count": null,
   "id": "b49d7d16-0ef2-4b5c-890e-e5a12ab3b74f",
   "metadata": {
    "gradient": {
     "editing": false,
     "execution_count": 5,
     "id": "b49d7d16-0ef2-4b5c-890e-e5a12ab3b74f",
     "kernelId": "7babbc86-f53b-4581-819a-42c6f3c0997f"
    }
   },
   "outputs": [
    {
     "name": "stdout",
     "output_type": "stream",
     "text": [
      "4\n"
     ]
    }
   ],
   "source": [
    "print(len(courses))"
   ]
  },
  {
   "cell_type": "code",
   "execution_count": null,
   "id": "985fa492-65ec-4a62-9f86-5f136d88aea1",
   "metadata": {
    "gradient": {
     "editing": false,
     "execution_count": 6,
     "id": "985fa492-65ec-4a62-9f86-5f136d88aea1",
     "kernelId": "7babbc86-f53b-4581-819a-42c6f3c0997f"
    }
   },
   "outputs": [
    {
     "name": "stdout",
     "output_type": "stream",
     "text": [
      "History\n"
     ]
    }
   ],
   "source": [
    "print(courses[0])"
   ]
  },
  {
   "cell_type": "markdown",
   "id": "665664a3-cac0-4c7e-82b5-1be41cda3a9d",
   "metadata": {
    "gradient": {
     "editing": false,
     "id": "665664a3-cac0-4c7e-82b5-1be41cda3a9d",
     "kernelId": "7babbc86-f53b-4581-819a-42c6f3c0997f"
    }
   },
   "source": [
    "# List methods"
   ]
  },
  {
   "cell_type": "code",
   "execution_count": null,
   "id": "6e23d7c9-fad7-4f87-b392-3c799133a18f",
   "metadata": {
    "gradient": {
     "editing": false,
     "execution_count": 16,
     "id": "6e23d7c9-fad7-4f87-b392-3c799133a18f",
     "kernelId": "7babbc86-f53b-4581-819a-42c6f3c0997f"
    }
   },
   "outputs": [],
   "source": [
    "courses.append('Art')"
   ]
  },
  {
   "cell_type": "code",
   "execution_count": null,
   "id": "bc3c269c-5470-41c0-8fe3-589a024cc3bf",
   "metadata": {
    "gradient": {
     "editing": false,
     "execution_count": 17,
     "id": "bc3c269c-5470-41c0-8fe3-589a024cc3bf",
     "kernelId": "7babbc86-f53b-4581-819a-42c6f3c0997f"
    }
   },
   "outputs": [
    {
     "data": {
      "text/plain": [
       "['History', 'Math', 'Physics', 'ComSci', 'Art']"
      ]
     },
     "execution_count": 17,
     "metadata": {},
     "output_type": "execute_result"
    }
   ],
   "source": [
    "courses"
   ]
  },
  {
   "cell_type": "code",
   "execution_count": null,
   "id": "88ac6c7c-ea0c-45a6-bcdb-02a846b3d9c6",
   "metadata": {
    "gradient": {
     "editing": false,
     "execution_count": 19,
     "id": "88ac6c7c-ea0c-45a6-bcdb-02a846b3d9c6",
     "kernelId": "7babbc86-f53b-4581-819a-42c6f3c0997f"
    }
   },
   "outputs": [],
   "source": [
    "courses.insert(0,'Art')"
   ]
  },
  {
   "cell_type": "code",
   "execution_count": null,
   "id": "03790f0e-15bb-4f6f-b194-411ff01c0934",
   "metadata": {
    "gradient": {
     "editing": false,
     "execution_count": 20,
     "id": "03790f0e-15bb-4f6f-b194-411ff01c0934",
     "kernelId": "7babbc86-f53b-4581-819a-42c6f3c0997f"
    }
   },
   "outputs": [
    {
     "data": {
      "text/plain": [
       "['Art', 'History', 'Math', 'Physics', 'ComSci', 'Art']"
      ]
     },
     "execution_count": 20,
     "metadata": {},
     "output_type": "execute_result"
    }
   ],
   "source": [
    "courses"
   ]
  },
  {
   "cell_type": "code",
   "execution_count": null,
   "id": "abdba0fd-0b98-41d8-9685-4f97dd4f9241",
   "metadata": {
    "gradient": {
     "execution_count": 23,
     "id": "abdba0fd-0b98-41d8-9685-4f97dd4f9241",
     "kernelId": "7babbc86-f53b-4581-819a-42c6f3c0997f"
    }
   },
   "outputs": [],
   "source": [
    "courses2 = ['Art', 'Education']\n",
    "courses.insert(0, courses2)"
   ]
  },
  {
   "cell_type": "code",
   "execution_count": null,
   "id": "349d3ef5-a267-4e1f-8e2e-f9f9d4f59be7",
   "metadata": {
    "gradient": {
     "execution_count": 25,
     "id": "349d3ef5-a267-4e1f-8e2e-f9f9d4f59be7",
     "kernelId": "7babbc86-f53b-4581-819a-42c6f3c0997f"
    }
   },
   "outputs": [
    {
     "data": {
      "text/plain": [
       "['Art', 'History', 'Math', 'Physics', 'ComSci', 'Art']"
      ]
     },
     "execution_count": 25,
     "metadata": {},
     "output_type": "execute_result"
    }
   ],
   "source": [
    "courses.pop(0)\n",
    "courses"
   ]
  },
  {
   "cell_type": "code",
   "execution_count": null,
   "id": "e3df5634-6abf-4afa-a096-d002eea2fef0",
   "metadata": {
    "gradient": {
     "execution_count": 26,
     "id": "e3df5634-6abf-4afa-a096-d002eea2fef0",
     "kernelId": "7babbc86-f53b-4581-819a-42c6f3c0997f"
    }
   },
   "outputs": [
    {
     "data": {
      "text/plain": [
       "'Art'"
      ]
     },
     "execution_count": 26,
     "metadata": {},
     "output_type": "execute_result"
    }
   ],
   "source": [
    "courses.pop(-1)"
   ]
  },
  {
   "cell_type": "code",
   "execution_count": null,
   "id": "498ead0a-2129-4e78-bdd3-a0fa8a95ebb9",
   "metadata": {
    "gradient": {
     "execution_count": 27,
     "id": "498ead0a-2129-4e78-bdd3-a0fa8a95ebb9",
     "kernelId": "7babbc86-f53b-4581-819a-42c6f3c0997f"
    }
   },
   "outputs": [
    {
     "data": {
      "text/plain": [
       "['Art', 'History', 'Math', 'Physics', 'ComSci']"
      ]
     },
     "execution_count": 27,
     "metadata": {},
     "output_type": "execute_result"
    }
   ],
   "source": [
    "courses"
   ]
  },
  {
   "cell_type": "code",
   "execution_count": null,
   "id": "8e9d9cd5-57fc-4088-9814-fa2116987c72",
   "metadata": {
    "gradient": {
     "execution_count": 28,
     "id": "8e9d9cd5-57fc-4088-9814-fa2116987c72",
     "kernelId": "7babbc86-f53b-4581-819a-42c6f3c0997f"
    }
   },
   "outputs": [],
   "source": [
    "courses.extend(courses2)"
   ]
  },
  {
   "cell_type": "code",
   "execution_count": null,
   "id": "b3863681-651d-428a-957f-6f9fb4f8c233",
   "metadata": {
    "gradient": {
     "execution_count": 29,
     "id": "b3863681-651d-428a-957f-6f9fb4f8c233",
     "kernelId": "7babbc86-f53b-4581-819a-42c6f3c0997f"
    }
   },
   "outputs": [
    {
     "data": {
      "text/plain": [
       "['Art', 'History', 'Math', 'Physics', 'ComSci', 'Art', 'Education']"
      ]
     },
     "execution_count": 29,
     "metadata": {},
     "output_type": "execute_result"
    }
   ],
   "source": [
    "courses"
   ]
  },
  {
   "cell_type": "code",
   "execution_count": null,
   "id": "cb973332-0a1b-4f9a-85f0-595fdaf1e10b",
   "metadata": {
    "gradient": {
     "execution_count": 30,
     "id": "cb973332-0a1b-4f9a-85f0-595fdaf1e10b",
     "kernelId": "7babbc86-f53b-4581-819a-42c6f3c0997f"
    }
   },
   "outputs": [],
   "source": [
    "# this is a good example of putting multiple values in the list...\n",
    "#.append would have a added a list to the list"
   ]
  },
  {
   "cell_type": "code",
   "execution_count": null,
   "id": "1702b457-3500-4927-b1ea-06000c6cd3ab",
   "metadata": {
    "gradient": {
     "execution_count": 31,
     "id": "1702b457-3500-4927-b1ea-06000c6cd3ab",
     "kernelId": "7babbc86-f53b-4581-819a-42c6f3c0997f"
    }
   },
   "outputs": [],
   "source": [
    "courses.reverse()"
   ]
  },
  {
   "cell_type": "code",
   "execution_count": null,
   "id": "7bcf7f81-8435-4fd0-863e-d49fc4a9b1fb",
   "metadata": {
    "gradient": {
     "execution_count": 32,
     "id": "7bcf7f81-8435-4fd0-863e-d49fc4a9b1fb",
     "kernelId": "7babbc86-f53b-4581-819a-42c6f3c0997f"
    }
   },
   "outputs": [
    {
     "data": {
      "text/plain": [
       "['Education', 'Art', 'ComSci', 'Physics', 'Math', 'History', 'Art']"
      ]
     },
     "execution_count": 32,
     "metadata": {},
     "output_type": "execute_result"
    }
   ],
   "source": [
    "courses"
   ]
  },
  {
   "cell_type": "code",
   "execution_count": null,
   "id": "de6fb479-f19a-4ec3-bd41-4f88b7585c32",
   "metadata": {
    "gradient": {
     "execution_count": 33,
     "id": "de6fb479-f19a-4ec3-bd41-4f88b7585c32",
     "kernelId": "7babbc86-f53b-4581-819a-42c6f3c0997f"
    }
   },
   "outputs": [
    {
     "data": {
      "text/plain": [
       "['Art', 'Art', 'ComSci', 'Education', 'History', 'Math', 'Physics']"
      ]
     },
     "execution_count": 33,
     "metadata": {},
     "output_type": "execute_result"
    }
   ],
   "source": [
    "courses.sort()\n",
    "courses"
   ]
  },
  {
   "cell_type": "code",
   "execution_count": null,
   "id": "ce6855f3-7dc6-45e9-b334-5fcb1baada21",
   "metadata": {
    "gradient": {
     "execution_count": 34,
     "id": "ce6855f3-7dc6-45e9-b334-5fcb1baada21",
     "kernelId": "7babbc86-f53b-4581-819a-42c6f3c0997f"
    }
   },
   "outputs": [],
   "source": [
    "nums = [1,5,4,3]"
   ]
  },
  {
   "cell_type": "code",
   "execution_count": null,
   "id": "a98549a6-3f6b-402d-91a6-9aaa523b6a05",
   "metadata": {
    "gradient": {
     "execution_count": 35,
     "id": "a98549a6-3f6b-402d-91a6-9aaa523b6a05",
     "kernelId": "7babbc86-f53b-4581-819a-42c6f3c0997f"
    }
   },
   "outputs": [
    {
     "data": {
      "text/plain": [
       "[1, 3, 4, 5]"
      ]
     },
     "execution_count": 35,
     "metadata": {},
     "output_type": "execute_result"
    }
   ],
   "source": [
    "nums.sort()\n",
    "nums"
   ]
  },
  {
   "cell_type": "code",
   "execution_count": null,
   "id": "86c7ae19-ce0a-4127-98d4-cae33317a492",
   "metadata": {
    "gradient": {
     "execution_count": 36,
     "id": "86c7ae19-ce0a-4127-98d4-cae33317a492",
     "kernelId": "7babbc86-f53b-4581-819a-42c6f3c0997f"
    }
   },
   "outputs": [
    {
     "data": {
      "text/plain": [
       "[5, 4, 3, 1]"
      ]
     },
     "execution_count": 36,
     "metadata": {},
     "output_type": "execute_result"
    }
   ],
   "source": [
    "nums.sort(reverse=True)\n",
    "nums"
   ]
  },
  {
   "cell_type": "code",
   "execution_count": null,
   "id": "2066e558-c18e-44a2-b2fb-4f0e53a04894",
   "metadata": {
    "gradient": {
     "execution_count": 38,
     "id": "2066e558-c18e-44a2-b2fb-4f0e53a04894",
     "kernelId": "7babbc86-f53b-4581-819a-42c6f3c0997f"
    }
   },
   "outputs": [
    {
     "name": "stdout",
     "output_type": "stream",
     "text": [
      "5\n"
     ]
    }
   ],
   "source": [
    "print(max(nums))"
   ]
  },
  {
   "cell_type": "code",
   "execution_count": null,
   "id": "ac8852f2-ec6f-47a7-959c-1cd1ea5893fe",
   "metadata": {
    "gradient": {
     "execution_count": 39,
     "id": "ac8852f2-ec6f-47a7-959c-1cd1ea5893fe",
     "kernelId": "7babbc86-f53b-4581-819a-42c6f3c0997f"
    }
   },
   "outputs": [
    {
     "name": "stdout",
     "output_type": "stream",
     "text": [
      "13\n"
     ]
    }
   ],
   "source": [
    "print(sum(nums))"
   ]
  },
  {
   "cell_type": "code",
   "execution_count": null,
   "id": "f04c72dc-fcdb-4884-b98e-1162a01f0fdb",
   "metadata": {
    "gradient": {
     "execution_count": 40,
     "id": "f04c72dc-fcdb-4884-b98e-1162a01f0fdb",
     "kernelId": "7babbc86-f53b-4581-819a-42c6f3c0997f"
    }
   },
   "outputs": [
    {
     "name": "stdout",
     "output_type": "stream",
     "text": [
      "5\n"
     ]
    }
   ],
   "source": [
    "print(courses.index('Math'))"
   ]
  },
  {
   "cell_type": "code",
   "execution_count": null,
   "id": "f2035cfc-9575-4177-97a1-a0b10efe62da",
   "metadata": {
    "gradient": {
     "execution_count": 41,
     "id": "f2035cfc-9575-4177-97a1-a0b10efe62da",
     "kernelId": "7babbc86-f53b-4581-819a-42c6f3c0997f"
    }
   },
   "outputs": [
    {
     "name": "stdout",
     "output_type": "stream",
     "text": [
      "False\n"
     ]
    }
   ],
   "source": [
    "print('Gym' in courses)"
   ]
  },
  {
   "cell_type": "code",
   "execution_count": null,
   "id": "f4d96cec-b1b0-4dd6-82c3-44c41efef902",
   "metadata": {
    "gradient": {
     "execution_count": 42,
     "id": "f4d96cec-b1b0-4dd6-82c3-44c41efef902",
     "kernelId": "7babbc86-f53b-4581-819a-42c6f3c0997f"
    }
   },
   "outputs": [
    {
     "name": "stdout",
     "output_type": "stream",
     "text": [
      "True\n"
     ]
    }
   ],
   "source": [
    "print('Math' in courses)"
   ]
  },
  {
   "cell_type": "code",
   "execution_count": null,
   "id": "896f80e4-00e2-447d-ace1-0de03a606d70",
   "metadata": {
    "gradient": {
     "execution_count": 43,
     "id": "896f80e4-00e2-447d-ace1-0de03a606d70",
     "kernelId": "7babbc86-f53b-4581-819a-42c6f3c0997f"
    }
   },
   "outputs": [
    {
     "name": "stdout",
     "output_type": "stream",
     "text": [
      "Art\n",
      "Art\n",
      "ComSci\n",
      "Education\n",
      "History\n",
      "Math\n",
      "Physics\n"
     ]
    }
   ],
   "source": [
    "for i in courses:\n",
    "    print(i)"
   ]
  },
  {
   "cell_type": "code",
   "execution_count": null,
   "id": "8ef74aa0-a3b8-4513-9133-6c85f90c67c0",
   "metadata": {
    "gradient": {
     "execution_count": 44,
     "id": "8ef74aa0-a3b8-4513-9133-6c85f90c67c0",
     "kernelId": "7babbc86-f53b-4581-819a-42c6f3c0997f"
    }
   },
   "outputs": [
    {
     "data": {
      "text/plain": [
       "'Art'"
      ]
     },
     "execution_count": 44,
     "metadata": {},
     "output_type": "execute_result"
    }
   ],
   "source": [
    "courses.pop(0)"
   ]
  },
  {
   "cell_type": "code",
   "execution_count": null,
   "id": "4b785581-3348-4196-8c0c-dd646e8675f4",
   "metadata": {
    "gradient": {
     "execution_count": 45,
     "id": "4b785581-3348-4196-8c0c-dd646e8675f4",
     "kernelId": "7babbc86-f53b-4581-819a-42c6f3c0997f"
    }
   },
   "outputs": [
    {
     "name": "stdout",
     "output_type": "stream",
     "text": [
      "Art\n",
      "ComSci\n",
      "Education\n",
      "History\n",
      "Math\n",
      "Physics\n"
     ]
    }
   ],
   "source": [
    "for i in courses:\n",
    "    print(i)"
   ]
  },
  {
   "cell_type": "code",
   "execution_count": null,
   "id": "74f0b3e2-420c-4b92-a443-9f432f809bf8",
   "metadata": {
    "gradient": {
     "execution_count": 46,
     "id": "74f0b3e2-420c-4b92-a443-9f432f809bf8",
     "kernelId": "7babbc86-f53b-4581-819a-42c6f3c0997f"
    }
   },
   "outputs": [
    {
     "name": "stdout",
     "output_type": "stream",
     "text": [
      "0 Art\n",
      "1 ComSci\n",
      "2 Education\n",
      "3 History\n",
      "4 Math\n",
      "5 Physics\n"
     ]
    }
   ],
   "source": [
    "for index, item in enumerate(courses):\n",
    "    print(index, item)"
   ]
  },
  {
   "cell_type": "code",
   "execution_count": null,
   "id": "608b7dce-b2d2-46af-afaa-6476d5256343",
   "metadata": {
    "gradient": {
     "execution_count": 47,
     "id": "608b7dce-b2d2-46af-afaa-6476d5256343",
     "kernelId": "7babbc86-f53b-4581-819a-42c6f3c0997f"
    }
   },
   "outputs": [
    {
     "name": "stdout",
     "output_type": "stream",
     "text": [
      "1 Art\n",
      "2 ComSci\n",
      "3 Education\n",
      "4 History\n",
      "5 Math\n",
      "6 Physics\n"
     ]
    }
   ],
   "source": [
    "for index, item in enumerate(courses, start=1):\n",
    "    print(index, item)"
   ]
  },
  {
   "cell_type": "code",
   "execution_count": null,
   "id": "b59c9705-ff4d-47ec-bca9-c2bff5d052ed",
   "metadata": {
    "gradient": {
     "execution_count": 48,
     "id": "b59c9705-ff4d-47ec-bca9-c2bff5d052ed",
     "kernelId": "7babbc86-f53b-4581-819a-42c6f3c0997f"
    }
   },
   "outputs": [],
   "source": [
    "course_str = ', '.join(courses)"
   ]
  },
  {
   "cell_type": "code",
   "execution_count": null,
   "id": "10133086-f9e5-4957-8d91-a70d5aa088cd",
   "metadata": {
    "gradient": {
     "execution_count": 49,
     "id": "10133086-f9e5-4957-8d91-a70d5aa088cd",
     "kernelId": "7babbc86-f53b-4581-819a-42c6f3c0997f"
    }
   },
   "outputs": [
    {
     "data": {
      "text/plain": [
       "'Art, ComSci, Education, History, Math, Physics'"
      ]
     },
     "execution_count": 49,
     "metadata": {},
     "output_type": "execute_result"
    }
   ],
   "source": [
    "course_str"
   ]
  },
  {
   "cell_type": "code",
   "execution_count": null,
   "id": "eb6aaa2e-4b15-4a6a-ba24-b711a8e022a0",
   "metadata": {
    "gradient": {
     "execution_count": 50,
     "id": "eb6aaa2e-4b15-4a6a-ba24-b711a8e022a0",
     "kernelId": "7babbc86-f53b-4581-819a-42c6f3c0997f"
    }
   },
   "outputs": [],
   "source": [
    "course_str = ' - '.join(courses)"
   ]
  },
  {
   "cell_type": "code",
   "execution_count": null,
   "id": "198a1800-15e8-4af9-ac64-4e09d960107a",
   "metadata": {
    "gradient": {
     "execution_count": 51,
     "id": "198a1800-15e8-4af9-ac64-4e09d960107a",
     "kernelId": "7babbc86-f53b-4581-819a-42c6f3c0997f"
    }
   },
   "outputs": [
    {
     "data": {
      "text/plain": [
       "'Art - ComSci - Education - History - Math - Physics'"
      ]
     },
     "execution_count": 51,
     "metadata": {},
     "output_type": "execute_result"
    }
   ],
   "source": [
    "course_str"
   ]
  },
  {
   "cell_type": "code",
   "execution_count": null,
   "id": "30ba8997-5d18-42dc-b222-320743788343",
   "metadata": {
    "gradient": {
     "execution_count": 52,
     "id": "30ba8997-5d18-42dc-b222-320743788343",
     "kernelId": "7babbc86-f53b-4581-819a-42c6f3c0997f"
    }
   },
   "outputs": [
    {
     "data": {
      "text/plain": [
       "['Art', 'ComSci', 'Education', 'History', 'Math', 'Physics']"
      ]
     },
     "execution_count": 52,
     "metadata": {},
     "output_type": "execute_result"
    }
   ],
   "source": [
    "new_list = course_str.split(' - ')\n",
    "new_list"
   ]
  },
  {
   "cell_type": "markdown",
   "id": "81be76c3-f6fd-43bb-8ede-ee7aa5ac3705",
   "metadata": {},
   "source": [
    "# Tuples and sets"
   ]
  },
  {
   "cell_type": "code",
   "execution_count": null,
   "id": "66b361ff-9a58-4813-95e0-615a1322edb2",
   "metadata": {
    "gradient": {
     "execution_count": 53,
     "id": "66b361ff-9a58-4813-95e0-615a1322edb2",
     "kernelId": "7babbc86-f53b-4581-819a-42c6f3c0997f"
    }
   },
   "outputs": [],
   "source": [
    "# we can't modify tuples. this means that they are immutible"
   ]
  },
  {
   "cell_type": "code",
   "execution_count": null,
   "id": "bc275af1-1dba-4ff0-a775-1deb6fb09f42",
   "metadata": {
    "gradient": {
     "execution_count": 54,
     "id": "bc275af1-1dba-4ff0-a775-1deb6fb09f42",
     "kernelId": "7babbc86-f53b-4581-819a-42c6f3c0997f"
    }
   },
   "outputs": [],
   "source": [
    "tuple1 = ('History', 'Math', 'Physics', 'CompSci')\n",
    "tuple2 = tuple1"
   ]
  },
  {
   "cell_type": "code",
   "execution_count": null,
   "id": "1458534d-b8a0-42ce-9c72-101f934db07a",
   "metadata": {
    "gradient": {
     "execution_count": 55,
     "id": "1458534d-b8a0-42ce-9c72-101f934db07a",
     "kernelId": "7babbc86-f53b-4581-819a-42c6f3c0997f"
    }
   },
   "outputs": [
    {
     "name": "stdout",
     "output_type": "stream",
     "text": [
      "('History', 'Math', 'Physics', 'CompSci')\n",
      "('History', 'Math', 'Physics', 'CompSci')\n"
     ]
    }
   ],
   "source": [
    "print (tuple1)\n",
    "print(tuple2)"
   ]
  },
  {
   "cell_type": "code",
   "execution_count": null,
   "id": "8bdce653-ee4f-432d-aada-980cbc401133",
   "metadata": {
    "gradient": {
     "execution_count": 56,
     "id": "8bdce653-ee4f-432d-aada-980cbc401133",
     "kernelId": "7babbc86-f53b-4581-819a-42c6f3c0997f"
    }
   },
   "outputs": [
    {
     "ename": "TypeError",
     "evalue": "'tuple' object does not support item assignment",
     "output_type": "error",
     "traceback": [
      "\u001b[0;31m---------------------------------------------------------------------------\u001b[0m",
      "\u001b[0;31mTypeError\u001b[0m                                 Traceback (most recent call last)",
      "\u001b[0;32m<ipython-input-56-7bd7e98b0a46>\u001b[0m in \u001b[0;36m<module>\u001b[0;34m\u001b[0m\n\u001b[0;32m----> 1\u001b[0;31m \u001b[0mtuple1\u001b[0m\u001b[0;34m[\u001b[0m\u001b[0;36m0\u001b[0m\u001b[0;34m]\u001b[0m \u001b[0;34m=\u001b[0m \u001b[0;34m'Art'\u001b[0m\u001b[0;34m\u001b[0m\u001b[0;34m\u001b[0m\u001b[0m\n\u001b[0m",
      "\u001b[0;31mTypeError\u001b[0m: 'tuple' object does not support item assignment"
     ]
    }
   ],
   "source": [
    "tuple1[0] = 'Art' "
   ]
  },
  {
   "cell_type": "code",
   "execution_count": null,
   "id": "8019a9ed-b1d7-4d09-8dff-eb98c39a4de8",
   "metadata": {
    "gradient": {
     "execution_count": 57,
     "id": "8019a9ed-b1d7-4d09-8dff-eb98c39a4de8",
     "kernelId": "7babbc86-f53b-4581-819a-42c6f3c0997f"
    }
   },
   "outputs": [
    {
     "name": "stdout",
     "output_type": "stream",
     "text": [
      "('History', 'Math', 'Physics', 'CompSci')\n",
      "('History', 'Math', 'Physics', 'CompSci')\n"
     ]
    }
   ],
   "source": [
    "print (tuple1)\n",
    "print(tuple2)"
   ]
  },
  {
   "cell_type": "code",
   "execution_count": null,
   "id": "663b4aeb-03fb-45e2-b714-ff289fdc0cf8",
   "metadata": {
    "gradient": {
     "execution_count": 58,
     "id": "663b4aeb-03fb-45e2-b714-ff289fdc0cf8",
     "kernelId": "7babbc86-f53b-4581-819a-42c6f3c0997f"
    }
   },
   "outputs": [],
   "source": [
    "# see, they don't change"
   ]
  },
  {
   "cell_type": "markdown",
   "id": "0287afe1-2938-4d28-8f6a-849f5e4ab88b",
   "metadata": {},
   "source": [
    "# Sets"
   ]
  },
  {
   "cell_type": "code",
   "execution_count": null,
   "id": "d751d322-d522-4a9e-9513-b9401c688533",
   "metadata": {
    "gradient": {
     "execution_count": 59,
     "id": "d751d322-d522-4a9e-9513-b9401c688533",
     "kernelId": "7babbc86-f53b-4581-819a-42c6f3c0997f"
    }
   },
   "outputs": [],
   "source": [
    "# unordered and no duplicates"
   ]
  },
  {
   "cell_type": "code",
   "execution_count": null,
   "id": "6a3b74e3-f8da-4d52-8dc1-76464b568f1a",
   "metadata": {
    "gradient": {
     "execution_count": 60,
     "id": "6a3b74e3-f8da-4d52-8dc1-76464b568f1a",
     "kernelId": "7babbc86-f53b-4581-819a-42c6f3c0997f"
    }
   },
   "outputs": [],
   "source": [
    "cs_courses = {'History', 'Math', 'Physics', 'CompSci', 'Math'}"
   ]
  },
  {
   "cell_type": "code",
   "execution_count": null,
   "id": "831798d6-1955-448b-af2a-d002e403834b",
   "metadata": {
    "gradient": {
     "execution_count": 61,
     "id": "831798d6-1955-448b-af2a-d002e403834b",
     "kernelId": "7babbc86-f53b-4581-819a-42c6f3c0997f"
    }
   },
   "outputs": [
    {
     "name": "stdout",
     "output_type": "stream",
     "text": [
      "{'Physics', 'CompSci', 'Math', 'History'}\n"
     ]
    }
   ],
   "source": [
    "print(cs_courses)"
   ]
  },
  {
   "cell_type": "code",
   "execution_count": null,
   "id": "0e0a4be2-368c-4204-988e-03e46eb34883",
   "metadata": {
    "gradient": {
     "execution_count": 62,
     "id": "0e0a4be2-368c-4204-988e-03e46eb34883",
     "kernelId": "7babbc86-f53b-4581-819a-42c6f3c0997f"
    }
   },
   "outputs": [
    {
     "name": "stdout",
     "output_type": "stream",
     "text": [
      "{'Physics', 'CompSci', 'Math', 'History'}\n"
     ]
    }
   ],
   "source": [
    "print(cs_courses)"
   ]
  },
  {
   "cell_type": "code",
   "execution_count": null,
   "id": "93ac42d6-2ae7-40b1-a6fd-711b2e967e76",
   "metadata": {
    "gradient": {
     "execution_count": 64,
     "id": "93ac42d6-2ae7-40b1-a6fd-711b2e967e76",
     "kernelId": "7babbc86-f53b-4581-819a-42c6f3c0997f"
    }
   },
   "outputs": [
    {
     "name": "stdout",
     "output_type": "stream",
     "text": [
      "True\n"
     ]
    }
   ],
   "source": [
    "print('Math' in cs_courses)"
   ]
  },
  {
   "cell_type": "code",
   "execution_count": null,
   "id": "68aa8e95-399a-4a83-894b-f09eb8632dec",
   "metadata": {
    "gradient": {
     "execution_count": 65,
     "id": "68aa8e95-399a-4a83-894b-f09eb8632dec",
     "kernelId": "7babbc86-f53b-4581-819a-42c6f3c0997f"
    }
   },
   "outputs": [],
   "source": [
    "art_courses = {'History', 'Math', 'Art', 'Design'}"
   ]
  },
  {
   "cell_type": "code",
   "execution_count": null,
   "id": "8e65ceda-0a30-4907-9873-8d11686e5370",
   "metadata": {
    "gradient": {
     "execution_count": 67,
     "id": "8e65ceda-0a30-4907-9873-8d11686e5370",
     "kernelId": "7babbc86-f53b-4581-819a-42c6f3c0997f"
    }
   },
   "outputs": [
    {
     "name": "stdout",
     "output_type": "stream",
     "text": [
      "{'Math', 'History'}\n"
     ]
    }
   ],
   "source": [
    "print(cs_courses.intersection(art_courses))"
   ]
  },
  {
   "cell_type": "code",
   "execution_count": null,
   "id": "68b5dbd7-5fab-4bec-90d9-2bf8eba32939",
   "metadata": {
    "gradient": {
     "execution_count": 70,
     "id": "68b5dbd7-5fab-4bec-90d9-2bf8eba32939",
     "kernelId": "7babbc86-f53b-4581-819a-42c6f3c0997f"
    }
   },
   "outputs": [
    {
     "name": "stdout",
     "output_type": "stream",
     "text": [
      "{'Physics', 'CompSci'}\n"
     ]
    }
   ],
   "source": [
    "print(cs_courses.difference(art_courses))"
   ]
  },
  {
   "cell_type": "code",
   "execution_count": null,
   "id": "b6d62256-e106-4950-8e7f-df252daac489",
   "metadata": {
    "gradient": {
     "execution_count": 72,
     "id": "b6d62256-e106-4950-8e7f-df252daac489",
     "kernelId": "7babbc86-f53b-4581-819a-42c6f3c0997f"
    }
   },
   "outputs": [
    {
     "name": "stdout",
     "output_type": "stream",
     "text": [
      "{'Math', 'Art', 'CompSci', 'History', 'Physics', 'Design'}\n"
     ]
    }
   ],
   "source": [
    "print(cs_courses.union(art_courses))"
   ]
  },
  {
   "cell_type": "markdown",
   "id": "1e45808a-bd9a-45eb-910d-3cb0d6bc692c",
   "metadata": {},
   "source": [
    "## how to create empty lists, tuples, and sets"
   ]
  },
  {
   "cell_type": "code",
   "execution_count": null,
   "id": "4f5f1f3b-217d-4ed7-aec0-10308881524c",
   "metadata": {
    "gradient": {
     "execution_count": 73,
     "id": "4f5f1f3b-217d-4ed7-aec0-10308881524c",
     "kernelId": "7babbc86-f53b-4581-819a-42c6f3c0997f"
    }
   },
   "outputs": [],
   "source": [
    "empty_list = []\n",
    "empty_list = list()\n",
    "#you can use either"
   ]
  },
  {
   "cell_type": "code",
   "execution_count": null,
   "id": "43bfb5e1-2ae9-49c1-8111-87272e98a431",
   "metadata": {
    "gradient": {
     "execution_count": 74,
     "id": "43bfb5e1-2ae9-49c1-8111-87272e98a431",
     "kernelId": "7babbc86-f53b-4581-819a-42c6f3c0997f"
    }
   },
   "outputs": [],
   "source": [
    "empty_tuple = ()\n",
    "empty_tuple = tuple()\n",
    "#either"
   ]
  },
  {
   "cell_type": "code",
   "execution_count": null,
   "id": "90ad7fd6-738b-4412-bf74-2320a61c3544",
   "metadata": {
    "gradient": {
     "execution_count": 75,
     "id": "90ad7fd6-738b-4412-bf74-2320a61c3544",
     "kernelId": "7babbc86-f53b-4581-819a-42c6f3c0997f"
    }
   },
   "outputs": [],
   "source": [
    "empty_set = set()\n",
    "#just one option"
   ]
  },
  {
   "cell_type": "code",
   "execution_count": null,
   "id": "46f2585d-ff82-4384-a985-762f1a405504",
   "metadata": {
    "gradient": {
     "id": "46f2585d-ff82-4384-a985-762f1a405504",
     "kernelId": "7babbc86-f53b-4581-819a-42c6f3c0997f"
    }
   },
   "outputs": [],
   "source": []
  }
 ],
 "metadata": {
  "kernelspec": {
   "display_name": "Python 3",
   "language": "python",
   "name": "python3"
  },
  "language_info": {
   "codemirror_mode": {
    "name": "ipython",
    "version": 3
   },
   "file_extension": ".py",
   "mimetype": "text/x-python",
   "name": "python",
   "nbconvert_exporter": "python",
   "pygments_lexer": "ipython3",
   "version": "3.9.5"
  }
 },
 "nbformat": 4,
 "nbformat_minor": 5
}
