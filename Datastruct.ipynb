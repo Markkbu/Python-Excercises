{
 "cells": [
  {
   "cell_type": "code",
   "execution_count": 1,
   "id": "514e6c4c-f840-4409-8528-855b819310ae",
   "metadata": {},
   "outputs": [],
   "source": [
    "list1 = [3,6,9,12,15,18,21]\n",
    "list2 = [4,8,12,16,20,24,28]"
   ]
  },
  {
   "cell_type": "code",
   "execution_count": 2,
   "id": "574a3326-852f-401a-b2ab-a74f54ddc0c9",
   "metadata": {},
   "outputs": [],
   "source": [
    "# make a 3rd list by mixing the even of list1 with the odd of list2"
   ]
  },
  {
   "cell_type": "code",
   "execution_count": 3,
   "id": "f2500fba-25a6-45c3-a364-421762aa451e",
   "metadata": {},
   "outputs": [],
   "source": [
    "list3 = list1[1::2]+list2[0::2]"
   ]
  },
  {
   "cell_type": "code",
   "execution_count": 4,
   "id": "9bc3bd45-045d-4315-b1a9-95ec39650fee",
   "metadata": {},
   "outputs": [
    {
     "data": {
      "text/plain": [
       "[6, 12, 18, 4, 12, 20, 28]"
      ]
     },
     "execution_count": 4,
     "metadata": {},
     "output_type": "execute_result"
    }
   ],
   "source": [
    "list3"
   ]
  },
  {
   "cell_type": "code",
   "execution_count": 5,
   "id": "76bcb2c8-be92-4ec4-b916-e9a894126b16",
   "metadata": {},
   "outputs": [
    {
     "data": {
      "text/plain": [
       "11"
      ]
     },
     "execution_count": 5,
     "metadata": {},
     "output_type": "execute_result"
    }
   ],
   "source": [
    "list1 = [34,54,67,89,11,43,94]\n",
    "\n",
    "element = list1[4]\n",
    "element"
   ]
  },
  {
   "cell_type": "code",
   "execution_count": 6,
   "id": "3e31095f-1d57-4dd4-8e2d-63b6f0f6d3ad",
   "metadata": {},
   "outputs": [
    {
     "data": {
      "text/plain": [
       "[34, 54, 67, 89, 43, 94]"
      ]
     },
     "execution_count": 6,
     "metadata": {},
     "output_type": "execute_result"
    }
   ],
   "source": [
    "element = list1.pop(4)\n",
    "list1"
   ]
  },
  {
   "cell_type": "code",
   "execution_count": 7,
   "id": "527ea8ce-7d53-456c-a7ec-9a09a89f8bde",
   "metadata": {},
   "outputs": [
    {
     "data": {
      "text/plain": [
       "[34, 54, 11, 67, 89, 43, 94]"
      ]
     },
     "execution_count": 7,
     "metadata": {},
     "output_type": "execute_result"
    }
   ],
   "source": [
    "list1.insert(2,element)\n",
    "list1"
   ]
  },
  {
   "cell_type": "code",
   "execution_count": 8,
   "id": "39bc45d9-b982-413c-a214-f45fb4095295",
   "metadata": {},
   "outputs": [
    {
     "data": {
      "text/plain": [
       "[34, 54, 11, 67, 89, 43, 94, 11]"
      ]
     },
     "execution_count": 8,
     "metadata": {},
     "output_type": "execute_result"
    }
   ],
   "source": [
    "list1.append(element)\n",
    "list1"
   ]
  },
  {
   "cell_type": "code",
   "execution_count": 9,
   "id": "263b3dbe-f696-4d69-a27b-468dc3fa81fe",
   "metadata": {},
   "outputs": [
    {
     "name": "stdout",
     "output_type": "stream",
     "text": [
      "[8, 45, 11] [12, 14, 23] [89, 45, 78]\n"
     ]
    }
   ],
   "source": [
    "list1 = [11,45,8,23,14,12,78,45,89]\n",
    "list2=list1[:3:]\n",
    "list3=list1[3:6:]\n",
    "list4=list1[6::]\n",
    "print(list2[::-1], list3[::-1], list4[::-1])"
   ]
  },
  {
   "cell_type": "code",
   "execution_count": 10,
   "id": "66442463-ffcf-46f4-8f31-c414e738e19e",
   "metadata": {},
   "outputs": [],
   "source": [
    "list1 = [11,45,8,11,23,45,23,45,89]\n"
   ]
  },
  {
   "cell_type": "code",
   "execution_count": 22,
   "id": "5a36a316-d3ad-4e0b-9637-3a7ce8cd1df4",
   "metadata": {},
   "outputs": [
    {
     "name": "stdout",
     "output_type": "stream",
     "text": [
      "{11: 2, 45: 3, 8: 1, 23: 2, 89: 1}\n"
     ]
    }
   ],
   "source": [
    "countdict = dict()\n",
    "\n",
    "for i in list1:\n",
    "    if i in countdict:\n",
    "        countdict[i]+=1\n",
    "    else:\n",
    "        countdict[i]=1\n",
    "\n",
    "print(countdict)"
   ]
  },
  {
   "cell_type": "code",
   "execution_count": 27,
   "id": "06128242-b0c4-4fb8-820f-a7677f766d41",
   "metadata": {},
   "outputs": [],
   "source": [
    "list1 = [2,3,4,5,6,7,8]\n",
    "list2= [4,9,16,25,49,64]"
   ]
  },
  {
   "cell_type": "code",
   "execution_count": 28,
   "id": "f2eea972-6ccc-4290-9c70-7c9a7b4ddb3c",
   "metadata": {},
   "outputs": [
    {
     "data": {
      "text/plain": [
       "{(2, 4), (3, 9), (4, 16), (5, 25), (6, 49), (7, 64)}"
      ]
     },
     "execution_count": 28,
     "metadata": {},
     "output_type": "execute_result"
    }
   ],
   "source": [
    "\n",
    "resultset = set(zip(list1,list2))\n",
    "\n",
    "resultset"
   ]
  },
  {
   "cell_type": "code",
   "execution_count": 29,
   "id": "6e5ebd4f-5d59-447a-a2b4-66bbb00f3036",
   "metadata": {},
   "outputs": [],
   "source": [
    "set1 ={65,42,78,83,23,57,29}\n",
    "set2 = {67,73,43,48, 83,57,29}"
   ]
  },
  {
   "cell_type": "code",
   "execution_count": 30,
   "id": "8eb5cea5-a436-4aa0-801e-6072e825876f",
   "metadata": {},
   "outputs": [
    {
     "data": {
      "text/plain": [
       "{29, 57, 83}"
      ]
     },
     "execution_count": 30,
     "metadata": {},
     "output_type": "execute_result"
    }
   ],
   "source": [
    "intersection  = set1.intersection(set2)\n",
    "intersection"
   ]
  },
  {
   "cell_type": "code",
   "execution_count": 31,
   "id": "a202c793-04de-4744-959a-6aa6bbee692f",
   "metadata": {},
   "outputs": [
    {
     "data": {
      "text/plain": [
       "{23, 42, 65, 78}"
      ]
     },
     "execution_count": 31,
     "metadata": {},
     "output_type": "execute_result"
    }
   ],
   "source": [
    "for i in intersection:\n",
    "    set1.remove(i)\n",
    "\n",
    "set1"
   ]
  },
  {
   "cell_type": "code",
   "execution_count": 44,
   "id": "232ade95-aa1a-485f-bc01-351add07e43c",
   "metadata": {},
   "outputs": [],
   "source": [
    "set1 = {57,83,29}\n",
    "set2 = {67,73,43,48,83,57,29}"
   ]
  },
  {
   "cell_type": "code",
   "execution_count": 46,
   "id": "2cd00ebc-8994-4be3-bad6-2bd62297d97e",
   "metadata": {},
   "outputs": [
    {
     "name": "stdout",
     "output_type": "stream",
     "text": [
      "True\n",
      "False\n",
      "False\n",
      "True\n",
      "set() {48, 67, 83, 73, 43, 29, 57}\n"
     ]
    }
   ],
   "source": [
    "print(set1.issubset(set2))\n",
    "print(set2.issubset(set1))\n",
    "\n",
    "print(set1.issuperset(set2))\n",
    "print(set2.issuperset(set1))\n",
    "\n",
    "if(set1.issubset(set2)):\n",
    "   set1.clear()\n",
    "   \n",
    "if(set2.issubset(set1)):\n",
    "   set2.clear()\n",
    "   \n",
    "print(set1,set2)"
   ]
  },
  {
   "cell_type": "code",
   "execution_count": 51,
   "id": "742dbe30-664a-458f-ba48-2213cb735811",
   "metadata": {},
   "outputs": [],
   "source": [
    "rollnum= [47,64,69,37,76,83,95,97]\n",
    "sampledict = {'John':47, 'Emma':69, 'Kelly':76,'Jason':97}"
   ]
  },
  {
   "cell_type": "code",
   "execution_count": 52,
   "id": "e04f3285-7fb7-4ecb-a577-7f6178de2c57",
   "metadata": {},
   "outputs": [
    {
     "data": {
      "text/plain": [
       "[47, 69, 76, 97]"
      ]
     },
     "execution_count": 52,
     "metadata": {},
     "output_type": "execute_result"
    }
   ],
   "source": [
    "rollnum = [i for i in rollnum if i in sampledict.values()]\n",
    "rollnum\n",
    "    "
   ]
  },
  {
   "cell_type": "code",
   "execution_count": 61,
   "id": "db5428c5-5329-47e2-9673-e4b4ab37d912",
   "metadata": {},
   "outputs": [],
   "source": [
    "speed ={'jan':47, 'feb':52, 'march':47, 'April':44, 'May':52, 'June':53, 'july':54, 'Aug':44, 'Sept':54}"
   ]
  },
  {
   "cell_type": "code",
   "execution_count": 62,
   "id": "b83865db-2f33-43cc-baf7-34aba7664df6",
   "metadata": {},
   "outputs": [
    {
     "data": {
      "text/plain": [
       "[47, 52, 44, 53, 54]"
      ]
     },
     "execution_count": 62,
     "metadata": {},
     "output_type": "execute_result"
    }
   ],
   "source": [
    "speedlist = list()\n",
    "for i in speed.values():\n",
    "    if i not in speedlist:\n",
    "        speedlist.append(i)\n",
    "speedlist"
   ]
  },
  {
   "cell_type": "code",
   "execution_count": 63,
   "id": "2f31c820-987c-4e3d-8df4-6675bc8ad57e",
   "metadata": {},
   "outputs": [],
   "source": [
    "list1 =  [87,45,41,65,94,41,99,94]"
   ]
  },
  {
   "cell_type": "code",
   "execution_count": 71,
   "id": "1ae18f06-9663-453b-a059-3bbc10063f7b",
   "metadata": {},
   "outputs": [
    {
     "name": "stdout",
     "output_type": "stream",
     "text": [
      "[65, 99, 41, 45, 87, 94]\n"
     ]
    },
    {
     "ename": "TypeError",
     "evalue": "'tuple' object is not callable",
     "output_type": "error",
     "traceback": [
      "\u001b[0;31m---------------------------------------------------------------------------\u001b[0m",
      "\u001b[0;31mTypeError\u001b[0m                                 Traceback (most recent call last)",
      "\u001b[0;32m<ipython-input-71-9441e205feb5>\u001b[0m in \u001b[0;36m<module>\u001b[0;34m\u001b[0m\n\u001b[1;32m      3\u001b[0m \u001b[0mprint\u001b[0m\u001b[0;34m(\u001b[0m\u001b[0mlist1\u001b[0m\u001b[0;34m)\u001b[0m\u001b[0;34m\u001b[0m\u001b[0;34m\u001b[0m\u001b[0m\n\u001b[1;32m      4\u001b[0m \u001b[0;34m\u001b[0m\u001b[0m\n\u001b[0;32m----> 5\u001b[0;31m \u001b[0mtuple1\u001b[0m \u001b[0;34m=\u001b[0m \u001b[0mtuple\u001b[0m\u001b[0;34m(\u001b[0m\u001b[0mlist1\u001b[0m\u001b[0;34m)\u001b[0m\u001b[0;34m\u001b[0m\u001b[0;34m\u001b[0m\u001b[0m\n\u001b[0m\u001b[1;32m      6\u001b[0m \u001b[0;34m\u001b[0m\u001b[0m\n\u001b[1;32m      7\u001b[0m \u001b[0mprint\u001b[0m\u001b[0;34m(\u001b[0m\u001b[0mmin\u001b[0m\u001b[0;34m(\u001b[0m\u001b[0mtuple\u001b[0m\u001b[0;34m)\u001b[0m\u001b[0;34m)\u001b[0m\u001b[0;34m\u001b[0m\u001b[0;34m\u001b[0m\u001b[0m\n",
      "\u001b[0;31mTypeError\u001b[0m: 'tuple' object is not callable"
     ]
    }
   ],
   "source": [
    "list1 = list(set(list1))\n",
    "\n",
    "print(list1)\n",
    "\n",
    "tuple1 = tuple(list1)\n",
    "\n",
    "print(min(tuple))\n",
    "print(max(tuple))"
   ]
  },
  {
   "cell_type": "code",
   "execution_count": null,
   "id": "0d16a04a-e8dd-4a25-8ed2-1bfede0e6b20",
   "metadata": {},
   "outputs": [],
   "source": [
    "#this makes no sense"
   ]
  }
 ],
 "metadata": {
  "kernelspec": {
   "display_name": "Python 3",
   "language": "python",
   "name": "python3"
  },
  "language_info": {
   "codemirror_mode": {
    "name": "ipython",
    "version": 3
   },
   "file_extension": ".py",
   "mimetype": "text/x-python",
   "name": "python",
   "nbconvert_exporter": "python",
   "pygments_lexer": "ipython3",
   "version": "3.9.5"
  }
 },
 "nbformat": 4,
 "nbformat_minor": 5
}
