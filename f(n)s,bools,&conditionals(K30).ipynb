{
 "cells": [
  {
   "cell_type": "code",
   "execution_count": 1,
   "id": "d998336c-bcac-4a0c-b192-603a248ea8f8",
   "metadata": {},
   "outputs": [],
   "source": [
    "def least_difference(a,b,c):\n",
    "    \"\"\"Returns the smallest diffference between any of the 3 nubmeres provided\n",
    "    \"\"\"\n",
    "    diff1 = abs(a-b)\n",
    "    diff2 = abs(b-c)\n",
    "    diff3 = abs(a-c)\n",
    "    return min (diff1, diff2, diff3)"
   ]
  },
  {
   "cell_type": "code",
   "execution_count": 2,
   "id": "9dbfa53d-db17-426f-bbde-5ad36cc35662",
   "metadata": {},
   "outputs": [
    {
     "name": "stdout",
     "output_type": "stream",
     "text": [
      "9 0 1\n"
     ]
    }
   ],
   "source": [
    "print(\n",
    "    least_difference(1,10,100),\n",
    "    least_difference(10, 10, 10),\n",
    "    least_difference(5,6,7),)"
   ]
  },
  {
   "cell_type": "code",
   "execution_count": 3,
   "id": "80d4bc39-3dde-483b-bfe5-19fbae6a8bb5",
   "metadata": {},
   "outputs": [
    {
     "name": "stdout",
     "output_type": "stream",
     "text": [
      "Help on function least_difference in module __main__:\n",
      "\n",
      "least_difference(a, b, c)\n",
      "    Returns the smallest diffference between any of the 3 nubmeres provided\n",
      "\n"
     ]
    }
   ],
   "source": [
    "help(least_difference)"
   ]
  },
  {
   "cell_type": "code",
   "execution_count": 4,
   "id": "feb3527a-573a-489e-8253-7112d33dc284",
   "metadata": {},
   "outputs": [
    {
     "name": "stdout",
     "output_type": "stream",
     "text": [
      "1 < 2 < 3\n"
     ]
    }
   ],
   "source": [
    "print(1,2,3, sep=' < ')"
   ]
  },
  {
   "cell_type": "code",
   "execution_count": 5,
   "id": "2c72b120-d0b2-40db-9572-a27abb47dce5",
   "metadata": {},
   "outputs": [
    {
     "name": "stdout",
     "output_type": "stream",
     "text": [
      "1 2 3\n"
     ]
    }
   ],
   "source": [
    "print(1, 2, 3)"
   ]
  },
  {
   "cell_type": "code",
   "execution_count": 6,
   "id": "72c2ed89-6a5f-437c-8e3d-440741acfb4c",
   "metadata": {},
   "outputs": [
    {
     "name": "stdout",
     "output_type": "stream",
     "text": [
      "Hello,  Colin\n",
      "Hello,  Kaggle\n",
      "Hello,  world\n"
     ]
    }
   ],
   "source": [
    "def greet(who ='Colin'):\n",
    "    \"\"\"This funstion greets someone\"\"\"\n",
    "    print(\"Hello, \", who)\n",
    "\n",
    "greet()\n",
    "greet(who=\"Kaggle\")\n",
    "# (In this caew, we don;t need to specify the name  of the arguemenet, because it is unambiguous.)\n",
    "\n",
    "greet('world')\n",
    "    \n",
    "    "
   ]
  },
  {
   "cell_type": "code",
   "execution_count": 7,
   "id": "15539c1c-6b98-4400-92a8-212a2cc3889f",
   "metadata": {},
   "outputs": [
    {
     "name": "stdout",
     "output_type": "stream",
     "text": [
      "5\n",
      "25\n"
     ]
    }
   ],
   "source": [
    "def mult_by_five(x):\n",
    "    \"\"\"Multiplies a number by 5\"\"\"\n",
    "    return 5 * x\n",
    "\n",
    "def call(fn, arg):\n",
    "    \"\"\"Call fn on arg\"\"\"\n",
    "    return fn(arg)\n",
    "\n",
    "def squared_call(fn, arg):\n",
    "    \"\"\"Call fn on the result of calling fn on arg\"\"\"\n",
    "    return fn(fn(arg))\n",
    "    \n",
    "print(\n",
    "    call(mult_by_five, 1),\n",
    "    squared_call(mult_by_five, 1),\n",
    "    sep='\\n' # '\\n' starts a new line\n",
    ")"
   ]
  },
  {
   "cell_type": "code",
   "execution_count": 8,
   "id": "28daf30c-9466-4ac9-84ad-8af7e8614583",
   "metadata": {},
   "outputs": [
    {
     "name": "stdout",
     "output_type": "stream",
     "text": [
      "Which number is the biggest?\n",
      "100\n",
      "Which number is the biggest modulo 5?\n",
      "14\n"
     ]
    }
   ],
   "source": [
    "def mod_5(x):\n",
    "    \"\"\"Retur the remainder of x after dividing by 5\"\"\"\n",
    "    return x % 5\n",
    "\n",
    "print(\n",
    "    'Which number is the biggest?',\n",
    "    max(100, 51, 14),\n",
    "    'Which number is the biggest modulo 5?',\n",
    "    max(100, 51, 14, key = mod_5),\n",
    "    sep = '\\n')"
   ]
  },
  {
   "cell_type": "code",
   "execution_count": 9,
   "id": "87487630-b3b8-4279-abd1-9e14ed0a9d30",
   "metadata": {},
   "outputs": [
    {
     "name": "stdout",
     "output_type": "stream",
     "text": [
      "True\n",
      "<class 'bool'>\n"
     ]
    }
   ],
   "source": [
    "x =True\n",
    "print(x)\n",
    "print(type(x))"
   ]
  },
  {
   "cell_type": "code",
   "execution_count": 10,
   "id": "e9b4551c-0e30-40ed-bd47-0ff0a57ac9cb",
   "metadata": {},
   "outputs": [
    {
     "name": "stdout",
     "output_type": "stream",
     "text": [
      "Can a 19-year old run for president? False\n",
      "Can a 45-year-old run for President? True\n"
     ]
    }
   ],
   "source": [
    "def can_run_for_president(age):\n",
    "    \"\"\"Can someone of the given age run for president in the US?\"\"\"\n",
    "    #US constitution says that you have to be 35 or older\n",
    "    return age >=35\n",
    "\n",
    "print(\"Can a 19-year old run for president?\", can_run_for_president(19))\n",
    "print(\"Can a 45-year-old run for President?\", can_run_for_president(45))"
   ]
  },
  {
   "cell_type": "code",
   "execution_count": 11,
   "id": "11d60373-181e-4c26-b2f6-479a3e7d3801",
   "metadata": {},
   "outputs": [
    {
     "data": {
      "text/plain": [
       "True"
      ]
     },
     "execution_count": 11,
     "metadata": {},
     "output_type": "execute_result"
    }
   ],
   "source": [
    "3.0 ==3"
   ]
  },
  {
   "cell_type": "code",
   "execution_count": 12,
   "id": "0191c3e7-f8e4-4011-9627-4e62cd89daf6",
   "metadata": {},
   "outputs": [
    {
     "data": {
      "text/plain": [
       "False"
      ]
     },
     "execution_count": 12,
     "metadata": {},
     "output_type": "execute_result"
    }
   ],
   "source": [
    "'3' ==3"
   ]
  },
  {
   "cell_type": "code",
   "execution_count": 13,
   "id": "b0101b49-28e5-4efe-aa75-e4840f0593d4",
   "metadata": {},
   "outputs": [
    {
     "name": "stdout",
     "output_type": "stream",
     "text": [
      "Is 100 odd? False\n",
      "Is -1 odd? True\n"
     ]
    }
   ],
   "source": [
    "def is_odd(n):\n",
    "    return (n % 2) == 1\n",
    "\n",
    "print(\"Is 100 odd?\", is_odd(100))\n",
    "print(\"Is -1 odd?\", is_odd(-1))"
   ]
  },
  {
   "cell_type": "code",
   "execution_count": 15,
   "id": "65860dda-2721-4a48-9a7d-9ef6a480b4f9",
   "metadata": {},
   "outputs": [],
   "source": [
    "# Remember that == is asking if something is true"
   ]
  },
  {
   "cell_type": "code",
   "execution_count": 17,
   "id": "9157ad6a-5168-4e50-b6a2-efcddcab753c",
   "metadata": {},
   "outputs": [
    {
     "name": "stdout",
     "output_type": "stream",
     "text": [
      "False\n",
      "True\n",
      "False\n"
     ]
    }
   ],
   "source": [
    "def can_run_for_president(age, is_natural_born_citizen):\n",
    "    \"\"\"Can someone run for president considering their age \n",
    "    and if they are natural born citizens\"\"\"\n",
    "    return is_natural_born_citizen and (age >= 35)\n",
    "\n",
    "print(can_run_for_president(19,True))\n",
    "print(can_run_for_president(55, True))\n",
    "print(can_run_for_president(55, False))"
   ]
  },
  {
   "cell_type": "code",
   "execution_count": 18,
   "id": "47e4a1e6-1b04-44fa-8f43-eeaf17973207",
   "metadata": {},
   "outputs": [
    {
     "data": {
      "text/plain": [
       "True"
      ]
     },
     "execution_count": 18,
     "metadata": {},
     "output_type": "execute_result"
    }
   ],
   "source": [
    "True or True and False"
   ]
  },
  {
   "cell_type": "code",
   "execution_count": null,
   "id": "ee474427-b916-4f39-861f-57d0b7b0a40a",
   "metadata": {},
   "outputs": [],
   "source": [
    "# look at this mess"
   ]
  },
  {
   "cell_type": "code",
   "execution_count": 19,
   "id": "f11f5859-2957-4e94-9e30-cda8872fa175",
   "metadata": {},
   "outputs": [
    {
     "ename": "NameError",
     "evalue": "name 'have_umberlla' is not defined",
     "output_type": "error",
     "traceback": [
      "\u001b[0;31m---------------------------------------------------------------------------\u001b[0m",
      "\u001b[0;31mNameError\u001b[0m                                 Traceback (most recent call last)",
      "\u001b[0;32m<ipython-input-19-1c4228a32038>\u001b[0m in \u001b[0;36m<module>\u001b[0;34m\u001b[0m\n\u001b[0;32m----> 1\u001b[0;31m \u001b[0mprepare_for_weather\u001b[0m \u001b[0;34m=\u001b[0m \u001b[0mhave_umberlla\u001b[0m \u001b[0;32mor\u001b[0m \u001b[0mrain_level\u001b[0m \u001b[0;34m<\u001b[0m \u001b[0;36m5\u001b[0m \u001b[0;32mand\u001b[0m \u001b[0mhave_hood\u001b[0m \u001b[0;32mor\u001b[0m \u001b[0;32mnot\u001b[0m \u001b[0mrain_level\u001b[0m \u001b[0;34m>\u001b[0m \u001b[0;36m0\u001b[0m \u001b[0;32mand\u001b[0m \u001b[0mis_workday\u001b[0m\u001b[0;34m\u001b[0m\u001b[0;34m\u001b[0m\u001b[0m\n\u001b[0m",
      "\u001b[0;31mNameError\u001b[0m: name 'have_umberlla' is not defined"
     ]
    }
   ],
   "source": [
    "prepare_for_weather = have_umberlla or rain_level < 5 and have_hood or not rain_level > 0 and is_workday"
   ]
  },
  {
   "cell_type": "code",
   "execution_count": 20,
   "id": "fb5f2587-fecf-4ecc-9de0-d778be850a8f",
   "metadata": {},
   "outputs": [
    {
     "ename": "NameError",
     "evalue": "name 'have_umberlla' is not defined",
     "output_type": "error",
     "traceback": [
      "\u001b[0;31m---------------------------------------------------------------------------\u001b[0m",
      "\u001b[0;31mNameError\u001b[0m                                 Traceback (most recent call last)",
      "\u001b[0;32m<ipython-input-20-65f8a9266105>\u001b[0m in \u001b[0;36m<module>\u001b[0;34m\u001b[0m\n\u001b[1;32m      1\u001b[0m \u001b[0;31m# add parentheses!\u001b[0m\u001b[0;34m\u001b[0m\u001b[0;34m\u001b[0m\u001b[0;34m\u001b[0m\u001b[0m\n\u001b[0;32m----> 2\u001b[0;31m \u001b[0mprepare_for_weather\u001b[0m \u001b[0;34m=\u001b[0m \u001b[0mhave_umberlla\u001b[0m \u001b[0;32mor\u001b[0m \u001b[0;34m(\u001b[0m\u001b[0mrain_level\u001b[0m \u001b[0;34m<\u001b[0m \u001b[0;36m5\u001b[0m \u001b[0;32mand\u001b[0m \u001b[0mhave_hood\u001b[0m\u001b[0;34m)\u001b[0m \u001b[0;32mor\u001b[0m \u001b[0;32mnot\u001b[0m \u001b[0;34m(\u001b[0m\u001b[0mrain_level\u001b[0m \u001b[0;34m>\u001b[0m \u001b[0;36m0\u001b[0m \u001b[0;32mand\u001b[0m \u001b[0mis_workday\u001b[0m\u001b[0;34m)\u001b[0m\u001b[0;34m\u001b[0m\u001b[0;34m\u001b[0m\u001b[0m\n\u001b[0m",
      "\u001b[0;31mNameError\u001b[0m: name 'have_umberlla' is not defined"
     ]
    }
   ],
   "source": [
    "# add parentheses!\n",
    "prepare_for_weather = have_umberlla or (rain_level < 5 and have_hood) or not (rain_level > 0 and is_workday)"
   ]
  },
  {
   "cell_type": "code",
   "execution_count": 21,
   "id": "08cd3aa3-324e-4d0b-af53-7d1f1e090b4a",
   "metadata": {},
   "outputs": [
    {
     "ename": "NameError",
     "evalue": "name 'have_umberlla' is not defined",
     "output_type": "error",
     "traceback": [
      "\u001b[0;31m---------------------------------------------------------------------------\u001b[0m",
      "\u001b[0;31mNameError\u001b[0m                                 Traceback (most recent call last)",
      "\u001b[0;32m<ipython-input-21-5720a91d559e>\u001b[0m in \u001b[0;36m<module>\u001b[0;34m\u001b[0m\n\u001b[1;32m      1\u001b[0m \u001b[0;31m#that helps a bit but we can make it clearer\u001b[0m\u001b[0;34m\u001b[0m\u001b[0;34m\u001b[0m\u001b[0;34m\u001b[0m\u001b[0m\n\u001b[0;32m----> 2\u001b[0;31m \u001b[0mprepare_for_weather\u001b[0m \u001b[0;34m=\u001b[0m \u001b[0mhave_umberlla\u001b[0m \u001b[0;32mor\u001b[0m \u001b[0;34m(\u001b[0m\u001b[0;34m(\u001b[0m\u001b[0mrain_level\u001b[0m \u001b[0;34m<\u001b[0m \u001b[0;36m5\u001b[0m\u001b[0;34m)\u001b[0m \u001b[0;32mand\u001b[0m \u001b[0mhave_hood\u001b[0m\u001b[0;34m)\u001b[0m \u001b[0;32mor\u001b[0m \u001b[0;34m(\u001b[0m\u001b[0;32mnot\u001b[0m \u001b[0;34m(\u001b[0m\u001b[0mrain_level\u001b[0m \u001b[0;34m>\u001b[0m \u001b[0;36m0\u001b[0m \u001b[0;32mand\u001b[0m \u001b[0mis_workday\u001b[0m\u001b[0;34m)\u001b[0m\u001b[0;34m)\u001b[0m\u001b[0;34m\u001b[0m\u001b[0;34m\u001b[0m\u001b[0m\n\u001b[0m",
      "\u001b[0;31mNameError\u001b[0m: name 'have_umberlla' is not defined"
     ]
    }
   ],
   "source": [
    "#that helps a bit but we can make it clearer\n",
    "prepare_for_weather = have_umberlla or ((rain_level < 5) and have_hood) or (not (rain_level > 0 and is_workday))"
   ]
  },
  {
   "cell_type": "code",
   "execution_count": 22,
   "id": "53d58998-b0d9-4a98-8b10-182ead2cded9",
   "metadata": {},
   "outputs": [],
   "source": [
    "# clearest is splitting it over several line"
   ]
  },
  {
   "cell_type": "code",
   "execution_count": 23,
   "id": "d2c57d98-6a3a-4e24-aaeb-463962476271",
   "metadata": {},
   "outputs": [
    {
     "ename": "NameError",
     "evalue": "name 'have_umbrella' is not defined",
     "output_type": "error",
     "traceback": [
      "\u001b[0;31m---------------------------------------------------------------------------\u001b[0m",
      "\u001b[0;31mNameError\u001b[0m                                 Traceback (most recent call last)",
      "\u001b[0;32m<ipython-input-23-e210b6054927>\u001b[0m in \u001b[0;36m<module>\u001b[0;34m\u001b[0m\n\u001b[1;32m      1\u001b[0m prepared_for_weather = (\n\u001b[0;32m----> 2\u001b[0;31m     \u001b[0mhave_umbrella\u001b[0m\u001b[0;34m\u001b[0m\u001b[0;34m\u001b[0m\u001b[0m\n\u001b[0m\u001b[1;32m      3\u001b[0m     \u001b[0;32mor\u001b[0m\u001b[0;34m(\u001b[0m\u001b[0;34m(\u001b[0m\u001b[0mrain_level\u001b[0m \u001b[0;34m<\u001b[0m\u001b[0;36m5\u001b[0m\u001b[0;34m)\u001b[0m \u001b[0;32mand\u001b[0m \u001b[0mhave_hood\u001b[0m\u001b[0;34m)\u001b[0m\u001b[0;34m\u001b[0m\u001b[0;34m\u001b[0m\u001b[0m\n\u001b[1;32m      4\u001b[0m     \u001b[0;32mor\u001b[0m\u001b[0;34m(\u001b[0m\u001b[0;32mnot\u001b[0m\u001b[0;34m(\u001b[0m\u001b[0mrain_level\u001b[0m \u001b[0;34m>\u001b[0m \u001b[0;36m0\u001b[0m \u001b[0;32mand\u001b[0m \u001b[0mis_workday\u001b[0m\u001b[0;34m)\u001b[0m\u001b[0;34m)\u001b[0m\u001b[0;34m\u001b[0m\u001b[0;34m\u001b[0m\u001b[0m\n\u001b[1;32m      5\u001b[0m )\n",
      "\u001b[0;31mNameError\u001b[0m: name 'have_umbrella' is not defined"
     ]
    }
   ],
   "source": [
    "prepared_for_weather = (\n",
    "    have_umbrella\n",
    "    or((rain_level <5) and have_hood)\n",
    "    or(not(rain_level > 0 and is_workday))\n",
    ")"
   ]
  },
  {
   "cell_type": "code",
   "execution_count": 24,
   "id": "4b56a478-ac5a-4b1c-82ef-f7225c81143a",
   "metadata": {},
   "outputs": [],
   "source": [
    "#That is clearest"
   ]
  },
  {
   "cell_type": "code",
   "execution_count": 30,
   "id": "57d5d6c1-5b80-4b70-8262-4baa231d8d38",
   "metadata": {},
   "outputs": [
    {
     "name": "stdout",
     "output_type": "stream",
     "text": [
      "0 is zero\n",
      "-15 is negative\n",
      "4 is positive\n"
     ]
    }
   ],
   "source": [
    "def inspect(x):\n",
    "    if x == 0:\n",
    "        print(x, \"is zero\")\n",
    "    elif x > 0:\n",
    "        print(x, \"is positive\")\n",
    "    elif x < 0:\n",
    "        print (x, \"is negative\")\n",
    "    else:\n",
    "        print (x, \" is not a real number\")\n",
    "\n",
    "inspect(0)\n",
    "inspect(-15)\n",
    "inspect(4)"
   ]
  },
  {
   "cell_type": "code",
   "execution_count": 31,
   "id": "a2cf7603-607b-49a5-a3e3-e0073b53d6c7",
   "metadata": {},
   "outputs": [
    {
     "name": "stdout",
     "output_type": "stream",
     "text": [
      "Only printed when x is positve; x = 1\n",
      "also only print when x is positive; x= 1\n",
      "Always printed, regardless of if x is positive; x= 1\n",
      "Always printed, regardless of if x is positive; x= 0\n"
     ]
    }
   ],
   "source": [
    "def f(x):\n",
    "    if x > 0:\n",
    "        print(\"Only printed when x is positve; x =\", x)\n",
    "        print(\"also only print when x is positive; x=\", x)\n",
    "    print(\"Always printed, regardless of if x is positive; x=\", x)\n",
    "\n",
    "f(1)\n",
    "f(0)"
   ]
  },
  {
   "cell_type": "code",
   "execution_count": 33,
   "id": "12eb19a7-f8f0-46ff-810e-e98b94d810e4",
   "metadata": {},
   "outputs": [
    {
     "name": "stdout",
     "output_type": "stream",
     "text": [
      "True\n",
      "False\n",
      "True\n",
      "False\n"
     ]
    }
   ],
   "source": [
    "print(bool(1)) # all number are True except 0\n",
    "print(bool(0))\n",
    "print(bool('asf')) #all strings are True except ''(empty strings)\n",
    "print(bool(''))    "
   ]
  },
  {
   "cell_type": "code",
   "execution_count": 34,
   "id": "96198e7f-3abb-418d-bc24-47772485d3be",
   "metadata": {},
   "outputs": [
    {
     "name": "stdout",
     "output_type": "stream",
     "text": [
      "spam\n"
     ]
    }
   ],
   "source": [
    "if 0:\n",
    "    print(0)\n",
    "elif \"spam\":\n",
    "    print('spam')"
   ]
  },
  {
   "cell_type": "code",
   "execution_count": null,
   "id": "0dbdc818-acc3-4356-b054-e2fb170f694a",
   "metadata": {},
   "outputs": [],
   "source": []
  }
 ],
 "metadata": {
  "kernelspec": {
   "display_name": "Python 3",
   "language": "python",
   "name": "python3"
  },
  "language_info": {
   "codemirror_mode": {
    "name": "ipython",
    "version": 3
   },
   "file_extension": ".py",
   "mimetype": "text/x-python",
   "name": "python",
   "nbconvert_exporter": "python",
   "pygments_lexer": "ipython3",
   "version": "3.9.5"
  }
 },
 "nbformat": 4,
 "nbformat_minor": 5
}
