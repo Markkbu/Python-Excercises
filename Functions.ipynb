{
 "cells": [
  {
   "cell_type": "code",
   "execution_count": 1,
   "id": "81d23086-9b99-4d4b-bc8f-0496eb5a0329",
   "metadata": {},
   "outputs": [],
   "source": [
    "def func1(*args):\n",
    "    for i in args:\n",
    "        print(i)\n",
    "   "
   ]
  },
  {
   "cell_type": "code",
   "execution_count": 2,
   "id": "600d47f1-096e-48bd-b672-7b51efd80eaf",
   "metadata": {},
   "outputs": [
    {
     "name": "stdout",
     "output_type": "stream",
     "text": [
      "20\n",
      "40\n",
      "60\n"
     ]
    }
   ],
   "source": [
    "func1(20,40,60)"
   ]
  },
  {
   "cell_type": "code",
   "execution_count": 3,
   "id": "44f6a8cf-0843-415e-bbf7-dd30a2680b5c",
   "metadata": {},
   "outputs": [
    {
     "name": "stdout",
     "output_type": "stream",
     "text": [
      "80\n",
      "100\n"
     ]
    }
   ],
   "source": [
    "func1(80,100)"
   ]
  },
  {
   "cell_type": "code",
   "execution_count": 4,
   "id": "51b062e3-d298-42a1-9b83-b43b86480b13",
   "metadata": {},
   "outputs": [],
   "source": [
    "def name_age(name, age):\n",
    "    print(\"My name is \", name)\n",
    "    print(\"I am \", age,\" years old\")"
   ]
  },
  {
   "cell_type": "code",
   "execution_count": 5,
   "id": "0a4e112f-d211-425c-b3ad-aae34bab67f4",
   "metadata": {},
   "outputs": [
    {
     "name": "stdout",
     "output_type": "stream",
     "text": [
      "My name is  Mark Kustelski\n",
      "I am  49  years old\n"
     ]
    }
   ],
   "source": [
    "name_age(\"Mark Kustelski\", 49)"
   ]
  },
  {
   "cell_type": "code",
   "execution_count": 7,
   "id": "6c3a8eca-0818-4f29-913a-08b46de0446f",
   "metadata": {},
   "outputs": [],
   "source": [
    "def calculation(v1, v2):\n",
    "    plus = v1 + v2\n",
    "    minus = v1 - v2\n",
    "    print(v1, \" + \", v2, \" = \", plus)\n",
    "    print(v1, \" - \", v2, \" = \", minus)\n",
    "    "
   ]
  },
  {
   "cell_type": "code",
   "execution_count": 9,
   "id": "479ab635-5330-4b11-a591-ddf810260aa0",
   "metadata": {},
   "outputs": [
    {
     "name": "stdout",
     "output_type": "stream",
     "text": [
      "5  +  3  =  8\n",
      "5  -  3  =  2\n"
     ]
    }
   ],
   "source": [
    "calculation(5,3)"
   ]
  },
  {
   "cell_type": "code",
   "execution_count": 18,
   "id": "8545c431-e0ed-4b67-9d6f-8077d2215fc6",
   "metadata": {},
   "outputs": [],
   "source": [
    "def showemployee(name, salary=9000):\n",
    "    print(\"Employeed \", name, \"s salary is: \", salary )"
   ]
  },
  {
   "cell_type": "code",
   "execution_count": 14,
   "id": "6394f73b-1316-44b1-b0b9-1eb16af78550",
   "metadata": {},
   "outputs": [
    {
     "name": "stdout",
     "output_type": "stream",
     "text": [
      "Employeed  Mark s salary is:  9000\n"
     ]
    }
   ],
   "source": [
    "showemployee('Mark', 9000)"
   ]
  },
  {
   "cell_type": "code",
   "execution_count": 19,
   "id": "3709e16d-f6e3-42da-a43f-bc03a086e89b",
   "metadata": {},
   "outputs": [
    {
     "name": "stdout",
     "output_type": "stream",
     "text": [
      "Employeed  Mark s salary is:  9000\n"
     ]
    }
   ],
   "source": [
    "showemployee('Mark')"
   ]
  },
  {
   "cell_type": "code",
   "execution_count": 21,
   "id": "16e2abd7-f3d2-43e5-b920-8ae3ddc92a3d",
   "metadata": {},
   "outputs": [
    {
     "name": "stdout",
     "output_type": "stream",
     "text": [
      "20\n"
     ]
    }
   ],
   "source": [
    "def outer(a,b):\n",
    "    square = a**2\n",
    "    \n",
    "    def inner(a,b):\n",
    "        return a+b\n",
    "    \n",
    "    add=inner(a,b)\n",
    "    return add+5\n",
    "result = outer(5,10)\n",
    "print(result)"
   ]
  },
  {
   "cell_type": "code",
   "execution_count": 41,
   "id": "0d9a6438-0287-4dfc-9b9d-e8003e321ee1",
   "metadata": {},
   "outputs": [
    {
     "name": "stdout",
     "output_type": "stream",
     "text": [
      "30\n"
     ]
    }
   ],
   "source": [
    "def calculateSum(num):\n",
    "    if num:\n",
    "        return num + calculateSum(num-3)\n",
    "    else:\n",
    "        return 0\n",
    "\n",
    "res = calculateSum(12)\n",
    "print(res)"
   ]
  },
  {
   "cell_type": "code",
   "execution_count": 42,
   "id": "10ed92e4-3993-40d3-b158-c13b9860bfa8",
   "metadata": {},
   "outputs": [
    {
     "name": "stdout",
     "output_type": "stream",
     "text": [
      "Mark 49\n"
     ]
    }
   ],
   "source": [
    "def showstudent(name, age):\n",
    "    print(name, age)\n",
    "\n",
    "displaystudent = showstudent\n",
    "\n",
    "displaystudent('Mark', 49)"
   ]
  },
  {
   "cell_type": "code",
   "execution_count": 47,
   "id": "f360f2b7-a24d-410c-9ae0-b8fc86ff0043",
   "metadata": {},
   "outputs": [
    {
     "name": "stdout",
     "output_type": "stream",
     "text": [
      "[4, 6, 8, 10, 12, 14, 16, 18, 20, 22, 24, 26, 28, 30]\n"
     ]
    }
   ],
   "source": [
    "print(list(range(4,31,2)))"
   ]
  },
  {
   "cell_type": "code",
   "execution_count": 52,
   "id": "a3f16b53-d47a-40eb-abd9-8eb91f236212",
   "metadata": {},
   "outputs": [
    {
     "name": "stdout",
     "output_type": "stream",
     "text": [
      "24\n"
     ]
    }
   ],
   "source": [
    "alist = [4,6,8,24,12,2]\n",
    "\n",
    "print(max(alist))"
   ]
  },
  {
   "cell_type": "code",
   "execution_count": null,
   "id": "b6f4fb4c-cb94-49b4-a182-ec9c973ee896",
   "metadata": {},
   "outputs": [],
   "source": []
  }
 ],
 "metadata": {
  "kernelspec": {
   "display_name": "Python 3",
   "language": "python",
   "name": "python3"
  },
  "language_info": {
   "codemirror_mode": {
    "name": "ipython",
    "version": 3
   },
   "file_extension": ".py",
   "mimetype": "text/x-python",
   "name": "python",
   "nbconvert_exporter": "python",
   "pygments_lexer": "ipython3",
   "version": "3.9.5"
  }
 },
 "nbformat": 4,
 "nbformat_minor": 5
}
