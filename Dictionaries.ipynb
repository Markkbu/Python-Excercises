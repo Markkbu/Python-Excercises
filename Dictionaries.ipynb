{
 "cells": [
  {
   "cell_type": "markdown",
   "id": "d9e60bf4-bada-4954-b722-2484a0a7a4d3",
   "metadata": {},
   "source": [
    "Dictionaries = Hash Map = Hash Table\n"
   ]
  },
  {
   "cell_type": "markdown",
   "id": "3373fd41-8415-4733-aebf-3995c96b2d61",
   "metadata": {},
   "source": [
    "a way to quickly lookup a value given a key"
   ]
  },
  {
   "cell_type": "code",
   "execution_count": 1,
   "id": "842adb64-5395-443f-88f8-11e18fe28510",
   "metadata": {},
   "outputs": [],
   "source": [
    "d = {'apple': 1, 'banana': 2, 'orange': 3}"
   ]
  },
  {
   "cell_type": "code",
   "execution_count": 2,
   "id": "352aba9f-acca-4618-a889-e3812ea32d00",
   "metadata": {},
   "outputs": [
    {
     "data": {
      "text/plain": [
       "1"
      ]
     },
     "execution_count": 2,
     "metadata": {},
     "output_type": "execute_result"
    }
   ],
   "source": [
    "d['apple']"
   ]
  },
  {
   "cell_type": "code",
   "execution_count": 3,
   "id": "6644b2ef-96b7-4322-8424-7fd48cb20b10",
   "metadata": {},
   "outputs": [
    {
     "data": {
      "text/plain": [
       "2"
      ]
     },
     "execution_count": 3,
     "metadata": {},
     "output_type": "execute_result"
    }
   ],
   "source": [
    "d['banana']"
   ]
  },
  {
   "cell_type": "code",
   "execution_count": 4,
   "id": "c1823f36-f6cd-4a60-9205-69b35cbd1c9d",
   "metadata": {},
   "outputs": [],
   "source": [
    "#d['pear']"
   ]
  },
  {
   "cell_type": "markdown",
   "id": "3f08a652-26d3-4669-b60f-2aa63229cc69",
   "metadata": {},
   "source": [
    "Time Considerations"
   ]
  },
  {
   "cell_type": "code",
   "execution_count": 5,
   "id": "757a44f9-11d6-43a3-81af-3b23ab8c1c79",
   "metadata": {},
   "outputs": [],
   "source": [
    "from random import choice, random, randint"
   ]
  },
  {
   "cell_type": "code",
   "execution_count": 6,
   "id": "73112cfb-35e8-4e7b-a6e7-0e2f512cd312",
   "metadata": {},
   "outputs": [],
   "source": [
    "fruits = ['apple', 'banana', 'orange']"
   ]
  },
  {
   "cell_type": "code",
   "execution_count": 7,
   "id": "cde5e422-27fc-438b-aa98-b7e49ed9ee18",
   "metadata": {},
   "outputs": [],
   "source": [
    "l= [('apple', 1), ('banana', 2), ('orange', 3)]"
   ]
  },
  {
   "cell_type": "code",
   "execution_count": 8,
   "id": "a6ec9fbc-1191-4d63-8c79-cc71bdb536b6",
   "metadata": {},
   "outputs": [
    {
     "data": {
      "text/plain": [
       "[('apple', 1), ('banana', 2), ('orange', 3)]"
      ]
     },
     "execution_count": 8,
     "metadata": {},
     "output_type": "execute_result"
    }
   ],
   "source": [
    "l"
   ]
  },
  {
   "cell_type": "code",
   "execution_count": 9,
   "id": "1e9748fd-ed4a-4fce-bf36-d96cf7378199",
   "metadata": {
    "tags": []
   },
   "outputs": [
    {
     "name": "stdout",
     "output_type": "stream",
     "text": [
      "orange\n",
      "3\n"
     ]
    }
   ],
   "source": [
    "# Lookup using a dictionary\n",
    "fruit = choice(fruits)\n",
    "print(fruit)\n",
    "value = d[fruit]\n",
    "print(value)"
   ]
  },
  {
   "cell_type": "code",
   "execution_count": 10,
   "id": "1f86c69a-cd4f-4930-b161-9e23d86fcb34",
   "metadata": {},
   "outputs": [
    {
     "name": "stdout",
     "output_type": "stream",
     "text": [
      "banana\n",
      "2\n"
     ]
    }
   ],
   "source": [
    "#Look up using list\n",
    "fruit = choice(fruits)\n",
    "print(fruit)\n",
    "value = [item[1] for item in l if item[0] == fruit][0]\n",
    "print(value)"
   ]
  },
  {
   "cell_type": "code",
   "execution_count": 11,
   "id": "b74c2fa1-22aa-4f3d-956a-f7d51d4d5b99",
   "metadata": {},
   "outputs": [],
   "source": [
    "import timeit"
   ]
  },
  {
   "cell_type": "code",
   "execution_count": 12,
   "id": "b2f24ec6-d833-4c71-8b81-b70fba21c637",
   "metadata": {},
   "outputs": [
    {
     "name": "stdout",
     "output_type": "stream",
     "text": [
      "657 ns ± 6.65 ns per loop (mean ± std. dev. of 7 runs, 1000000 loops each)\n"
     ]
    }
   ],
   "source": [
    "%%timeit\n",
    "fruit = choice(fruits)\n",
    "value = [item[1] for item in l if item[0] == fruit][0]"
   ]
  },
  {
   "cell_type": "code",
   "execution_count": 13,
   "id": "e31c7bdc-edbb-475f-bdc6-7274c5e44910",
   "metadata": {},
   "outputs": [
    {
     "name": "stdout",
     "output_type": "stream",
     "text": [
      "358 ns ± 11.8 ns per loop (mean ± std. dev. of 7 runs, 1000000 loops each)\n"
     ]
    }
   ],
   "source": [
    "%%timeit\n",
    "fruit = choice(fruits)\n",
    "value = d[fruit]"
   ]
  },
  {
   "cell_type": "code",
   "execution_count": 14,
   "id": "d39db5dd-ea64-45e7-bd70-97c3d3af9278",
   "metadata": {},
   "outputs": [],
   "source": [
    "l = []\n",
    "d = dict()\n",
    "keys = []\n",
    "for _ in range(100000):\n",
    "    k = random()\n",
    "    v = randint(1,10)\n",
    "    l.append((k,v))\n",
    "    d[k] = v\n",
    "    keys.append(k)"
   ]
  },
  {
   "cell_type": "code",
   "execution_count": 15,
   "id": "78b41c43-4ded-45bd-a84c-2b84abf281bd",
   "metadata": {},
   "outputs": [
    {
     "name": "stdout",
     "output_type": "stream",
     "text": [
      "3.99 ms ± 73.8 µs per loop (mean ± std. dev. of 7 runs, 100 loops each)\n"
     ]
    }
   ],
   "source": [
    "%%timeit\n",
    "key = choice(keys)\n",
    "value = [item[1] for item in l if item[0] == key][0]"
   ]
  },
  {
   "cell_type": "code",
   "execution_count": 16,
   "id": "9dc2e679-61dd-44ea-8ab4-218358fdd903",
   "metadata": {},
   "outputs": [
    {
     "name": "stdout",
     "output_type": "stream",
     "text": [
      "914 ns ± 20.5 ns per loop (mean ± std. dev. of 7 runs, 1000000 loops each)\n"
     ]
    }
   ],
   "source": [
    "%%timeit\n",
    "key = choice(keys)\n",
    "value = d[key]"
   ]
  },
  {
   "cell_type": "markdown",
   "id": "e750f90f-c66d-4206-8b54-b1e25730dd2d",
   "metadata": {},
   "source": [
    "Why are dictionaries so fast"
   ]
  },
  {
   "cell_type": "code",
   "execution_count": null,
   "id": "b42e63a4-a1a7-4202-9aa7-55bee00506fa",
   "metadata": {},
   "outputs": [],
   "source": []
  },
  {
   "cell_type": "markdown",
   "id": "c497520d-9f69-410f-97e1-aef79608ef66",
   "metadata": {},
   "source": [
    "## __Implications__"
   ]
  },
  {
   "cell_type": "markdown",
   "id": "6d872e29-db76-4977-a248-7112c5e1ee93",
   "metadata": {},
   "source": [
    "The keys of a dictionary MUST be immutable\n",
    "\n",
    "Immutable Data Types:\n",
    "-int\n",
    "-float\n",
    "-str\n",
    "-tuple\n",
    "\n",
    "Mutable Data Types\n",
    "-list\n",
    "-set\n",
    "-dictionary"
   ]
  },
  {
   "cell_type": "code",
   "execution_count": 18,
   "id": "66ae5850-066b-4d11-9045-e440be8d0e0b",
   "metadata": {},
   "outputs": [],
   "source": [
    "d=dict()"
   ]
  },
  {
   "cell_type": "code",
   "execution_count": 19,
   "id": "a7aa860a-16c4-4926-aa5d-d2345681bbec",
   "metadata": {},
   "outputs": [],
   "source": [
    "# you  can use immutable as the key\n",
    "d[1] = 0\n",
    "d[3.14] =0\n",
    "d['hello'] = 0\n",
    "\n"
   ]
  },
  {
   "cell_type": "code",
   "execution_count": 20,
   "id": "9229113a-d56c-4233-a0cd-f54378ace15d",
   "metadata": {},
   "outputs": [
    {
     "data": {
      "text/plain": [
       "{1: 0, 3.14: 0, 'hello': 0}"
      ]
     },
     "execution_count": 20,
     "metadata": {},
     "output_type": "execute_result"
    }
   ],
   "source": [
    "d"
   ]
  },
  {
   "cell_type": "code",
   "execution_count": 21,
   "id": "41cb3a66-9209-4faa-b22a-a7f7d44859e2",
   "metadata": {},
   "outputs": [
    {
     "ename": "TypeError",
     "evalue": "unhashable type: 'list'",
     "output_type": "error",
     "traceback": [
      "\u001b[0;31m---------------------------------------------------------------------------\u001b[0m",
      "\u001b[0;31mTypeError\u001b[0m                                 Traceback (most recent call last)",
      "\u001b[0;32m<ipython-input-21-95d336c3aefe>\u001b[0m in \u001b[0;36m<module>\u001b[0;34m\u001b[0m\n\u001b[1;32m      1\u001b[0m \u001b[0;31m# you can NOT use mutable types as keys\u001b[0m\u001b[0;34m\u001b[0m\u001b[0;34m\u001b[0m\u001b[0;34m\u001b[0m\u001b[0m\n\u001b[0;32m----> 2\u001b[0;31m \u001b[0md\u001b[0m\u001b[0;34m[\u001b[0m\u001b[0;34m[\u001b[0m\u001b[0;36m1\u001b[0m\u001b[0;34m,\u001b[0m\u001b[0;36m2\u001b[0m\u001b[0;34m,\u001b[0m\u001b[0;36m3\u001b[0m\u001b[0;34m]\u001b[0m\u001b[0;34m]\u001b[0m \u001b[0;34m=\u001b[0m \u001b[0;36m0\u001b[0m\u001b[0;34m\u001b[0m\u001b[0;34m\u001b[0m\u001b[0m\n\u001b[0m",
      "\u001b[0;31mTypeError\u001b[0m: unhashable type: 'list'"
     ]
    }
   ],
   "source": [
    "# you can NOT use mutable types as keys\n",
    "d[[1,2,3]] = 0"
   ]
  },
  {
   "cell_type": "code",
   "execution_count": 23,
   "id": "87677769-62a1-427a-b1bb-2667fb3a917a",
   "metadata": {},
   "outputs": [
    {
     "ename": "TypeError",
     "evalue": "unhashable type: 'set'",
     "output_type": "error",
     "traceback": [
      "\u001b[0;31m---------------------------------------------------------------------------\u001b[0m",
      "\u001b[0;31mTypeError\u001b[0m                                 Traceback (most recent call last)",
      "\u001b[0;32m<ipython-input-23-f6fe79002d11>\u001b[0m in \u001b[0;36m<module>\u001b[0;34m\u001b[0m\n\u001b[0;32m----> 1\u001b[0;31m \u001b[0md\u001b[0m\u001b[0;34m[\u001b[0m\u001b[0;34m{\u001b[0m\u001b[0;36m1\u001b[0m\u001b[0;34m,\u001b[0m\u001b[0;36m2\u001b[0m\u001b[0;34m,\u001b[0m\u001b[0;36m3\u001b[0m\u001b[0;34m}\u001b[0m\u001b[0;34m]\u001b[0m \u001b[0;34m=\u001b[0m \u001b[0;36m0\u001b[0m\u001b[0;34m\u001b[0m\u001b[0;34m\u001b[0m\u001b[0m\n\u001b[0m",
      "\u001b[0;31mTypeError\u001b[0m: unhashable type: 'set'"
     ]
    }
   ],
   "source": [
    "d[{1,2,3}] = 0"
   ]
  },
  {
   "cell_type": "code",
   "execution_count": 24,
   "id": "82662e25-0232-4d4f-86f0-3198ae218236",
   "metadata": {},
   "outputs": [
    {
     "ename": "TypeError",
     "evalue": "unhashable type: 'dict'",
     "output_type": "error",
     "traceback": [
      "\u001b[0;31m---------------------------------------------------------------------------\u001b[0m",
      "\u001b[0;31mTypeError\u001b[0m                                 Traceback (most recent call last)",
      "\u001b[0;32m<ipython-input-24-d61ea6d9d622>\u001b[0m in \u001b[0;36m<module>\u001b[0;34m\u001b[0m\n\u001b[0;32m----> 1\u001b[0;31m \u001b[0md\u001b[0m\u001b[0;34m[\u001b[0m\u001b[0;34m{\u001b[0m\u001b[0;36m1\u001b[0m\u001b[0;34m:\u001b[0m\u001b[0;36m2\u001b[0m\u001b[0;34m}\u001b[0m\u001b[0;34m]\u001b[0m \u001b[0;34m=\u001b[0m\u001b[0;36m0\u001b[0m\u001b[0;34m\u001b[0m\u001b[0;34m\u001b[0m\u001b[0m\n\u001b[0m",
      "\u001b[0;31mTypeError\u001b[0m: unhashable type: 'dict'"
     ]
    }
   ],
   "source": [
    "d[{1:2}] =0"
   ]
  },
  {
   "cell_type": "markdown",
   "id": "470903fe-cb32-4570-bdf9-3923e36a5124",
   "metadata": {},
   "source": [
    "### __BUT! YOU CAN PUT ANYTHING AS THE VALUES OF A DICTIONARY__"
   ]
  },
  {
   "cell_type": "code",
   "execution_count": 25,
   "id": "8ba06b96-f457-45ea-82cd-817af85ad289",
   "metadata": {},
   "outputs": [],
   "source": [
    "d[1] = [1,2,3]\n",
    "d[3.14] = {1,2,3}\n",
    "d['hello'] = {1:2}"
   ]
  },
  {
   "cell_type": "code",
   "execution_count": 26,
   "id": "5f79c798-70df-4a80-b729-e01950778347",
   "metadata": {},
   "outputs": [
    {
     "data": {
      "text/plain": [
       "{1: [1, 2, 3], 3.14: {1, 2, 3}, 'hello': {1: 2}, (1, 2, 3): 0}"
      ]
     },
     "execution_count": 26,
     "metadata": {},
     "output_type": "execute_result"
    }
   ],
   "source": [
    "d"
   ]
  },
  {
   "cell_type": "markdown",
   "id": "9152ba84-efd1-4e87-9173-242ab9d54200",
   "metadata": {},
   "source": [
    "## __Common Dictionary Functions__"
   ]
  },
  {
   "cell_type": "code",
   "execution_count": 28,
   "id": "5773813b-5eef-44c8-9e8f-95fd71dbe59b",
   "metadata": {},
   "outputs": [
    {
     "data": {
      "text/plain": [
       "dict_keys([1, 3.14, 'hello', (1, 2, 3)])"
      ]
     },
     "execution_count": 28,
     "metadata": {},
     "output_type": "execute_result"
    }
   ],
   "source": [
    "d.keys()"
   ]
  },
  {
   "cell_type": "code",
   "execution_count": 29,
   "id": "5c97a398-e500-45d3-8dad-461069ddef2a",
   "metadata": {},
   "outputs": [
    {
     "data": {
      "text/plain": [
       "dict_values([[1, 2, 3], {1, 2, 3}, {1: 2}, 0])"
      ]
     },
     "execution_count": 29,
     "metadata": {},
     "output_type": "execute_result"
    }
   ],
   "source": [
    "d.values()"
   ]
  },
  {
   "cell_type": "code",
   "execution_count": 30,
   "id": "783860ef-34c1-4c5f-811d-e520cfb3aacd",
   "metadata": {},
   "outputs": [
    {
     "name": "stdout",
     "output_type": "stream",
     "text": [
      "1\n",
      "3.14\n",
      "hello\n",
      "(1, 2, 3)\n"
     ]
    }
   ],
   "source": [
    "for item in d:\n",
    "    print(item)"
   ]
  },
  {
   "cell_type": "code",
   "execution_count": 31,
   "id": "45655c9b-a1e0-4881-a415-38424542e691",
   "metadata": {},
   "outputs": [],
   "source": [
    "#Dictionary are always unordered and my change over time"
   ]
  },
  {
   "cell_type": "code",
   "execution_count": 32,
   "id": "a03ae572-6a7a-4388-9fe3-35088116c012",
   "metadata": {},
   "outputs": [],
   "source": [
    "# good for looking up stuff may not be as good for sorting"
   ]
  },
  {
   "cell_type": "code",
   "execution_count": null,
   "id": "f82d7f7f-2959-48d2-bb81-5421ead649f7",
   "metadata": {},
   "outputs": [],
   "source": []
  }
 ],
 "metadata": {
  "kernelspec": {
   "display_name": "Python 3",
   "language": "python",
   "name": "python3"
  },
  "language_info": {
   "codemirror_mode": {
    "name": "ipython",
    "version": 3
   },
   "file_extension": ".py",
   "mimetype": "text/x-python",
   "name": "python",
   "nbconvert_exporter": "python",
   "pygments_lexer": "ipython3",
   "version": "3.9.5"
  }
 },
 "nbformat": 4,
 "nbformat_minor": 5
}
