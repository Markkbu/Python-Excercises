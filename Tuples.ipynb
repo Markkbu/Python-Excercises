{
 "cells": [
  {
   "cell_type": "code",
   "execution_count": null,
   "id": "39a414f3-39d6-4600-9938-ad8971e40c90",
   "metadata": {
    "gradient": {
     "editing": false,
     "execution_count": 1,
     "id": "39a414f3-39d6-4600-9938-ad8971e40c90",
     "kernelId": "ebae4550-2af5-4970-9310-26780c9446a1"
    }
   },
   "outputs": [],
   "source": [
    "atuple = (10,20,30,40,50)"
   ]
  },
  {
   "cell_type": "code",
   "execution_count": null,
   "id": "e5cc210e-37a5-4a63-9d31-83d3ef43d547",
   "metadata": {
    "gradient": {
     "editing": false,
     "execution_count": 2,
     "id": "e5cc210e-37a5-4a63-9d31-83d3ef43d547",
     "kernelId": "ebae4550-2af5-4970-9310-26780c9446a1"
    }
   },
   "outputs": [
    {
     "name": "stdout",
     "output_type": "stream",
     "text": [
      "(50, 40, 30, 20, 10)\n"
     ]
    }
   ],
   "source": [
    "#reverse\n",
    "print(atuple[::-1])"
   ]
  },
  {
   "cell_type": "code",
   "execution_count": null,
   "id": "014878b5-8006-491a-9e81-47f238c1d16f",
   "metadata": {
    "gradient": {
     "editing": false,
     "execution_count": 3,
     "id": "014878b5-8006-491a-9e81-47f238c1d16f",
     "kernelId": "ebae4550-2af5-4970-9310-26780c9446a1"
    }
   },
   "outputs": [],
   "source": [
    "atuple = ('Orange', [10,20,30],(5,15,25))"
   ]
  },
  {
   "cell_type": "code",
   "execution_count": null,
   "id": "4156b9ed-7b85-4049-8d89-8f06d9bcfba8",
   "metadata": {
    "gradient": {
     "editing": false,
     "execution_count": 4,
     "id": "4156b9ed-7b85-4049-8d89-8f06d9bcfba8",
     "kernelId": "ebae4550-2af5-4970-9310-26780c9446a1"
    }
   },
   "outputs": [
    {
     "name": "stdout",
     "output_type": "stream",
     "text": [
      "20\n"
     ]
    }
   ],
   "source": [
    "print(atuple[1][1])"
   ]
  },
  {
   "cell_type": "code",
   "execution_count": null,
   "id": "ac2c2bd1-2f09-4def-9dca-62716c857a64",
   "metadata": {
    "gradient": {
     "editing": false,
     "execution_count": 5,
     "id": "ac2c2bd1-2f09-4def-9dca-62716c857a64",
     "kernelId": "ebae4550-2af5-4970-9310-26780c9446a1"
    }
   },
   "outputs": [
    {
     "name": "stdout",
     "output_type": "stream",
     "text": [
      "(50,)\n"
     ]
    }
   ],
   "source": [
    "atuple = (50,)\n",
    "print(atuple)"
   ]
  },
  {
   "cell_type": "code",
   "execution_count": null,
   "id": "67cfd523-5c08-4645-b063-2abada741391",
   "metadata": {
    "gradient": {
     "editing": false,
     "execution_count": 6,
     "id": "67cfd523-5c08-4645-b063-2abada741391",
     "kernelId": "ebae4550-2af5-4970-9310-26780c9446a1"
    }
   },
   "outputs": [],
   "source": [
    "atuple=(10,20,30,40)"
   ]
  },
  {
   "cell_type": "code",
   "execution_count": null,
   "id": "8004f30a-3ecf-44ab-87b3-8c6ff9738ac9",
   "metadata": {
    "gradient": {
     "editing": false,
     "execution_count": 7,
     "id": "8004f30a-3ecf-44ab-87b3-8c6ff9738ac9",
     "kernelId": "ebae4550-2af5-4970-9310-26780c9446a1"
    }
   },
   "outputs": [
    {
     "name": "stdout",
     "output_type": "stream",
     "text": [
      "10\n",
      "20\n",
      "30\n",
      "40\n"
     ]
    }
   ],
   "source": [
    "for item in atuple:\n",
    "    print (item)"
   ]
  },
  {
   "cell_type": "code",
   "execution_count": null,
   "id": "b0ca9464-a2a5-4fb8-8314-3c05502c4c0b",
   "metadata": {
    "gradient": {
     "editing": false,
     "execution_count": 8,
     "id": "b0ca9464-a2a5-4fb8-8314-3c05502c4c0b",
     "kernelId": "ebae4550-2af5-4970-9310-26780c9446a1"
    }
   },
   "outputs": [
    {
     "name": "stdout",
     "output_type": "stream",
     "text": [
      "10\n",
      "20\n",
      "30\n",
      "40\n"
     ]
    }
   ],
   "source": [
    "a,b,c,d =atuple\n",
    "print(a)\n",
    "print(b)\n",
    "print(c)\n",
    "print(d)"
   ]
  },
  {
   "cell_type": "code",
   "execution_count": null,
   "id": "8b239fb6-4844-46e1-9b57-4595b9235cd5",
   "metadata": {
    "gradient": {
     "editing": false,
     "execution_count": 9,
     "id": "8b239fb6-4844-46e1-9b57-4595b9235cd5",
     "kernelId": "ebae4550-2af5-4970-9310-26780c9446a1"
    }
   },
   "outputs": [],
   "source": [
    "tuple1 = (11,22)\n",
    "tuple2 = (99,88)"
   ]
  },
  {
   "cell_type": "code",
   "execution_count": null,
   "id": "98a74bc4-d543-41a1-b87c-ad5cf624678f",
   "metadata": {
    "gradient": {
     "editing": false,
     "execution_count": 10,
     "id": "98a74bc4-d543-41a1-b87c-ad5cf624678f",
     "kernelId": "ebae4550-2af5-4970-9310-26780c9446a1"
    }
   },
   "outputs": [
    {
     "name": "stdout",
     "output_type": "stream",
     "text": [
      "(99, 88) (11, 22)\n"
     ]
    }
   ],
   "source": [
    "temp = tuple1\n",
    "tuple1 = tuple2\n",
    "tuple2 = temp\n",
    "\n",
    "print(tuple1, tuple2)"
   ]
  },
  {
   "cell_type": "code",
   "execution_count": null,
   "id": "4e0badb7-1661-4572-bb70-599819513a88",
   "metadata": {
    "gradient": {
     "execution_count": 11,
     "id": "4e0badb7-1661-4572-bb70-599819513a88",
     "kernelId": "ebae4550-2af5-4970-9310-26780c9446a1"
    }
   },
   "outputs": [
    {
     "name": "stdout",
     "output_type": "stream",
     "text": [
      "(99, 88)\n",
      "(11, 22)\n"
     ]
    }
   ],
   "source": [
    "# or\n",
    "tuple1 = (11,22)\n",
    "tuple2 = (99,88)\n",
    "tuple1,tuple2 =tuple2, tuple1\n",
    "print(tuple1)\n",
    "print(tuple2)"
   ]
  },
  {
   "cell_type": "code",
   "execution_count": null,
   "id": "c101007a-1bc2-4096-8e61-cd0be70d5bff",
   "metadata": {
    "gradient": {
     "execution_count": 12,
     "id": "c101007a-1bc2-4096-8e61-cd0be70d5bff",
     "kernelId": "ebae4550-2af5-4970-9310-26780c9446a1"
    }
   },
   "outputs": [
    {
     "name": "stdout",
     "output_type": "stream",
     "text": [
      "(44, 55)\n"
     ]
    }
   ],
   "source": [
    "tuple1 = (11,22,33,44,55,66)\n",
    "tuple2 = tuple1[3:5]\n",
    "print(tuple2)"
   ]
  },
  {
   "cell_type": "code",
   "execution_count": null,
   "id": "79db4d4b-1c0c-4838-acb5-a41eb2c625d8",
   "metadata": {
    "gradient": {
     "execution_count": 13,
     "id": "79db4d4b-1c0c-4838-acb5-a41eb2c625d8",
     "kernelId": "ebae4550-2af5-4970-9310-26780c9446a1"
    }
   },
   "outputs": [],
   "source": [
    "tuple1 = (11,[22,33],44,55)"
   ]
  },
  {
   "cell_type": "code",
   "execution_count": null,
   "id": "c6b8fd76-64d2-4d20-8512-2fa9b9d835fa",
   "metadata": {
    "gradient": {
     "execution_count": 14,
     "id": "c6b8fd76-64d2-4d20-8512-2fa9b9d835fa",
     "kernelId": "ebae4550-2af5-4970-9310-26780c9446a1"
    }
   },
   "outputs": [],
   "source": [
    "tuple1[1][0] =222"
   ]
  },
  {
   "cell_type": "code",
   "execution_count": null,
   "id": "32ee13f3-2601-4faa-b8c1-1080e2deb93d",
   "metadata": {
    "gradient": {
     "execution_count": 15,
     "id": "32ee13f3-2601-4faa-b8c1-1080e2deb93d",
     "kernelId": "ebae4550-2af5-4970-9310-26780c9446a1"
    }
   },
   "outputs": [
    {
     "data": {
      "text/plain": [
       "(11, [222, 33], 44, 55)"
      ]
     },
     "execution_count": 15,
     "metadata": {},
     "output_type": "execute_result"
    }
   ],
   "source": [
    "tuple1"
   ]
  },
  {
   "cell_type": "code",
   "execution_count": null,
   "id": "6e5808f8-034f-4ebb-99dd-2d002ae1b67b",
   "metadata": {
    "gradient": {
     "execution_count": 16,
     "id": "6e5808f8-034f-4ebb-99dd-2d002ae1b67b",
     "kernelId": "ebae4550-2af5-4970-9310-26780c9446a1"
    }
   },
   "outputs": [],
   "source": [
    "tuple1 = (('a',23),('b',37),('c',11),('d',29))"
   ]
  },
  {
   "cell_type": "code",
   "execution_count": null,
   "id": "b14d6db3-dab8-432f-bc3b-909eda5c67b0",
   "metadata": {
    "gradient": {
     "execution_count": 17,
     "id": "b14d6db3-dab8-432f-bc3b-909eda5c67b0",
     "kernelId": "ebae4550-2af5-4970-9310-26780c9446a1"
    }
   },
   "outputs": [
    {
     "name": "stdout",
     "output_type": "stream",
     "text": [
      "[('c', 11), ('a', 23), ('d', 29), ('b', 37)]\n"
     ]
    }
   ],
   "source": [
    "print(sorted(tuple1,key = lambda x:x[1]))"
   ]
  },
  {
   "cell_type": "code",
   "execution_count": null,
   "id": "f61895b2-4529-44f8-877f-70c153015976",
   "metadata": {
    "gradient": {
     "execution_count": 18,
     "id": "f61895b2-4529-44f8-877f-70c153015976",
     "kernelId": "ebae4550-2af5-4970-9310-26780c9446a1"
    }
   },
   "outputs": [
    {
     "name": "stdout",
     "output_type": "stream",
     "text": [
      "(('c', 11), ('a', 23), ('d', 29), ('b', 37))\n"
     ]
    }
   ],
   "source": [
    "#or\n",
    "tuple1 = (('a',23),('b',37),('c',11),('d',29))\n",
    "tuple1 =tuple(sorted(list(tuple1), key=lambda x:x[1]))\n",
    "print(tuple1)"
   ]
  },
  {
   "cell_type": "code",
   "execution_count": null,
   "id": "8fb717bf-26c3-4298-8279-2b18f6128356",
   "metadata": {
    "gradient": {
     "execution_count": 19,
     "id": "8fb717bf-26c3-4298-8279-2b18f6128356",
     "kernelId": "ebae4550-2af5-4970-9310-26780c9446a1"
    }
   },
   "outputs": [
    {
     "name": "stdout",
     "output_type": "stream",
     "text": [
      "2\n"
     ]
    }
   ],
   "source": [
    "# counts the number of time 50 is in a tuple\n",
    "tuple1 = (50,10,60,70,50)\n",
    "\n",
    "x = tuple1.count(50)\n",
    "print(x)"
   ]
  },
  {
   "cell_type": "code",
   "execution_count": null,
   "id": "d08c0b68-940e-44b9-928a-4c2885be99c2",
   "metadata": {
    "gradient": {
     "execution_count": 20,
     "id": "d08c0b68-940e-44b9-928a-4c2885be99c2",
     "kernelId": "ebae4550-2af5-4970-9310-26780c9446a1"
    }
   },
   "outputs": [
    {
     "name": "stdout",
     "output_type": "stream",
     "text": [
      "2\n"
     ]
    }
   ],
   "source": [
    "# counts the number of time 50 is in a tuple\n",
    "tuple1 = (50,10,60,70,50)\n",
    "\n",
    "print(tuple1.count(50))"
   ]
  },
  {
   "cell_type": "code",
   "execution_count": null,
   "id": "7123175a-4ddb-4893-9d60-9436726dcabe",
   "metadata": {
    "gradient": {
     "execution_count": 26,
     "id": "7123175a-4ddb-4893-9d60-9436726dcabe",
     "kernelId": "ebae4550-2af5-4970-9310-26780c9446a1"
    }
   },
   "outputs": [
    {
     "name": "stdout",
     "output_type": "stream",
     "text": [
      "45 4\n"
     ]
    }
   ],
   "source": [
    "tuple1 = (45,45,45,45)\n",
    "\n",
    "x = tuple1[0]\n",
    "y = len(tuple1)\n",
    "z tuple\n",
    "print(x, y)"
   ]
  },
  {
   "cell_type": "code",
   "execution_count": null,
   "id": "95385cf6-0f89-4985-9f62-7785fd6ffa90",
   "metadata": {
    "gradient": {
     "id": "95385cf6-0f89-4985-9f62-7785fd6ffa90",
     "kernelId": "ebae4550-2af5-4970-9310-26780c9446a1"
    }
   },
   "outputs": [],
   "source": []
  }
 ],
 "metadata": {
  "kernelspec": {
   "display_name": "Python 3",
   "language": "python",
   "name": "python3"
  },
  "language_info": {
   "codemirror_mode": {
    "name": "ipython",
    "version": 3
   },
   "file_extension": ".py",
   "mimetype": "text/x-python",
   "name": "python",
   "nbconvert_exporter": "python",
   "pygments_lexer": "ipython3",
   "version": "3.9.5"
  }
 },
 "nbformat": 4,
 "nbformat_minor": 5
}
