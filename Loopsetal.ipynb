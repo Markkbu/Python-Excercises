{
 "cells": [
  {
   "cell_type": "code",
   "execution_count": 1,
   "id": "c35cc85d-46aa-4d48-8a85-43ceeb742dbe",
   "metadata": {},
   "outputs": [
    {
     "name": "stdout",
     "output_type": "stream",
     "text": [
      "0\n",
      "1\n",
      "2\n",
      "3\n",
      "4\n",
      "5\n",
      "6\n",
      "7\n",
      "8\n",
      "9\n",
      "10\n"
     ]
    }
   ],
   "source": [
    "for i in range (0,11):\n",
    "    print(i)"
   ]
  },
  {
   "cell_type": "code",
   "execution_count": 2,
   "id": "4be42457-12c7-46b3-9b34-ca17490e6b85",
   "metadata": {},
   "outputs": [
    {
     "name": "stdout",
     "output_type": "stream",
     "text": [
      "1 \n",
      "1 2 \n",
      "1 2 3 \n",
      "1 2 3 4 \n",
      "1 2 3 4 5 \n"
     ]
    }
   ],
   "source": [
    "for i in range(1,6):\n",
    "    for j in range(1,i+1):\n",
    "        print(j, end=' ')\n",
    "    print(\"\")"
   ]
  },
  {
   "cell_type": "code",
   "execution_count": 3,
   "id": "4dc30ff8-de30-4a79-a2b6-07462ceba3c4",
   "metadata": {},
   "outputs": [
    {
     "name": "stdin",
     "output_type": "stream",
     "text": [
      "What is a number? 8\n"
     ]
    },
    {
     "name": "stdout",
     "output_type": "stream",
     "text": [
      "36\n"
     ]
    }
   ],
   "source": [
    "ans = int(input(\"What is a number?\"))\n",
    "\n",
    "res = 0\n",
    "for i in range (1,ans + 1,1):\n",
    "    res += i\n",
    "print (res)\n"
   ]
  },
  {
   "cell_type": "code",
   "execution_count": 4,
   "id": "940335bf-f918-4de8-bc4c-aca80720e3aa",
   "metadata": {},
   "outputs": [
    {
     "name": "stdin",
     "output_type": "stream",
     "text": [
      "What number should I use to make multiplication tables? 9\n"
     ]
    },
    {
     "name": "stdout",
     "output_type": "stream",
     "text": [
      "0\n",
      "9\n",
      "18\n",
      "27\n",
      "36\n",
      "45\n",
      "54\n",
      "63\n",
      "72\n",
      "81\n",
      "90\n",
      "That is the muliplication tabel for  9\n"
     ]
    }
   ],
   "source": [
    "n = int(input(\"What number should I use to make multiplication tables?\"))\n",
    "\n",
    "for i in range(0,11):\n",
    "    print(i*n)\n",
    "\n",
    "print('That is the muliplication tabel for ',n)"
   ]
  },
  {
   "cell_type": "code",
   "execution_count": 5,
   "id": "1396a900-0d33-4dc4-8272-684013ad5205",
   "metadata": {},
   "outputs": [
    {
     "name": "stdout",
     "output_type": "stream",
     "text": [
      "15\n",
      "55\n",
      "75\n",
      "150\n"
     ]
    }
   ],
   "source": [
    "list1 = [12,15,32,42,55,75,122,132,150, 180,200]\n",
    "\n",
    "for i in list1:\n",
    "    if i > 150:\n",
    "        break\n",
    "    if i % 5 == 0:\n",
    "        print(i)\n"
   ]
  },
  {
   "cell_type": "code",
   "execution_count": 6,
   "id": "3ea7304e-d903-4e69-a68d-6d790672dca9",
   "metadata": {},
   "outputs": [
    {
     "name": "stdout",
     "output_type": "stream",
     "text": [
      "There are 53  places in this number.\n"
     ]
    }
   ],
   "source": [
    "n = 100009999999999999999998888888888888888888888888888888\n",
    "res=0\n",
    "while n>1:\n",
    "    n= n//10\n",
    "    res+=1\n",
    "    \n",
    "print(\"There are\",res,\" places in this number.\")"
   ]
  },
  {
   "cell_type": "code",
   "execution_count": 7,
   "id": "2859fc90-1b50-42f2-a3a2-720038620588",
   "metadata": {},
   "outputs": [
    {
     "name": "stdout",
     "output_type": "stream",
     "text": [
      "1 2 3 4 5 \n",
      "1 2 3 4 \n",
      "1 2 3 \n",
      "1 2 \n",
      "1 \n"
     ]
    }
   ],
   "source": [
    "n=5\n",
    "\n",
    "for i in range(n+1,1,-1):\n",
    "    for j in range(1, i):\n",
    "        print(j, end=' ')\n",
    "    print(\"\")"
   ]
  },
  {
   "cell_type": "code",
   "execution_count": 8,
   "id": "aadbe622-e197-450d-a910-f6fd2efba47c",
   "metadata": {},
   "outputs": [
    {
     "name": "stdout",
     "output_type": "stream",
     "text": [
      "50\n",
      "40\n",
      "30\n",
      "20\n",
      "10\n"
     ]
    }
   ],
   "source": [
    "list1 = [10,20,30,40,50]\n",
    "length=len(list1)\n",
    "\n",
    "for i in range(0,length):\n",
    "    print (list1[-i-1])"
   ]
  },
  {
   "cell_type": "code",
   "execution_count": 9,
   "id": "43b8f5ee-cff3-4b27-802c-1aa8b5e127f9",
   "metadata": {},
   "outputs": [
    {
     "data": {
      "text/plain": [
       "5"
      ]
     },
     "execution_count": 9,
     "metadata": {},
     "output_type": "execute_result"
    }
   ],
   "source": [
    "length"
   ]
  },
  {
   "cell_type": "code",
   "execution_count": 10,
   "id": "6a95472b-41b2-4b44-b6db-0466126d4994",
   "metadata": {},
   "outputs": [
    {
     "name": "stdout",
     "output_type": "stream",
     "text": [
      "-10\n",
      "-9\n",
      "-8\n",
      "-7\n",
      "-6\n",
      "-5\n",
      "-4\n",
      "-3\n",
      "-2\n",
      "-1\n"
     ]
    }
   ],
   "source": [
    "for i in range(-10,0, 1):\n",
    "    print(i)"
   ]
  },
  {
   "cell_type": "code",
   "execution_count": 11,
   "id": "763ec94c-8f44-4751-8137-cee5aee361c0",
   "metadata": {},
   "outputs": [
    {
     "name": "stdout",
     "output_type": "stream",
     "text": [
      "0\n",
      "1\n",
      "2\n",
      "3\n",
      "4\n",
      "done!\n"
     ]
    }
   ],
   "source": [
    "for i in range(5):\n",
    "    print(i)\n",
    "print(\"done!\")"
   ]
  },
  {
   "cell_type": "code",
   "execution_count": 12,
   "id": "5e02a0ce-dac1-43a8-bf6e-f7236678d1f6",
   "metadata": {},
   "outputs": [
    {
     "name": "stdout",
     "output_type": "stream",
     "text": [
      "11\n",
      "13\n",
      "17\n",
      "19\n",
      "23\n",
      "29\n",
      "31\n",
      "37\n",
      "41\n"
     ]
    }
   ],
   "source": [
    "start= 8\n",
    "end=42\n",
    "\n",
    "\n",
    "\n",
    "for num in range(start,end+1):\n",
    "    if num > 1:\n",
    "        for i in range(2,num):\n",
    "            if (num % i) == 0:\n",
    "                break\n",
    "        else:\n",
    "            print(num)\n",
    "                \n",
    "\n"
   ]
  },
  {
   "cell_type": "code",
   "execution_count": 13,
   "id": "2970094d-8748-427a-b5a5-076ba7680368",
   "metadata": {},
   "outputs": [
    {
     "name": "stdout",
     "output_type": "stream",
     "text": [
      "0 1 1 2 3 5 8 13 21 34 "
     ]
    }
   ],
   "source": [
    "num1,num2 = 0,1\n",
    "for i in range(0,10):\n",
    "    print(num1, end=' ')\n",
    "    temp =num1+num2\n",
    "    num1=num2\n",
    "    num2=temp\n",
    "        \n",
    "\n",
    "\n"
   ]
  },
  {
   "cell_type": "code",
   "execution_count": 21,
   "id": "5a71e477-1088-4096-abcd-d987220d31f2",
   "metadata": {},
   "outputs": [
    {
     "name": "stdout",
     "output_type": "stream",
     "text": [
      "1\n",
      "2\n",
      "6\n",
      "24\n",
      "120\n"
     ]
    }
   ],
   "source": [
    "n=5\n",
    "res = 1\n",
    "\n",
    "for i in range(1,n+1):\n",
    "    res = i*res\n",
    "    print(res)\n",
    "    "
   ]
  },
  {
   "cell_type": "code",
   "execution_count": 24,
   "id": "8b74497b-bd73-43ce-8a84-e5f0f6b9dcef",
   "metadata": {},
   "outputs": [
    {
     "name": "stdout",
     "output_type": "stream",
     "text": [
      "Given Number  76542\n",
      "Revered Number  24567\n"
     ]
    }
   ],
   "source": [
    "num = 76542\n",
    "reverse_number = 0\n",
    "print(\"Given Number \", num)\n",
    "while num > 0:\n",
    "    reminder = num % 10\n",
    "    reverse_number = (reverse_number * 10) + reminder\n",
    "    num = num // 10\n",
    "print(\"Revered Number \", reverse_number)"
   ]
  },
  {
   "cell_type": "code",
   "execution_count": 34,
   "id": "80469c90-07fb-46e2-99ea-94d44e6788fe",
   "metadata": {},
   "outputs": [
    {
     "name": "stdout",
     "output_type": "stream",
     "text": [
      "24690\n"
     ]
    }
   ],
   "source": [
    "num_of_terms=5\n",
    "start_n=2\n",
    "total_num=0\n",
    "\n",
    "for i in range(0,num_of_terms):\n",
    "    total_num += start_n\n",
    "    start_n =(start_n * 10)+2\n",
    "print(total_num)\n",
    "    \n"
   ]
  },
  {
   "cell_type": "code",
   "execution_count": 35,
   "id": "e10fc665-6aed-450e-b014-7817c63781dd",
   "metadata": {},
   "outputs": [
    {
     "name": "stdout",
     "output_type": "stream",
     "text": [
      "* \n",
      "* * \n",
      "* * * \n",
      "* * * * \n",
      "* * * * * \n",
      "* * * * \n",
      "* * * \n",
      "* * \n",
      "* \n",
      "\n"
     ]
    }
   ],
   "source": [
    "rows = 5\n",
    "for i in range(0, rows):\n",
    "    for j in range(0, i + 1):\n",
    "        print(\"*\", end=' ')\n",
    "    print(\"\\r\")\n",
    "\n",
    "for i in range(rows, 0, -1):\n",
    "    for j in range(0, i - 1):\n",
    "        print(\"*\", end=' ')\n",
    "    print(\"\\r\")\n"
   ]
  },
  {
   "cell_type": "code",
   "execution_count": null,
   "id": "e14ff92d-3b15-4404-bbb3-34fa068abf48",
   "metadata": {},
   "outputs": [],
   "source": []
  }
 ],
 "metadata": {
  "kernelspec": {
   "display_name": "Python 3",
   "language": "python",
   "name": "python3"
  },
  "language_info": {
   "codemirror_mode": {
    "name": "ipython",
    "version": 3
   },
   "file_extension": ".py",
   "mimetype": "text/x-python",
   "name": "python",
   "nbconvert_exporter": "python",
   "pygments_lexer": "ipython3",
   "version": "3.9.5"
  }
 },
 "nbformat": 4,
 "nbformat_minor": 5
}
