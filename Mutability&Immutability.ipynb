{
 "cells": [
  {
   "cell_type": "markdown",
   "id": "91465d3f-7a10-409d-80af-590cefd62dd6",
   "metadata": {
    "gradient": {
     "editing": false,
     "id": "91465d3f-7a10-409d-80af-590cefd62dd6",
     "kernelId": "4b616fab-d0de-4e6b-a475-2603d56e71ba"
    }
   },
   "source": [
    "## __Important: the id( function)__"
   ]
  },
  {
   "cell_type": "code",
   "execution_count": null,
   "id": "b2171a88-b4ef-461c-8fe0-1b46a932243e",
   "metadata": {
    "gradient": {
     "editing": false,
     "execution_count": 1,
     "id": "b2171a88-b4ef-461c-8fe0-1b46a932243e",
     "kernelId": "4b616fab-d0de-4e6b-a475-2603d56e71ba"
    }
   },
   "outputs": [],
   "source": [
    "# it tells you where, in memory, something is stored"
   ]
  },
  {
   "cell_type": "code",
   "execution_count": null,
   "id": "cdbbc14f-2d9a-4b32-a8b1-ca69b3c29c63",
   "metadata": {
    "gradient": {
     "editing": false,
     "execution_count": 2,
     "id": "cdbbc14f-2d9a-4b32-a8b1-ca69b3c29c63",
     "kernelId": "4b616fab-d0de-4e6b-a475-2603d56e71ba"
    }
   },
   "outputs": [],
   "source": [
    "x = 1\n"
   ]
  },
  {
   "cell_type": "code",
   "execution_count": null,
   "id": "35cf244b-4112-4a79-b7d3-a1ef6b91705c",
   "metadata": {
    "gradient": {
     "editing": false,
     "execution_count": 3,
     "id": "35cf244b-4112-4a79-b7d3-a1ef6b91705c",
     "kernelId": "4b616fab-d0de-4e6b-a475-2603d56e71ba"
    }
   },
   "outputs": [
    {
     "data": {
      "text/plain": [
       "139627230353712"
      ]
     },
     "execution_count": 3,
     "metadata": {},
     "output_type": "execute_result"
    }
   ],
   "source": [
    "id(x)"
   ]
  },
  {
   "cell_type": "code",
   "execution_count": null,
   "id": "bfca888e-31a0-4a24-88c0-aaafb683cf33",
   "metadata": {
    "gradient": {
     "editing": false,
     "execution_count": 4,
     "id": "bfca888e-31a0-4a24-88c0-aaafb683cf33",
     "kernelId": "4b616fab-d0de-4e6b-a475-2603d56e71ba"
    }
   },
   "outputs": [],
   "source": [
    "y = [1,2,3]"
   ]
  },
  {
   "cell_type": "code",
   "execution_count": null,
   "id": "d3aed63b-b16e-4438-9f44-0c77284508c4",
   "metadata": {
    "gradient": {
     "editing": false,
     "execution_count": 5,
     "id": "d3aed63b-b16e-4438-9f44-0c77284508c4",
     "kernelId": "4b616fab-d0de-4e6b-a475-2603d56e71ba"
    }
   },
   "outputs": [
    {
     "data": {
      "text/plain": [
       "139627176422208"
      ]
     },
     "execution_count": 5,
     "metadata": {},
     "output_type": "execute_result"
    }
   ],
   "source": [
    "id(y)"
   ]
  },
  {
   "cell_type": "code",
   "execution_count": null,
   "id": "f7ad7688-5b5e-4df3-b1ae-f8d47b64d10b",
   "metadata": {
    "gradient": {
     "editing": false,
     "execution_count": 6,
     "id": "f7ad7688-5b5e-4df3-b1ae-f8d47b64d10b",
     "kernelId": "4b616fab-d0de-4e6b-a475-2603d56e71ba"
    },
    "jupyter": {
     "source_hidden": true
    },
    "tags": []
   },
   "outputs": [],
   "source": [
    "z = {1:2, 3:4}"
   ]
  },
  {
   "cell_type": "code",
   "execution_count": null,
   "id": "ed9bfa7a-1ee1-448f-82e1-02f1a27e888e",
   "metadata": {
    "gradient": {
     "editing": false,
     "execution_count": 7,
     "id": "ed9bfa7a-1ee1-448f-82e1-02f1a27e888e",
     "kernelId": "4b616fab-d0de-4e6b-a475-2603d56e71ba"
    }
   },
   "outputs": [
    {
     "data": {
      "text/plain": [
       "139627176392640"
      ]
     },
     "execution_count": 7,
     "metadata": {},
     "output_type": "execute_result"
    }
   ],
   "source": [
    "id(z)"
   ]
  },
  {
   "cell_type": "code",
   "execution_count": null,
   "id": "53997e28-5385-49dc-a0e8-7e8315adcffe",
   "metadata": {
    "gradient": {
     "editing": false,
     "execution_count": 8,
     "id": "53997e28-5385-49dc-a0e8-7e8315adcffe",
     "kernelId": "4b616fab-d0de-4e6b-a475-2603d56e71ba"
    }
   },
   "outputs": [],
   "source": [
    "#Experiments"
   ]
  },
  {
   "cell_type": "code",
   "execution_count": null,
   "id": "c0b9be3a-6c55-4a45-98dd-886e3abfae21",
   "metadata": {
    "gradient": {
     "editing": false,
     "execution_count": 9,
     "id": "c0b9be3a-6c55-4a45-98dd-886e3abfae21",
     "kernelId": "4b616fab-d0de-4e6b-a475-2603d56e71ba"
    }
   },
   "outputs": [],
   "source": [
    "x = 1\n"
   ]
  },
  {
   "cell_type": "code",
   "execution_count": null,
   "id": "906d7f58-5f01-4787-9851-03cfd11f2a0f",
   "metadata": {
    "gradient": {
     "editing": false,
     "execution_count": 10,
     "id": "906d7f58-5f01-4787-9851-03cfd11f2a0f",
     "kernelId": "4b616fab-d0de-4e6b-a475-2603d56e71ba"
    }
   },
   "outputs": [
    {
     "data": {
      "text/plain": [
       "139627230353712"
      ]
     },
     "execution_count": 10,
     "metadata": {},
     "output_type": "execute_result"
    }
   ],
   "source": [
    "id(x)"
   ]
  },
  {
   "cell_type": "code",
   "execution_count": null,
   "id": "217dc42f-7082-4203-9bc7-cd999bbb7349",
   "metadata": {
    "gradient": {
     "execution_count": 11,
     "id": "217dc42f-7082-4203-9bc7-cd999bbb7349",
     "kernelId": "4b616fab-d0de-4e6b-a475-2603d56e71ba"
    }
   },
   "outputs": [],
   "source": [
    "x = 2"
   ]
  },
  {
   "cell_type": "code",
   "execution_count": null,
   "id": "e5cd623c-15fb-4f96-bdc5-626775c5be66",
   "metadata": {
    "gradient": {
     "execution_count": 12,
     "id": "e5cd623c-15fb-4f96-bdc5-626775c5be66",
     "kernelId": "4b616fab-d0de-4e6b-a475-2603d56e71ba"
    }
   },
   "outputs": [
    {
     "data": {
      "text/plain": [
       "139627230353744"
      ]
     },
     "execution_count": 12,
     "metadata": {},
     "output_type": "execute_result"
    }
   ],
   "source": [
    "id(x)"
   ]
  },
  {
   "cell_type": "code",
   "execution_count": null,
   "id": "d329073b-8127-44ed-8853-7d018b2591ea",
   "metadata": {
    "gradient": {
     "execution_count": 13,
     "id": "d329073b-8127-44ed-8853-7d018b2591ea",
     "kernelId": "4b616fab-d0de-4e6b-a475-2603d56e71ba"
    }
   },
   "outputs": [],
   "source": [
    "# by looking at the location, we can see that we aren't just reassigning the variable but, \n",
    "# instead we are changing the variable"
   ]
  },
  {
   "cell_type": "code",
   "execution_count": null,
   "id": "38e29965-f1d8-44fa-9f9f-023cf6889533",
   "metadata": {
    "gradient": {
     "execution_count": 14,
     "id": "38e29965-f1d8-44fa-9f9f-023cf6889533",
     "kernelId": "4b616fab-d0de-4e6b-a475-2603d56e71ba"
    }
   },
   "outputs": [],
   "source": [
    "# Experiment 2"
   ]
  },
  {
   "cell_type": "code",
   "execution_count": null,
   "id": "eb16697c-1fea-42e6-859e-51a90ad47460",
   "metadata": {
    "gradient": {
     "execution_count": 15,
     "id": "eb16697c-1fea-42e6-859e-51a90ad47460",
     "kernelId": "4b616fab-d0de-4e6b-a475-2603d56e71ba"
    }
   },
   "outputs": [],
   "source": [
    "x = 3"
   ]
  },
  {
   "cell_type": "code",
   "execution_count": null,
   "id": "3455857d-a0ec-4cc5-bdc5-ae110afdedca",
   "metadata": {
    "gradient": {
     "execution_count": 16,
     "id": "3455857d-a0ec-4cc5-bdc5-ae110afdedca",
     "kernelId": "4b616fab-d0de-4e6b-a475-2603d56e71ba"
    }
   },
   "outputs": [
    {
     "data": {
      "text/plain": [
       "139627230353776"
      ]
     },
     "execution_count": 16,
     "metadata": {},
     "output_type": "execute_result"
    }
   ],
   "source": [
    "id(x)"
   ]
  },
  {
   "cell_type": "code",
   "execution_count": null,
   "id": "a6d71753-23fb-48c4-b373-d0d692ca1f8e",
   "metadata": {
    "gradient": {
     "execution_count": 17,
     "id": "a6d71753-23fb-48c4-b373-d0d692ca1f8e",
     "kernelId": "4b616fab-d0de-4e6b-a475-2603d56e71ba"
    }
   },
   "outputs": [],
   "source": [
    "x += 1"
   ]
  },
  {
   "cell_type": "code",
   "execution_count": null,
   "id": "7846b919-4101-4716-a47b-2f96d3087c0a",
   "metadata": {
    "gradient": {
     "execution_count": 18,
     "id": "7846b919-4101-4716-a47b-2f96d3087c0a",
     "kernelId": "4b616fab-d0de-4e6b-a475-2603d56e71ba"
    }
   },
   "outputs": [
    {
     "data": {
      "text/plain": [
       "4"
      ]
     },
     "execution_count": 18,
     "metadata": {},
     "output_type": "execute_result"
    }
   ],
   "source": [
    "x"
   ]
  },
  {
   "cell_type": "code",
   "execution_count": null,
   "id": "e4df36bf-59e8-422c-a2df-6db0e8bdac60",
   "metadata": {
    "gradient": {
     "execution_count": 19,
     "id": "e4df36bf-59e8-422c-a2df-6db0e8bdac60",
     "kernelId": "4b616fab-d0de-4e6b-a475-2603d56e71ba"
    }
   },
   "outputs": [
    {
     "data": {
      "text/plain": [
       "139627230353808"
      ]
     },
     "execution_count": 19,
     "metadata": {},
     "output_type": "execute_result"
    }
   ],
   "source": [
    "id(x)"
   ]
  },
  {
   "cell_type": "code",
   "execution_count": null,
   "id": "748219d9-11bb-4681-a687-f82c98cf9349",
   "metadata": {
    "gradient": {
     "execution_count": 20,
     "id": "748219d9-11bb-4681-a687-f82c98cf9349",
     "kernelId": "4b616fab-d0de-4e6b-a475-2603d56e71ba"
    }
   },
   "outputs": [],
   "source": [
    "#the location changes agian, so it is a DIFFERENT OBJECT IN MEMORY"
   ]
  },
  {
   "cell_type": "markdown",
   "id": "018d703d-17f9-4919-8f1e-dcc06be440ac",
   "metadata": {},
   "source": [
    "# Conclusion: we cannot change the va;ue ar the original object which is why we call number \"immutable\""
   ]
  },
  {
   "cell_type": "code",
   "execution_count": null,
   "id": "d85f828b-a3fa-43ec-928c-5e41588eac7f",
   "metadata": {
    "gradient": {
     "execution_count": 21,
     "id": "d85f828b-a3fa-43ec-928c-5e41588eac7f",
     "kernelId": "4b616fab-d0de-4e6b-a475-2603d56e71ba"
    }
   },
   "outputs": [],
   "source": [
    "#experiement 3"
   ]
  },
  {
   "cell_type": "code",
   "execution_count": null,
   "id": "e5569af1-e9f3-4900-bf0d-5f80a4f60674",
   "metadata": {
    "gradient": {
     "execution_count": 22,
     "id": "e5569af1-e9f3-4900-bf0d-5f80a4f60674",
     "kernelId": "4b616fab-d0de-4e6b-a475-2603d56e71ba"
    }
   },
   "outputs": [],
   "source": [
    "l = [1]"
   ]
  },
  {
   "cell_type": "code",
   "execution_count": null,
   "id": "3870e41b-eb6a-492f-963a-a010ed22925f",
   "metadata": {
    "gradient": {
     "execution_count": 23,
     "id": "3870e41b-eb6a-492f-963a-a010ed22925f",
     "kernelId": "4b616fab-d0de-4e6b-a475-2603d56e71ba"
    }
   },
   "outputs": [
    {
     "data": {
      "text/plain": [
       "[1]"
      ]
     },
     "execution_count": 23,
     "metadata": {},
     "output_type": "execute_result"
    }
   ],
   "source": [
    "l\n"
   ]
  },
  {
   "cell_type": "code",
   "execution_count": null,
   "id": "81654582-8a97-4258-902d-17a93e07e560",
   "metadata": {
    "gradient": {
     "execution_count": 24,
     "id": "81654582-8a97-4258-902d-17a93e07e560",
     "kernelId": "4b616fab-d0de-4e6b-a475-2603d56e71ba"
    }
   },
   "outputs": [
    {
     "data": {
      "text/plain": [
       "139627176089088"
      ]
     },
     "execution_count": 24,
     "metadata": {},
     "output_type": "execute_result"
    }
   ],
   "source": [
    "id(l)"
   ]
  },
  {
   "cell_type": "code",
   "execution_count": null,
   "id": "ca41b15f-151e-412f-8b85-58ba50989dac",
   "metadata": {
    "gradient": {
     "execution_count": 25,
     "id": "ca41b15f-151e-412f-8b85-58ba50989dac",
     "kernelId": "4b616fab-d0de-4e6b-a475-2603d56e71ba"
    }
   },
   "outputs": [],
   "source": [
    "l.append(2)"
   ]
  },
  {
   "cell_type": "code",
   "execution_count": null,
   "id": "ac8b3217-67eb-495e-b4d0-dc9bc6ed7e32",
   "metadata": {
    "gradient": {
     "execution_count": 26,
     "id": "ac8b3217-67eb-495e-b4d0-dc9bc6ed7e32",
     "kernelId": "4b616fab-d0de-4e6b-a475-2603d56e71ba"
    }
   },
   "outputs": [
    {
     "data": {
      "text/plain": [
       "[1, 2]"
      ]
     },
     "execution_count": 26,
     "metadata": {},
     "output_type": "execute_result"
    }
   ],
   "source": [
    "l"
   ]
  },
  {
   "cell_type": "code",
   "execution_count": null,
   "id": "999eee2b-79c7-4f15-8269-b98396952e9a",
   "metadata": {
    "gradient": {
     "execution_count": 27,
     "id": "999eee2b-79c7-4f15-8269-b98396952e9a",
     "kernelId": "4b616fab-d0de-4e6b-a475-2603d56e71ba"
    }
   },
   "outputs": [
    {
     "data": {
      "text/plain": [
       "139627176089088"
      ]
     },
     "execution_count": 27,
     "metadata": {},
     "output_type": "execute_result"
    }
   ],
   "source": [
    "id(l)"
   ]
  },
  {
   "cell_type": "code",
   "execution_count": null,
   "id": "a9df9774-ef3d-4d86-9a93-e2e6e2219441",
   "metadata": {
    "gradient": {
     "execution_count": 28,
     "id": "a9df9774-ef3d-4d86-9a93-e2e6e2219441",
     "kernelId": "4b616fab-d0de-4e6b-a475-2603d56e71ba"
    }
   },
   "outputs": [],
   "source": [
    "# note that they are the same location"
   ]
  },
  {
   "cell_type": "code",
   "execution_count": null,
   "id": "1f028a33-e74e-4a77-881f-de60752fc24a",
   "metadata": {
    "gradient": {
     "execution_count": 29,
     "id": "1f028a33-e74e-4a77-881f-de60752fc24a",
     "kernelId": "4b616fab-d0de-4e6b-a475-2603d56e71ba"
    }
   },
   "outputs": [],
   "source": [
    "# Experiment 4"
   ]
  },
  {
   "cell_type": "code",
   "execution_count": null,
   "id": "88ece199-328e-47b2-b4b6-7106d7b0ed82",
   "metadata": {
    "gradient": {
     "execution_count": 30,
     "id": "88ece199-328e-47b2-b4b6-7106d7b0ed82",
     "kernelId": "4b616fab-d0de-4e6b-a475-2603d56e71ba"
    }
   },
   "outputs": [],
   "source": [
    "l = [0]"
   ]
  },
  {
   "cell_type": "code",
   "execution_count": null,
   "id": "0567d91d-f8d5-4cc4-a2f8-1609ba50fce1",
   "metadata": {
    "gradient": {
     "execution_count": 31,
     "id": "0567d91d-f8d5-4cc4-a2f8-1609ba50fce1",
     "kernelId": "4b616fab-d0de-4e6b-a475-2603d56e71ba"
    }
   },
   "outputs": [
    {
     "data": {
      "text/plain": [
       "[0]"
      ]
     },
     "execution_count": 31,
     "metadata": {},
     "output_type": "execute_result"
    }
   ],
   "source": [
    "l"
   ]
  },
  {
   "cell_type": "code",
   "execution_count": null,
   "id": "f2b1db27-4e7c-43dc-85da-9e9cef7bc25b",
   "metadata": {
    "gradient": {
     "execution_count": 32,
     "id": "f2b1db27-4e7c-43dc-85da-9e9cef7bc25b",
     "kernelId": "4b616fab-d0de-4e6b-a475-2603d56e71ba"
    }
   },
   "outputs": [
    {
     "data": {
      "text/plain": [
       "139627195210816"
      ]
     },
     "execution_count": 32,
     "metadata": {},
     "output_type": "execute_result"
    }
   ],
   "source": [
    "id(l)"
   ]
  },
  {
   "cell_type": "code",
   "execution_count": null,
   "id": "35d95abb-2836-431c-afd7-1e393a6dbdc8",
   "metadata": {
    "gradient": {
     "execution_count": 33,
     "id": "35d95abb-2836-431c-afd7-1e393a6dbdc8",
     "kernelId": "4b616fab-d0de-4e6b-a475-2603d56e71ba"
    }
   },
   "outputs": [],
   "source": [
    "l = l +[1]"
   ]
  },
  {
   "cell_type": "code",
   "execution_count": null,
   "id": "d5a0e435-f399-40ee-a915-c99dd9cbe67b",
   "metadata": {
    "gradient": {
     "execution_count": 34,
     "id": "d5a0e435-f399-40ee-a915-c99dd9cbe67b",
     "kernelId": "4b616fab-d0de-4e6b-a475-2603d56e71ba"
    }
   },
   "outputs": [
    {
     "data": {
      "text/plain": [
       "[0, 1]"
      ]
     },
     "execution_count": 34,
     "metadata": {},
     "output_type": "execute_result"
    }
   ],
   "source": [
    "l"
   ]
  },
  {
   "cell_type": "code",
   "execution_count": null,
   "id": "e1723e2f-d335-445c-8db3-eb507f4f1729",
   "metadata": {
    "gradient": {
     "execution_count": 35,
     "id": "e1723e2f-d335-445c-8db3-eb507f4f1729",
     "kernelId": "4b616fab-d0de-4e6b-a475-2603d56e71ba"
    }
   },
   "outputs": [
    {
     "data": {
      "text/plain": [
       "139627193804096"
      ]
     },
     "execution_count": 35,
     "metadata": {},
     "output_type": "execute_result"
    }
   ],
   "source": [
    "id(l)"
   ]
  },
  {
   "cell_type": "code",
   "execution_count": null,
   "id": "573f4d02-6f95-446f-bd51-b5d4e4e7c21e",
   "metadata": {
    "gradient": {
     "execution_count": 36,
     "id": "573f4d02-6f95-446f-bd51-b5d4e4e7c21e",
     "kernelId": "4b616fab-d0de-4e6b-a475-2603d56e71ba"
    }
   },
   "outputs": [],
   "source": [
    "#notice that the location \"l\" changed. so the ls changed and a new object in memory"
   ]
  },
  {
   "cell_type": "code",
   "execution_count": null,
   "id": "0befad5e-1cdf-4aa4-8c48-6e81897dbd12",
   "metadata": {
    "gradient": {
     "execution_count": 37,
     "id": "0befad5e-1cdf-4aa4-8c48-6e81897dbd12",
     "kernelId": "4b616fab-d0de-4e6b-a475-2603d56e71ba"
    }
   },
   "outputs": [],
   "source": [
    "# Experiement 5"
   ]
  },
  {
   "cell_type": "code",
   "execution_count": null,
   "id": "aa186ab5-f3b1-49eb-9af8-788081c34e91",
   "metadata": {
    "gradient": {
     "execution_count": 38,
     "id": "aa186ab5-f3b1-49eb-9af8-788081c34e91",
     "kernelId": "4b616fab-d0de-4e6b-a475-2603d56e71ba"
    }
   },
   "outputs": [],
   "source": [
    "l = [0]"
   ]
  },
  {
   "cell_type": "code",
   "execution_count": null,
   "id": "83b9357c-cf2d-4fd6-9763-b047d7dc4f61",
   "metadata": {
    "gradient": {
     "execution_count": 39,
     "id": "83b9357c-cf2d-4fd6-9763-b047d7dc4f61",
     "kernelId": "4b616fab-d0de-4e6b-a475-2603d56e71ba"
    }
   },
   "outputs": [
    {
     "data": {
      "text/plain": [
       "[0]"
      ]
     },
     "execution_count": 39,
     "metadata": {},
     "output_type": "execute_result"
    }
   ],
   "source": [
    "l"
   ]
  },
  {
   "cell_type": "code",
   "execution_count": null,
   "id": "0d472886-0fcf-4b5d-9b39-82ef12721997",
   "metadata": {
    "gradient": {
     "execution_count": 40,
     "id": "0d472886-0fcf-4b5d-9b39-82ef12721997",
     "kernelId": "4b616fab-d0de-4e6b-a475-2603d56e71ba"
    }
   },
   "outputs": [
    {
     "data": {
      "text/plain": [
       "139627193804416"
      ]
     },
     "execution_count": 40,
     "metadata": {},
     "output_type": "execute_result"
    }
   ],
   "source": [
    "id(l)"
   ]
  },
  {
   "cell_type": "code",
   "execution_count": null,
   "id": "1643a58e-1aac-49d9-9e6b-97bb82577b07",
   "metadata": {
    "gradient": {
     "execution_count": 41,
     "id": "1643a58e-1aac-49d9-9e6b-97bb82577b07",
     "kernelId": "4b616fab-d0de-4e6b-a475-2603d56e71ba"
    }
   },
   "outputs": [],
   "source": [
    "l += [1]"
   ]
  },
  {
   "cell_type": "code",
   "execution_count": null,
   "id": "fea2de20-838a-4c8e-ba26-e3c683f40da7",
   "metadata": {
    "gradient": {
     "execution_count": 42,
     "id": "fea2de20-838a-4c8e-ba26-e3c683f40da7",
     "kernelId": "4b616fab-d0de-4e6b-a475-2603d56e71ba"
    }
   },
   "outputs": [
    {
     "data": {
      "text/plain": [
       "[0, 1]"
      ]
     },
     "execution_count": 42,
     "metadata": {},
     "output_type": "execute_result"
    }
   ],
   "source": [
    "l"
   ]
  },
  {
   "cell_type": "code",
   "execution_count": null,
   "id": "a2ec7513-4646-466f-8ed5-01c5474a8d11",
   "metadata": {
    "gradient": {
     "execution_count": 43,
     "id": "a2ec7513-4646-466f-8ed5-01c5474a8d11",
     "kernelId": "4b616fab-d0de-4e6b-a475-2603d56e71ba"
    }
   },
   "outputs": [
    {
     "data": {
      "text/plain": [
       "139627193804416"
      ]
     },
     "execution_count": 43,
     "metadata": {},
     "output_type": "execute_result"
    }
   ],
   "source": [
    "id(l)"
   ]
  },
  {
   "cell_type": "code",
   "execution_count": null,
   "id": "c72be7cd-c184-421f-9cbf-3b7ea815c948",
   "metadata": {
    "gradient": {
     "execution_count": 44,
     "id": "c72be7cd-c184-421f-9cbf-3b7ea815c948",
     "kernelId": "4b616fab-d0de-4e6b-a475-2603d56e71ba"
    }
   },
   "outputs": [],
   "source": [
    "# += act like append"
   ]
  },
  {
   "cell_type": "markdown",
   "id": "d11c938d-cc8c-4510-ae2c-9a160a4cd81d",
   "metadata": {},
   "source": [
    "## Conclusion: Using certain operation, we do have the ability to change the value at the original object. This is why we call list \"mutable\" \"\""
   ]
  },
  {
   "cell_type": "code",
   "execution_count": null,
   "id": "2f55d5db-22ea-4c70-9614-5d9a36f1a52d",
   "metadata": {
    "gradient": {
     "execution_count": 45,
     "id": "2f55d5db-22ea-4c70-9614-5d9a36f1a52d",
     "kernelId": "4b616fab-d0de-4e6b-a475-2603d56e71ba"
    }
   },
   "outputs": [],
   "source": [
    "l1 = [0]\n",
    "l2 = [0]"
   ]
  },
  {
   "cell_type": "code",
   "execution_count": null,
   "id": "3e1413d5-dc93-43f9-9efe-636f9409eb49",
   "metadata": {
    "gradient": {
     "execution_count": 46,
     "id": "3e1413d5-dc93-43f9-9efe-636f9409eb49",
     "kernelId": "4b616fab-d0de-4e6b-a475-2603d56e71ba"
    }
   },
   "outputs": [
    {
     "data": {
      "text/plain": [
       "True"
      ]
     },
     "execution_count": 46,
     "metadata": {},
     "output_type": "execute_result"
    }
   ],
   "source": [
    "l1 == l2"
   ]
  },
  {
   "cell_type": "code",
   "execution_count": null,
   "id": "125c87cd-8703-46be-857e-893567a2dfb2",
   "metadata": {
    "gradient": {
     "execution_count": 47,
     "id": "125c87cd-8703-46be-857e-893567a2dfb2",
     "kernelId": "4b616fab-d0de-4e6b-a475-2603d56e71ba"
    }
   },
   "outputs": [],
   "source": [
    "original_id_l1 =id(l1)\n",
    "original_id_l2 = id(l2)"
   ]
  },
  {
   "cell_type": "code",
   "execution_count": null,
   "id": "3322f42d-9f6e-485a-8e7e-a86ee3b82ac1",
   "metadata": {
    "gradient": {
     "execution_count": 48,
     "id": "3322f42d-9f6e-485a-8e7e-a86ee3b82ac1",
     "kernelId": "4b616fab-d0de-4e6b-a475-2603d56e71ba"
    }
   },
   "outputs": [
    {
     "data": {
      "text/plain": [
       "False"
      ]
     },
     "execution_count": 48,
     "metadata": {},
     "output_type": "execute_result"
    }
   ],
   "source": [
    "original_id_l1 == original_id_l2 "
   ]
  },
  {
   "cell_type": "code",
   "execution_count": null,
   "id": "4f74ff5d-a4dd-4b62-b151-78d0bd328191",
   "metadata": {
    "gradient": {
     "execution_count": 49,
     "id": "4f74ff5d-a4dd-4b62-b151-78d0bd328191",
     "kernelId": "4b616fab-d0de-4e6b-a475-2603d56e71ba"
    }
   },
   "outputs": [],
   "source": [
    "l1.append(1)\n",
    "l2 = l2 +[1]"
   ]
  },
  {
   "cell_type": "code",
   "execution_count": null,
   "id": "41eadd64-cce0-4b7a-a43e-4dda42a18c23",
   "metadata": {
    "gradient": {
     "execution_count": 50,
     "id": "41eadd64-cce0-4b7a-a43e-4dda42a18c23",
     "kernelId": "4b616fab-d0de-4e6b-a475-2603d56e71ba"
    }
   },
   "outputs": [
    {
     "data": {
      "text/plain": [
       "False"
      ]
     },
     "execution_count": 50,
     "metadata": {},
     "output_type": "execute_result"
    }
   ],
   "source": [
    "id(l1) == id(l2)"
   ]
  },
  {
   "cell_type": "code",
   "execution_count": null,
   "id": "0cbc5c8c-1539-476f-af19-56fafeba368c",
   "metadata": {
    "gradient": {
     "execution_count": 51,
     "id": "0cbc5c8c-1539-476f-af19-56fafeba368c",
     "kernelId": "4b616fab-d0de-4e6b-a475-2603d56e71ba"
    }
   },
   "outputs": [],
   "source": [
    "# Problem #2"
   ]
  },
  {
   "cell_type": "code",
   "execution_count": null,
   "id": "0986c828-f5ed-451a-ade4-196685edb2ff",
   "metadata": {
    "gradient": {
     "execution_count": 52,
     "id": "0986c828-f5ed-451a-ade4-196685edb2ff",
     "kernelId": "4b616fab-d0de-4e6b-a475-2603d56e71ba"
    }
   },
   "outputs": [],
   "source": [
    "L =[0]\n",
    "L1 = [L]\n",
    "L2 = [L]\n"
   ]
  },
  {
   "cell_type": "code",
   "execution_count": null,
   "id": "21550e66-0cf0-4b29-a057-cc0bfd9c317a",
   "metadata": {
    "gradient": {
     "execution_count": 53,
     "id": "21550e66-0cf0-4b29-a057-cc0bfd9c317a",
     "kernelId": "4b616fab-d0de-4e6b-a475-2603d56e71ba"
    },
    "tags": []
   },
   "outputs": [
    {
     "data": {
      "text/plain": [
       "True"
      ]
     },
     "execution_count": 53,
     "metadata": {},
     "output_type": "execute_result"
    }
   ],
   "source": [
    "id(L) == id(L1[0])"
   ]
  },
  {
   "cell_type": "code",
   "execution_count": null,
   "id": "a7455861-99ae-4057-b096-548d99271c19",
   "metadata": {
    "gradient": {
     "execution_count": 54,
     "id": "a7455861-99ae-4057-b096-548d99271c19",
     "kernelId": "4b616fab-d0de-4e6b-a475-2603d56e71ba"
    },
    "tags": []
   },
   "outputs": [
    {
     "data": {
      "text/plain": [
       "True"
      ]
     },
     "execution_count": 54,
     "metadata": {},
     "output_type": "execute_result"
    }
   ],
   "source": [
    "id(L) ==id(L2[0])"
   ]
  },
  {
   "cell_type": "code",
   "execution_count": null,
   "id": "6f43e204-4ac0-4123-b4e7-1fa762efa943",
   "metadata": {
    "gradient": {
     "execution_count": 55,
     "id": "6f43e204-4ac0-4123-b4e7-1fa762efa943",
     "kernelId": "4b616fab-d0de-4e6b-a475-2603d56e71ba"
    }
   },
   "outputs": [
    {
     "data": {
      "text/plain": [
       "False"
      ]
     },
     "execution_count": 55,
     "metadata": {},
     "output_type": "execute_result"
    }
   ],
   "source": [
    "id(L1) == id(L2)"
   ]
  },
  {
   "cell_type": "code",
   "execution_count": null,
   "id": "3f39f1da-1f72-4598-9cd4-b7b97bd5b998",
   "metadata": {
    "gradient": {
     "execution_count": 59,
     "id": "3f39f1da-1f72-4598-9cd4-b7b97bd5b998",
     "kernelId": "4b616fab-d0de-4e6b-a475-2603d56e71ba"
    }
   },
   "outputs": [],
   "source": [
    "L1[0].append(1)"
   ]
  },
  {
   "cell_type": "code",
   "execution_count": null,
   "id": "14dd43a2-841d-4689-b8b4-600da67f9448",
   "metadata": {
    "gradient": {
     "execution_count": 60,
     "id": "14dd43a2-841d-4689-b8b4-600da67f9448",
     "kernelId": "4b616fab-d0de-4e6b-a475-2603d56e71ba"
    }
   },
   "outputs": [
    {
     "data": {
      "text/plain": [
       "[0, 1]"
      ]
     },
     "execution_count": 60,
     "metadata": {},
     "output_type": "execute_result"
    }
   ],
   "source": [
    "L"
   ]
  },
  {
   "cell_type": "code",
   "execution_count": null,
   "id": "9e13491b-05d3-485d-890d-321526a6632f",
   "metadata": {
    "gradient": {
     "execution_count": 61,
     "id": "9e13491b-05d3-485d-890d-321526a6632f",
     "kernelId": "4b616fab-d0de-4e6b-a475-2603d56e71ba"
    }
   },
   "outputs": [],
   "source": [
    "L.append(2)"
   ]
  },
  {
   "cell_type": "code",
   "execution_count": null,
   "id": "4ae7af3a-43db-40a9-b41f-abad8342d91e",
   "metadata": {
    "gradient": {
     "execution_count": 63,
     "id": "4ae7af3a-43db-40a9-b41f-abad8342d91e",
     "kernelId": "4b616fab-d0de-4e6b-a475-2603d56e71ba"
    }
   },
   "outputs": [
    {
     "data": {
      "text/plain": [
       "[[0, 1, 2]]"
      ]
     },
     "execution_count": 63,
     "metadata": {},
     "output_type": "execute_result"
    }
   ],
   "source": [
    "L2"
   ]
  },
  {
   "cell_type": "code",
   "execution_count": null,
   "id": "ee4171da-1142-40e6-b090-bcc23aaff049",
   "metadata": {
    "gradient": {
     "execution_count": 64,
     "id": "ee4171da-1142-40e6-b090-bcc23aaff049",
     "kernelId": "4b616fab-d0de-4e6b-a475-2603d56e71ba"
    }
   },
   "outputs": [],
   "source": [
    "#Problem #3"
   ]
  },
  {
   "cell_type": "code",
   "execution_count": null,
   "id": "46687eed-7049-4237-bfe9-bb6f8e481c93",
   "metadata": {
    "gradient": {
     "id": "46687eed-7049-4237-bfe9-bb6f8e481c93",
     "kernelId": "4b616fab-d0de-4e6b-a475-2603d56e71ba"
    }
   },
   "outputs": [],
   "source": []
  }
 ],
 "metadata": {
  "kernelspec": {
   "display_name": "Python 3",
   "language": "python",
   "name": "python3"
  },
  "language_info": {
   "codemirror_mode": {
    "name": "ipython",
    "version": 3
   },
   "file_extension": ".py",
   "mimetype": "text/x-python",
   "name": "python",
   "nbconvert_exporter": "python",
   "pygments_lexer": "ipython3",
   "version": "3.9.5"
  }
 },
 "nbformat": 4,
 "nbformat_minor": 5
}
