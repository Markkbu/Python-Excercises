{
 "cells": [
  {
   "cell_type": "code",
   "execution_count": 1,
   "id": "7b9aafef-4f83-41f6-b94d-94bac283c6a7",
   "metadata": {},
   "outputs": [],
   "source": [
    "str1 =\"JohnDipeta\"\n",
    "str2=\"JaSonAy\""
   ]
  },
  {
   "cell_type": "code",
   "execution_count": 2,
   "id": "ffacec1e-1588-4923-be3f-1e61c48df018",
   "metadata": {},
   "outputs": [],
   "source": [
    "def mid_3_char(target):\n",
    "    tgt_length= len(target)//2\n",
    "    print (tgt_length)\n",
    "    tgt1 = tgt_length-1\n",
    "    tgt2= tgt_length+2\n",
    "    return (target[tgt1:tgt2:])"
   ]
  },
  {
   "cell_type": "code",
   "execution_count": 3,
   "id": "0548ba79-b7ce-4c4e-b180-e23be14fd770",
   "metadata": {},
   "outputs": [
    {
     "name": "stdout",
     "output_type": "stream",
     "text": [
      "5\n"
     ]
    },
    {
     "data": {
      "text/plain": [
       "'Dip'"
      ]
     },
     "execution_count": 3,
     "metadata": {},
     "output_type": "execute_result"
    }
   ],
   "source": [
    "mid_3_char(str1)"
   ]
  },
  {
   "cell_type": "code",
   "execution_count": 4,
   "id": "9a283411-3813-413c-a599-727ec8c32f5a",
   "metadata": {},
   "outputs": [
    {
     "name": "stdout",
     "output_type": "stream",
     "text": [
      "3\n"
     ]
    },
    {
     "data": {
      "text/plain": [
       "'Son'"
      ]
     },
     "execution_count": 4,
     "metadata": {},
     "output_type": "execute_result"
    }
   ],
   "source": [
    "mid_3_char(str2)"
   ]
  },
  {
   "cell_type": "code",
   "execution_count": 5,
   "id": "3e7312fd-0b2f-403e-a444-cd738f4e4620",
   "metadata": {},
   "outputs": [],
   "source": [
    "s1 = \"Ault\"\n",
    "s2 = \"Kelly\""
   ]
  },
  {
   "cell_type": "code",
   "execution_count": 6,
   "id": "be8e89cb-a5f4-495c-8354-83c70b2f376c",
   "metadata": {
    "jupyter": {
     "source_hidden": true
    },
    "tags": []
   },
   "outputs": [],
   "source": [
    "def new_string(string1, string2):\n",
    "    input_loc = len(string1)//2\n",
    "    ns = string1[:input_loc]+string2+string1[input_loc:]\n",
    "    return ns"
   ]
  },
  {
   "cell_type": "markdown",
   "id": "a014c967-ffae-4dd6-9d7a-1ff68903c5ef",
   "metadata": {},
   "source": [
    "## new_string(s1,s2)"
   ]
  },
  {
   "cell_type": "code",
   "execution_count": 7,
   "id": "eacebd1e-50be-4ac8-bc87-59fd5d91cfdd",
   "metadata": {},
   "outputs": [],
   "source": [
    "s1 = \"Amercia\"\n",
    "s2 = \"Japan\""
   ]
  },
  {
   "cell_type": "code",
   "execution_count": 8,
   "id": "c5e6f593-3358-4673-b729-87104ed3c9e3",
   "metadata": {},
   "outputs": [],
   "source": [
    "def new_string2(string1, string2):\n",
    "    find_mid1 = int(len(string1)/2)\n",
    "    find_mid2 = int(len(string2)/2)\n",
    "    r1 = string1[0]\n",
    "    r2 = string1[find_mid1:(find_mid1+1)]\n",
    "    r3 = string1 [-1]\n",
    "    r4 = string2[0]\n",
    "    r5 = string2[find_mid2:(find_mid2+1)]\n",
    "    r6 = string2 [-1]\n",
    "    return r1+r4+r2+r5+r3+r6\n",
    "    "
   ]
  },
  {
   "cell_type": "code",
   "execution_count": 9,
   "id": "cf2bb653-f792-4d72-9950-2930e55c0a42",
   "metadata": {},
   "outputs": [
    {
     "data": {
      "text/plain": [
       "'AJrpan'"
      ]
     },
     "execution_count": 9,
     "metadata": {},
     "output_type": "execute_result"
    }
   ],
   "source": [
    "new_string2(s1,s2)"
   ]
  },
  {
   "cell_type": "code",
   "execution_count": 10,
   "id": "02bc52ad-050e-4a98-a583-b185bcddcf69",
   "metadata": {},
   "outputs": [],
   "source": [
    "str1 = 'PyNaTive'"
   ]
  },
  {
   "cell_type": "code",
   "execution_count": 11,
   "id": "95c01b1a-6b1a-4a2c-b7a1-da066f2c8773",
   "metadata": {},
   "outputs": [
    {
     "name": "stdout",
     "output_type": "stream",
     "text": [
      "yaivePNT\n"
     ]
    }
   ],
   "source": [
    "lower=[]\n",
    "upper = []\n",
    "for char in str1:\n",
    "    if char.islower():\n",
    "        lower.append(char)\n",
    "    else:\n",
    "        upper.append(char)\n",
    "sorted_string = ''.join(lower+upper)\n",
    "print(sorted_string)"
   ]
  },
  {
   "cell_type": "code",
   "execution_count": 12,
   "id": "b454ef6e-3af4-4cf5-b1e0-d320155cf4f9",
   "metadata": {},
   "outputs": [],
   "source": [
    "str1= 'P@#yn26at^&i5ve'\n"
   ]
  },
  {
   "cell_type": "code",
   "execution_count": 13,
   "id": "81f36540-6cf5-4498-8e0d-423458f44bce",
   "metadata": {},
   "outputs": [],
   "source": [
    "def find_char_dig_sym_count (string1):\n",
    "\n",
    "    charCount = 0\n",
    "    digitCount = 0\n",
    "    symbolCount = 0\n",
    "\n",
    "    for char in string1:\n",
    "        if char.islower() or char.isupper():\n",
    "            charCount+=1\n",
    "        elif char.isnumeric():\n",
    "            digitCount+=1\n",
    "        else:\n",
    "            symbolCount+=1\n",
    "\n",
    "    print('Chars =', charCount,' Digits =', digitCount, 'Symbols = ', symbolCount)"
   ]
  },
  {
   "cell_type": "code",
   "execution_count": 14,
   "id": "592fa958-a351-488e-91ef-0057f2fc64d0",
   "metadata": {},
   "outputs": [
    {
     "name": "stdout",
     "output_type": "stream",
     "text": [
      "Chars = 8  Digits = 3 Symbols =  4\n"
     ]
    }
   ],
   "source": [
    "find_char_dig_sym_count(str1)"
   ]
  },
  {
   "cell_type": "code",
   "execution_count": 15,
   "id": "3cb25083-17dc-45b3-9368-50128dfefbdc",
   "metadata": {},
   "outputs": [],
   "source": [
    "s1 = \"Abc\"\n",
    "s2 = \"Xyz\""
   ]
  },
  {
   "cell_type": "code",
   "execution_count": 16,
   "id": "9494ab4d-494c-4bc9-a0d3-8c6d74bce5da",
   "metadata": {},
   "outputs": [
    {
     "name": "stdout",
     "output_type": "stream",
     "text": [
      "AzbycX\n"
     ]
    }
   ],
   "source": [
    "new_string = s1[0]+s2[-1]+s1[1]+s2[-2]+s1[2:]+s2[:-2]\n",
    "print(new_string)"
   ]
  },
  {
   "cell_type": "code",
   "execution_count": 17,
   "id": "a9c7c3ce-f10e-4dc6-8704-353dd56da8d3",
   "metadata": {},
   "outputs": [],
   "source": [
    "def s1_in_s2 (s1, s2):\n",
    "    flag = True\n",
    "    for i in s1:\n",
    "        if i in s2:\n",
    "            continue\n",
    "        else:\n",
    "            flag = False\n",
    "    return flag \n",
    "    "
   ]
  },
  {
   "cell_type": "code",
   "execution_count": 18,
   "id": "c136565d-c9e9-48e7-bea0-63b5a99fb342",
   "metadata": {},
   "outputs": [
    {
     "data": {
      "text/plain": [
       "True"
      ]
     },
     "execution_count": 18,
     "metadata": {},
     "output_type": "execute_result"
    }
   ],
   "source": [
    "s1_in_s2('Yn', \"PYnative\")"
   ]
  },
  {
   "cell_type": "code",
   "execution_count": 19,
   "id": "b6375f4e-2a66-4a15-b6f5-aebe80645871",
   "metadata": {},
   "outputs": [
    {
     "data": {
      "text/plain": [
       "False"
      ]
     },
     "execution_count": 19,
     "metadata": {},
     "output_type": "execute_result"
    }
   ],
   "source": [
    "s1_in_s2('Ynf', \"PYnative\")"
   ]
  },
  {
   "cell_type": "code",
   "execution_count": 20,
   "id": "0cad9299-1c46-49b0-8c64-73bf6ef09e6b",
   "metadata": {},
   "outputs": [],
   "source": [
    "str1 = \"Welcome to the USA, usa awsome, isn't it?\""
   ]
  },
  {
   "cell_type": "code",
   "execution_count": 21,
   "id": "df5165ab-3e9d-496a-8fa3-0a121fb50b8c",
   "metadata": {
    "tags": []
   },
   "outputs": [
    {
     "name": "stdout",
     "output_type": "stream",
     "text": [
      "USA count is  2\n"
     ]
    }
   ],
   "source": [
    "tempstring = str1.lower()\n",
    "sub = 'USA'\n",
    "countusa = tempstring.count(sub.lower())\n",
    "\n",
    "\n",
    "print(\"USA count is \", countusa)"
   ]
  },
  {
   "cell_type": "code",
   "execution_count": 22,
   "id": "21a51e18-c5b3-4560-906f-78a97748d451",
   "metadata": {},
   "outputs": [],
   "source": [
    "str1 = \"English = 78 Science = 83 Math =69 History = 65\""
   ]
  },
  {
   "cell_type": "code",
   "execution_count": 23,
   "id": "8396e55f-24da-44a8-a6fe-79a01ab2970f",
   "metadata": {},
   "outputs": [
    {
     "name": "stdout",
     "output_type": "stream",
     "text": [
      "Total Mark is:  295 Percentage is  73.75\n"
     ]
    }
   ],
   "source": [
    "import re\n",
    "\n",
    "marklist = [int(num) for num in re.findall(r'\\b\\d+\\b', str1)]\n",
    "totalmarks = 0\n",
    "for mark in marklist:\n",
    "    totalmarks+=mark\n",
    "percentage = totalmarks/len(marklist)\n",
    "print(\"Total Mark is: \", totalmarks, \"Percentage is \",percentage)"
   ]
  },
  {
   "cell_type": "code",
   "execution_count": 24,
   "id": "6042c461-7baf-4155-afe9-1bfcea47f9d0",
   "metadata": {},
   "outputs": [],
   "source": [
    "# given a string, count all the characters within a string"
   ]
  },
  {
   "cell_type": "code",
   "execution_count": 25,
   "id": "d0c2d900-ef31-49cc-b91d-de7c6020d6e9",
   "metadata": {},
   "outputs": [],
   "source": [
    "str1=\"Apple\""
   ]
  },
  {
   "cell_type": "code",
   "execution_count": 26,
   "id": "4feb1741-d1b0-40c2-95c8-c0864d589b28",
   "metadata": {},
   "outputs": [
    {
     "name": "stdout",
     "output_type": "stream",
     "text": [
      "{'A': 1, 'p': 2, 'l': 1, 'e': 1}\n"
     ]
    }
   ],
   "source": [
    "#make a dictionary where each letter is represented by the numbered space in the word.\n",
    "countDict = dict()\n",
    "for i in str1:\n",
    "     countDict[i]=str1.count(i)\n",
    "print (countDict)"
   ]
  },
  {
   "cell_type": "code",
   "execution_count": 27,
   "id": "d7838a0d-0bcc-4ee2-8ca2-a532d736cdc4",
   "metadata": {},
   "outputs": [],
   "source": [
    "str1 = \"PYnative\""
   ]
  },
  {
   "cell_type": "code",
   "execution_count": 28,
   "id": "488d3992-4005-43b5-b064-575378bb0973",
   "metadata": {},
   "outputs": [
    {
     "name": "stdout",
     "output_type": "stream",
     "text": [
      "evitanYP\n"
     ]
    }
   ],
   "source": [
    "print(str1[::-1])"
   ]
  },
  {
   "cell_type": "code",
   "execution_count": 29,
   "id": "278f0417-7aa6-4b2f-988f-381c38d6a901",
   "metadata": {},
   "outputs": [],
   "source": [
    "str2 = 'Mark Kustelski'"
   ]
  },
  {
   "cell_type": "code",
   "execution_count": 30,
   "id": "b44b015c-783f-49b9-8fa5-3ea92f3ffcb1",
   "metadata": {},
   "outputs": [
    {
     "name": "stdout",
     "output_type": "stream",
     "text": [
      "Mark Kustelski\n"
     ]
    }
   ],
   "source": [
    "print(str2[::1])"
   ]
  },
  {
   "cell_type": "code",
   "execution_count": 31,
   "id": "3782c27f-9e74-47ef-9b8e-3c041826fb4e",
   "metadata": {},
   "outputs": [],
   "source": [
    "str1 = \"Emma is a data scientist who knows Python. Emma works at google.\""
   ]
  },
  {
   "cell_type": "code",
   "execution_count": 32,
   "id": "14bb118a-6c16-40f4-bdc7-957a6f616378",
   "metadata": {},
   "outputs": [
    {
     "name": "stdout",
     "output_type": "stream",
     "text": [
      "43\n"
     ]
    }
   ],
   "source": [
    "str2 = str1.lower()\n",
    "result = str2.rfind(\"emma\")\n",
    "print(result)"
   ]
  },
  {
   "cell_type": "code",
   "execution_count": 33,
   "id": "7c24711a-d180-4efb-8c99-4891e812c212",
   "metadata": {},
   "outputs": [],
   "source": [
    "str1 = 'Emma-is-a-data-scientist'"
   ]
  },
  {
   "cell_type": "code",
   "execution_count": 34,
   "id": "06da7133-4643-4d19-8229-73c41a3b87cb",
   "metadata": {},
   "outputs": [
    {
     "name": "stdout",
     "output_type": "stream",
     "text": [
      "Emma\n",
      "is\n",
      "a\n",
      "data\n",
      "scientist\n"
     ]
    }
   ],
   "source": [
    "sub = str1.split('-')\n",
    "for s in sub:\n",
    "    print(s)"
   ]
  },
  {
   "cell_type": "code",
   "execution_count": 35,
   "id": "ab2abc1d-cfd8-48b3-89c5-2c6d2961d7ad",
   "metadata": {},
   "outputs": [],
   "source": [
    "str_list =[\"Emma\", \"Jon\", \"\", \"Kelly\", None, \"Eric\", \"\"]"
   ]
  },
  {
   "cell_type": "code",
   "execution_count": 36,
   "id": "d792eb71-ea07-458e-beae-5c5571e5b49f",
   "metadata": {},
   "outputs": [],
   "source": [
    "for i in str_list:\n",
    "    if (i == None) or (i == \"\"):\n",
    "        str_list.remove(i)\n",
    "\n",
    "    "
   ]
  },
  {
   "cell_type": "code",
   "execution_count": 37,
   "id": "ac179275-0b81-4f90-989c-60376ea5eed8",
   "metadata": {},
   "outputs": [
    {
     "name": "stdout",
     "output_type": "stream",
     "text": [
      "['Emma', 'Jon', 'Kelly', 'Eric']\n"
     ]
    }
   ],
   "source": [
    "print(str_list)"
   ]
  },
  {
   "cell_type": "code",
   "execution_count": 38,
   "id": "1019ff03-15cd-4362-9234-9416a70b656d",
   "metadata": {},
   "outputs": [
    {
     "name": "stdout",
     "output_type": "stream",
     "text": [
      "['Emma', 'Jon', 'Kelly', 'Eric']\n"
     ]
    }
   ],
   "source": [
    "new_str_list = list(filter(None, str_list))\n",
    "print(new_str_list)"
   ]
  },
  {
   "cell_type": "code",
   "execution_count": 39,
   "id": "5fc25130-c728-4ce5-adfa-c9d2e22d8f62",
   "metadata": {},
   "outputs": [
    {
     "name": "stdout",
     "output_type": "stream",
     "text": [
      "/*Jon is @develper & musician\n"
     ]
    }
   ],
   "source": [
    "str1 = \"/*Jon is @develper & musician\"\n",
    "print(str1)"
   ]
  },
  {
   "cell_type": "code",
   "execution_count": 40,
   "id": "af294dd8-463d-4cc2-8af6-a96f31509f2c",
   "metadata": {},
   "outputs": [
    {
     "name": "stdout",
     "output_type": "stream",
     "text": [
      "Jon is develper  musician\n"
     ]
    }
   ],
   "source": [
    "import re\n",
    "new_string = re.sub(r'[^\\w\\s]', '', str1)\n",
    "print(new_string)"
   ]
  },
  {
   "cell_type": "code",
   "execution_count": 41,
   "id": "753c085f-f37a-4ee2-9d85-4c01ec670010",
   "metadata": {},
   "outputs": [],
   "source": [
    "str1 = 'I am 25 years and 10 months old'"
   ]
  },
  {
   "cell_type": "code",
   "execution_count": 42,
   "id": "98d2faac-4f5a-4542-bfce-a270725e7ab8",
   "metadata": {},
   "outputs": [
    {
     "name": "stdout",
     "output_type": "stream",
     "text": [
      "2510\n"
     ]
    }
   ],
   "source": [
    "new_string = re.sub(r'[^\\d]', '', str1)\n",
    "print (new_string)"
   ]
  },
  {
   "cell_type": "code",
   "execution_count": 43,
   "id": "9334557f-d307-4553-9006-3bbd6c8437a2",
   "metadata": {},
   "outputs": [],
   "source": [
    "str1 = \"Emma25 is Data scientist5- and AI Expert\""
   ]
  },
  {
   "cell_type": "code",
   "execution_count": 44,
   "id": "cf0aab7f-77fb-4639-bb7d-c77ab3f8224c",
   "metadata": {},
   "outputs": [],
   "source": [
    "#pattern = re.compile(r'/^(?:[02-9]+[a-z]|[a-z]+[02-9])[a-z02-9]*$/i')\n",
    "\n",
    "#matches = pattern.finditer(str1)\n",
    "#for match in matches:\n",
    "#    print(match)"
   ]
  },
  {
   "cell_type": "code",
   "execution_count": 45,
   "id": "abedda0a-475d-48e7-9bd1-796e8c5cc89a",
   "metadata": {},
   "outputs": [
    {
     "name": "stdout",
     "output_type": "stream",
     "text": [
      "['Emma25', 'is', 'Data', 'scientist5-', 'and', 'AI', 'Expert']\n"
     ]
    }
   ],
   "source": [
    "res = []\n",
    "temp = str1.split()\n",
    "print(temp)"
   ]
  },
  {
   "cell_type": "code",
   "execution_count": 46,
   "id": "d8be66b3-caee-4b60-b9c0-afee438509e5",
   "metadata": {},
   "outputs": [
    {
     "name": "stdout",
     "output_type": "stream",
     "text": [
      "Emma25\n",
      "scientist5-\n"
     ]
    }
   ],
   "source": [
    "for item in temp:\n",
    "    if any (char.isalpha() for char in item) and any (char.isdigit() for char in item):\n",
    "        res.append(item)\n",
    "    \n",
    "for i in res:\n",
    "    print(i)"
   ]
  },
  {
   "cell_type": "code",
   "execution_count": 58,
   "id": "fafb413f-9ff4-4448-b0c4-b67965875c49",
   "metadata": {},
   "outputs": [],
   "source": [
    "str1 = '/*Jon is @developer $ musician'\n"
   ]
  },
  {
   "cell_type": "code",
   "execution_count": 51,
   "id": "ee3329f4-3f18-40dc-839b-54351cb99a27",
   "metadata": {},
   "outputs": [
    {
     "name": "stdout",
     "output_type": "stream",
     "text": [
      "##Jon is #developer # musician\n"
     ]
    }
   ],
   "source": [
    "new_string = re.sub(r'[^\\w\\s]', '#', str1)\n",
    "\n",
    "\n",
    "print(new_string)"
   ]
  },
  {
   "cell_type": "code",
   "execution_count": 53,
   "id": "631a106b-901e-4861-a614-60cbb88ccbd3",
   "metadata": {},
   "outputs": [],
   "source": [
    "#or....."
   ]
  },
  {
   "cell_type": "code",
   "execution_count": 59,
   "id": "698088e9-9eae-4b1a-a669-e4f70cb2d449",
   "metadata": {
    "tags": []
   },
   "outputs": [
    {
     "name": "stdout",
     "output_type": "stream",
     "text": [
      "##Jon is #developer # musician\n"
     ]
    }
   ],
   "source": [
    "from string import punctuation\n",
    "replace_char = '#'\n",
    "\n",
    "for char in punctuation:\n",
    "    str1 = str1.replace(char, replace_char)\n",
    "\n",
    "print(str1)"
   ]
  },
  {
   "cell_type": "code",
   "execution_count": null,
   "id": "457b2dfc-4d4a-442c-9377-c693bf6fef5e",
   "metadata": {},
   "outputs": [],
   "source": []
  }
 ],
 "metadata": {
  "kernelspec": {
   "display_name": "Python 3",
   "language": "python",
   "name": "python3"
  },
  "language_info": {
   "codemirror_mode": {
    "name": "ipython",
    "version": 3
   },
   "file_extension": ".py",
   "mimetype": "text/x-python",
   "name": "python",
   "nbconvert_exporter": "python",
   "pygments_lexer": "ipython3",
   "version": "3.9.5"
  }
 },
 "nbformat": 4,
 "nbformat_minor": 5
}
