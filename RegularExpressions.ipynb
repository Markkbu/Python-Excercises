{
 "cells": [
  {
   "cell_type": "code",
   "execution_count": null,
   "id": "2daf07fe-1ffb-47c8-af92-b3f8d3892c18",
   "metadata": {
    "gradient": {
     "editing": false,
     "execution_count": 1,
     "id": "2daf07fe-1ffb-47c8-af92-b3f8d3892c18",
     "kernelId": "8fc715da-86fc-4d4b-86d3-b8a86d88ea5c"
    }
   },
   "outputs": [],
   "source": [
    "import re"
   ]
  },
  {
   "cell_type": "code",
   "execution_count": null,
   "id": "aa546966-82b7-438e-80a9-d3f054f59071",
   "metadata": {
    "gradient": {
     "editing": false,
     "execution_count": 2,
     "id": "aa546966-82b7-438e-80a9-d3f054f59071",
     "kernelId": "8fc715da-86fc-4d4b-86d3-b8a86d88ea5c"
    }
   },
   "outputs": [],
   "source": [
    "text_to_search = '''\n",
    "abcdefghijklmnopqrstuvwxyz\n",
    "ABCDEFGHIJKLMNOPQRSTUVWXYZ\n",
    "1234567890\n",
    "\n",
    "Ha HaHa\n",
    "\n",
    ". ^ $ * + ? { } [ ] \\ \\ ( )\n",
    "\n",
    "coreyms.com\n",
    "\n",
    "123-456-7891\n",
    "123.555.1234\n",
    "\n",
    "\n",
    "Mr. Mark\n",
    "Mr Smith\n",
    "Ms Davis\n",
    "Mr Love\n",
    "Mrs. Robinson\n",
    "Pat\n",
    "Bat Masterson\n",
    "Nat\n",
    "\n",
    "bats are good\n",
    "'''"
   ]
  },
  {
   "cell_type": "code",
   "execution_count": null,
   "id": "8f1f7073-f922-46f2-b03c-a6e1b30a65e5",
   "metadata": {
    "gradient": {
     "editing": false,
     "execution_count": 3,
     "id": "8f1f7073-f922-46f2-b03c-a6e1b30a65e5",
     "kernelId": "8fc715da-86fc-4d4b-86d3-b8a86d88ea5c"
    }
   },
   "outputs": [],
   "source": [
    "sentence = 'Star a sentence and then bring it to an end'"
   ]
  },
  {
   "cell_type": "code",
   "execution_count": null,
   "id": "278bcb95-b35b-44f8-8b14-10f04c69df7f",
   "metadata": {
    "gradient": {
     "editing": false,
     "execution_count": 4,
     "id": "278bcb95-b35b-44f8-8b14-10f04c69df7f",
     "kernelId": "8fc715da-86fc-4d4b-86d3-b8a86d88ea5c"
    }
   },
   "outputs": [
    {
     "name": "stdout",
     "output_type": "stream",
     "text": [
      "\\tTab\n"
     ]
    }
   ],
   "source": [
    "#This is a raw string\n",
    "print(r'\\tTab')"
   ]
  },
  {
   "cell_type": "code",
   "execution_count": null,
   "id": "554aaddc-09b3-4921-a595-ca12d505ab21",
   "metadata": {
    "gradient": {
     "editing": false,
     "execution_count": 5,
     "id": "554aaddc-09b3-4921-a595-ca12d505ab21",
     "kernelId": "8fc715da-86fc-4d4b-86d3-b8a86d88ea5c"
    }
   },
   "outputs": [
    {
     "name": "stdout",
     "output_type": "stream",
     "text": [
      "\tTab\n"
     ]
    }
   ],
   "source": [
    "#see, using the r before it changes how python reads it.\n",
    "print('\\tTab')"
   ]
  },
  {
   "cell_type": "code",
   "execution_count": null,
   "id": "f374e213-f519-452f-a5cd-1f68cabf24c7",
   "metadata": {
    "gradient": {
     "editing": false,
     "execution_count": 6,
     "id": "f374e213-f519-452f-a5cd-1f68cabf24c7",
     "kernelId": "8fc715da-86fc-4d4b-86d3-b8a86d88ea5c"
    }
   },
   "outputs": [],
   "source": [
    "pattern = re.compile(r'abc')"
   ]
  },
  {
   "cell_type": "code",
   "execution_count": null,
   "id": "010da00e-ef37-44d8-a83d-01601d5e3cfa",
   "metadata": {
    "gradient": {
     "editing": false,
     "execution_count": 7,
     "id": "010da00e-ef37-44d8-a83d-01601d5e3cfa",
     "kernelId": "8fc715da-86fc-4d4b-86d3-b8a86d88ea5c"
    }
   },
   "outputs": [],
   "source": [
    "matches = pattern.finditer(text_to_search)\n"
   ]
  },
  {
   "cell_type": "code",
   "execution_count": null,
   "id": "fdb93446-8ba1-4e8c-ab88-c82a402d9829",
   "metadata": {
    "gradient": {
     "editing": false,
     "execution_count": 8,
     "id": "fdb93446-8ba1-4e8c-ab88-c82a402d9829",
     "kernelId": "8fc715da-86fc-4d4b-86d3-b8a86d88ea5c"
    }
   },
   "outputs": [
    {
     "name": "stdout",
     "output_type": "stream",
     "text": [
      "<re.Match object; span=(1, 4), match='abc'>\n"
     ]
    }
   ],
   "source": [
    "for match in matches:\n",
    "    print(match)"
   ]
  },
  {
   "cell_type": "code",
   "execution_count": null,
   "id": "933c5ff7-4b35-46f2-bd95-f4be169b3a1a",
   "metadata": {
    "gradient": {
     "execution_count": 9,
     "id": "933c5ff7-4b35-46f2-bd95-f4be169b3a1a",
     "kernelId": "8fc715da-86fc-4d4b-86d3-b8a86d88ea5c"
    }
   },
   "outputs": [
    {
     "name": "stdout",
     "output_type": "stream",
     "text": [
      "abc\n"
     ]
    }
   ],
   "source": [
    "print(text_to_search[1:4])"
   ]
  },
  {
   "cell_type": "code",
   "execution_count": null,
   "id": "66456f85-9fbe-419d-8ae7-416d21f404c6",
   "metadata": {
    "gradient": {
     "execution_count": 10,
     "id": "66456f85-9fbe-419d-8ae7-416d21f404c6",
     "kernelId": "8fc715da-86fc-4d4b-86d3-b8a86d88ea5c"
    }
   },
   "outputs": [],
   "source": [
    "# you can 'escape' characters with a \\"
   ]
  },
  {
   "cell_type": "code",
   "execution_count": null,
   "id": "ca7743f5-0a4c-4146-9dc7-80f59a5f04d4",
   "metadata": {
    "gradient": {
     "execution_count": 11,
     "id": "ca7743f5-0a4c-4146-9dc7-80f59a5f04d4",
     "kernelId": "8fc715da-86fc-4d4b-86d3-b8a86d88ea5c"
    }
   },
   "outputs": [],
   "source": [
    "pattern = re.compile(r'\\.')"
   ]
  },
  {
   "cell_type": "code",
   "execution_count": null,
   "id": "e460d332-215c-438b-8c3a-041e06c92dda",
   "metadata": {
    "gradient": {
     "execution_count": 12,
     "id": "e460d332-215c-438b-8c3a-041e06c92dda",
     "kernelId": "8fc715da-86fc-4d4b-86d3-b8a86d88ea5c"
    }
   },
   "outputs": [
    {
     "name": "stdout",
     "output_type": "stream",
     "text": [
      "<re.Match object; span=(76, 77), match='.'>\n",
      "<re.Match object; span=(112, 113), match='.'>\n",
      "<re.Match object; span=(134, 135), match='.'>\n",
      "<re.Match object; span=(138, 139), match='.'>\n",
      "<re.Match object; span=(148, 149), match='.'>\n",
      "<re.Match object; span=(184, 185), match='.'>\n"
     ]
    }
   ],
   "source": [
    "matches = pattern.finditer(text_to_search)\n",
    "for match in matches:\n",
    "    print(match)\n"
   ]
  },
  {
   "cell_type": "code",
   "execution_count": null,
   "id": "7742e310-4701-4224-a945-85b15cf6f061",
   "metadata": {
    "gradient": {
     "execution_count": 13,
     "id": "7742e310-4701-4224-a945-85b15cf6f061",
     "kernelId": "8fc715da-86fc-4d4b-86d3-b8a86d88ea5c"
    }
   },
   "outputs": [],
   "source": [
    "pattern = re.compile(r'coreyms\\.com')"
   ]
  },
  {
   "cell_type": "code",
   "execution_count": null,
   "id": "b7dc692a-dee2-4f4b-9391-ac61faa5cf0f",
   "metadata": {
    "gradient": {
     "execution_count": 14,
     "id": "b7dc692a-dee2-4f4b-9391-ac61faa5cf0f",
     "kernelId": "8fc715da-86fc-4d4b-86d3-b8a86d88ea5c"
    }
   },
   "outputs": [
    {
     "name": "stdout",
     "output_type": "stream",
     "text": [
      "<re.Match object; span=(105, 116), match='coreyms.com'>\n"
     ]
    }
   ],
   "source": [
    "matches = pattern.finditer(text_to_search)\n",
    "for match in matches:\n",
    "    print(match)"
   ]
  },
  {
   "cell_type": "code",
   "execution_count": null,
   "id": "ce7fce5f-b660-4d8e-8ca0-061f51c1c5ba",
   "metadata": {
    "gradient": {
     "execution_count": 15,
     "id": "ce7fce5f-b660-4d8e-8ca0-061f51c1c5ba",
     "kernelId": "8fc715da-86fc-4d4b-86d3-b8a86d88ea5c"
    }
   },
   "outputs": [],
   "source": [
    "# you can look at the characters in RE that need to be \"escaped out of\" because they have special \n",
    "# \"finding functions\".... (ie a \".\" will find \"any character except a new line\")\n",
    "# \\d matches any digit between 0 and 9\n",
    "\n",
    "pattern = re.compile(r'\\d')"
   ]
  },
  {
   "cell_type": "code",
   "execution_count": null,
   "id": "a3f4ce3f-c8e4-4d26-ba0d-46382d90014d",
   "metadata": {
    "gradient": {
     "execution_count": 16,
     "id": "a3f4ce3f-c8e4-4d26-ba0d-46382d90014d",
     "kernelId": "8fc715da-86fc-4d4b-86d3-b8a86d88ea5c"
    }
   },
   "outputs": [
    {
     "name": "stdout",
     "output_type": "stream",
     "text": [
      "<re.Match object; span=(55, 56), match='1'>\n",
      "<re.Match object; span=(56, 57), match='2'>\n",
      "<re.Match object; span=(57, 58), match='3'>\n",
      "<re.Match object; span=(58, 59), match='4'>\n",
      "<re.Match object; span=(59, 60), match='5'>\n",
      "<re.Match object; span=(60, 61), match='6'>\n",
      "<re.Match object; span=(61, 62), match='7'>\n",
      "<re.Match object; span=(62, 63), match='8'>\n",
      "<re.Match object; span=(63, 64), match='9'>\n",
      "<re.Match object; span=(64, 65), match='0'>\n",
      "<re.Match object; span=(118, 119), match='1'>\n",
      "<re.Match object; span=(119, 120), match='2'>\n",
      "<re.Match object; span=(120, 121), match='3'>\n",
      "<re.Match object; span=(122, 123), match='4'>\n",
      "<re.Match object; span=(123, 124), match='5'>\n",
      "<re.Match object; span=(124, 125), match='6'>\n",
      "<re.Match object; span=(126, 127), match='7'>\n",
      "<re.Match object; span=(127, 128), match='8'>\n",
      "<re.Match object; span=(128, 129), match='9'>\n",
      "<re.Match object; span=(129, 130), match='1'>\n",
      "<re.Match object; span=(131, 132), match='1'>\n",
      "<re.Match object; span=(132, 133), match='2'>\n",
      "<re.Match object; span=(133, 134), match='3'>\n",
      "<re.Match object; span=(135, 136), match='5'>\n",
      "<re.Match object; span=(136, 137), match='5'>\n",
      "<re.Match object; span=(137, 138), match='5'>\n",
      "<re.Match object; span=(139, 140), match='1'>\n",
      "<re.Match object; span=(140, 141), match='2'>\n",
      "<re.Match object; span=(141, 142), match='3'>\n",
      "<re.Match object; span=(142, 143), match='4'>\n"
     ]
    }
   ],
   "source": [
    "matches = pattern.finditer(text_to_search)\n",
    "for match in matches:\n",
    "    print(match)"
   ]
  },
  {
   "cell_type": "code",
   "execution_count": null,
   "id": "562e2a52-bdf4-488a-b107-8713f4cd2ecf",
   "metadata": {
    "gradient": {
     "execution_count": 17,
     "id": "562e2a52-bdf4-488a-b107-8713f4cd2ecf",
     "kernelId": "8fc715da-86fc-4d4b-86d3-b8a86d88ea5c"
    }
   },
   "outputs": [
    {
     "name": "stdout",
     "output_type": "stream",
     "text": [
      "<re.Match object; span=(67, 69), match='Ha'>\n",
      "<re.Match object; span=(70, 72), match='Ha'>\n"
     ]
    }
   ],
   "source": [
    "#\\D matches anything that IS NOT a digit between 0 and 9\n",
    "#this is a theme, \\w matches word characters, \\W matches not word characters\n",
    "pattern = re.compile(r'\\bHa') # a word boundary\n",
    "\n",
    "matches = pattern.finditer(text_to_search)\n",
    "for match in matches:\n",
    "    print(match)\n"
   ]
  },
  {
   "cell_type": "code",
   "execution_count": null,
   "id": "5efe24ec-4762-4fc9-830d-f1389a6715fc",
   "metadata": {
    "gradient": {
     "execution_count": 18,
     "id": "5efe24ec-4762-4fc9-830d-f1389a6715fc",
     "kernelId": "8fc715da-86fc-4d4b-86d3-b8a86d88ea5c"
    }
   },
   "outputs": [],
   "source": [
    "sentence = \"Start a sentence and then bring it to an end\""
   ]
  },
  {
   "cell_type": "code",
   "execution_count": null,
   "id": "8a8d4f43-02ce-4b1d-b96a-be565467e463",
   "metadata": {
    "gradient": {
     "execution_count": 19,
     "id": "8a8d4f43-02ce-4b1d-b96a-be565467e463",
     "kernelId": "8fc715da-86fc-4d4b-86d3-b8a86d88ea5c"
    }
   },
   "outputs": [
    {
     "name": "stdout",
     "output_type": "stream",
     "text": [
      "<re.Match object; span=(41, 44), match='end'>\n"
     ]
    }
   ],
   "source": [
    "\n",
    "\n",
    "pattern = re.compile(r'end$') # find where 'end' ends a string\n",
    "\n",
    "matches = pattern.finditer(sentence)\n",
    "for match in matches:\n",
    "    print(match)"
   ]
  },
  {
   "cell_type": "code",
   "execution_count": null,
   "id": "707b1794-a55f-4c3e-b2bb-baf8e65d824c",
   "metadata": {
    "gradient": {
     "execution_count": 20,
     "id": "707b1794-a55f-4c3e-b2bb-baf8e65d824c",
     "kernelId": "8fc715da-86fc-4d4b-86d3-b8a86d88ea5c"
    }
   },
   "outputs": [
    {
     "name": "stdout",
     "output_type": "stream",
     "text": [
      "<re.Match object; span=(118, 130), match='123-456-7891'>\n",
      "<re.Match object; span=(131, 143), match='123.555.1234'>\n"
     ]
    }
   ],
   "source": [
    "pattern = re.compile(r'\\d\\d\\d.\\d\\d\\d.\\d\\d\\d\\d') # find where 'end' ends a string\n",
    "\n",
    "matches = pattern.finditer(text_to_search)\n",
    "for match in matches:\n",
    "    print(match)"
   ]
  },
  {
   "cell_type": "code",
   "execution_count": null,
   "id": "305f7951-a693-48ab-9025-353a2e30fc84",
   "metadata": {
    "gradient": {
     "execution_count": 21,
     "id": "305f7951-a693-48ab-9025-353a2e30fc84",
     "kernelId": "8fc715da-86fc-4d4b-86d3-b8a86d88ea5c"
    }
   },
   "outputs": [],
   "source": [
    "#great for finding phone numbers\n"
   ]
  },
  {
   "cell_type": "code",
   "execution_count": null,
   "id": "e1818872-3dfc-44f9-8b5c-2b838a058759",
   "metadata": {
    "gradient": {
     "execution_count": 22,
     "id": "e1818872-3dfc-44f9-8b5c-2b838a058759",
     "kernelId": "8fc715da-86fc-4d4b-86d3-b8a86d88ea5c"
    }
   },
   "outputs": [
    {
     "name": "stdout",
     "output_type": "stream",
     "text": [
      "Dave Martin\n",
      "615-555-7164\n",
      "173 Main St., Springfield RI 55924\n",
      "davemartin@bogusemail.com\n",
      "\n",
      "Charles Harris\n",
      "800-555-5669\n",
      "969 High St., Atlantis VA 34075\n",
      "charlesharris@bogusemail.com\n",
      "\n",
      "Eric Williams\n",
      "560-555-5153\n",
      "806 1st St., Faketown AK 86847\n",
      "laurawilliams@bogusemail.com\n",
      "\n",
      "Corey Jefferson\n",
      "900-555-9340\n",
      "826 Elm St., Epicburg NE 10671\n",
      "coreyjefferson@bogusemail.com\n",
      "\n",
      "Jennifer Martin-White\n",
      "714-555-7405\n",
      "212 Cedar St., Sunnydale CT 74983\n",
      "jenniferwhite@bogusemail.com\n",
      "\n",
      "Erick Davis\n",
      "800-555-6771\n",
      "519 Washington St., Olympus TN 32425\n",
      "tomdavis@bogusemail.com\n",
      "\n",
      "Neil Patterson\n",
      "783-555-4799\n",
      "625 Oak St., Dawnstar IL 61914\n",
      "neilpatterson@bogusemail.com\n",
      "\n",
      "Laura Jefferson\n",
      "516-555-4615\n",
      "890 Main St., Pythonville LA 29947\n",
      "laurajefferson@bogusemail.com\n",
      "\n",
      "Maria Johnson\n",
      "127-555-1867\n",
      "884 High St., Braavos‎ ME 43597\n",
      "mariajohnson@bogusemail.com\n",
      "\n",
      "Michael Arnold\n",
      "608-555-4938\n",
      "249 Elm St., Quahog OR 90938\n",
      "michaelarnold@bogusemail.com\n",
      "\n",
      "Michael Smith\n",
      "568-555-6051\n",
      "619 Park St., Winterfell VA 99000\n",
      "michaelsmith@bogusemail.com\n",
      "\n",
      "Erik Stuart\n",
      "292-555-1875\n",
      "220 Cedar St., Lakeview NY 87282\n",
      "robertstuart@bogusemail.com\n",
      "\n",
      "Laura Martin\n",
      "900-555-3205\n",
      "391 High St., Smalltown WY 28362\n",
      "lauramartin@bogusemail.com\n",
      "\n",
      "Barbara Martin\n",
      "614-555-1166\n",
      "121 Hill St., Braavos‎ UT 92474\n",
      "barbaramartin@bogusemail.com\n",
      "\n",
      "Linda Jackson\n",
      "530-555-2676\n",
      "433 Elm St., Westworld TX 61967\n",
      "lindajackson@bogusemail.com\n",
      "\n",
      "Eric Miller\n",
      "470-555-2750\n",
      "838 Main St., Balmora MT 56526\n",
      "stevemiller@bogusemail.com\n",
      "\n",
      "Dave Arnold\n",
      "800-555-6089\n",
      "732 High St., Valyria KY 97152\n",
      "davearnold@bogusemail.com\n",
      "\n",
      "Jennifer Jacobs\n",
      "880-555-8319\n",
      "217 High St., Old-town IA 82767\n",
      "jenniferjacobs@bogusemail.com\n",
      "\n",
      "Neil Wilson\n",
      "777-555-8378\n",
      "191 Main St., Mordor IL 72160\n",
      "neilwilson@bogusemail.com\n",
      "\n",
      "Kurt Jackson\n",
      "998-555-7385\n",
      "607 Washington St., Blackwater NH 97183\n",
      "kurtjackson@bogusemail.com\n",
      "\n",
      "Mary Jacobs\n",
      "800-555-7100\n",
      "478 Oak St., Bedrock IA 58176\n",
      "maryjacobs@bogusemail.com\n",
      "\n",
      "Michael White\n",
      "903-555-8277\n",
      "906 Elm St., Mordor TX 89212\n",
      "michaelwhite@bogusemail.com\n",
      "\n",
      "Jennifer Jenkins\n",
      "196-555-5674\n",
      "949 Main St., Smalltown SC 96962\n",
      "jenniferjenkins@bogusemail.com\n",
      "\n",
      "Sam Wright\n",
      "900-555-5118\n",
      "835 Pearl St., Smalltown ND 77737\n",
      "samwright@bogusemail.com\n",
      "\n",
      "John Davis\n",
      "905-555-1630\n",
      "451 Lake St., Bedrock GA 34615\n",
      "johndavis@bogusemail.com\n",
      "\n",
      "Eric Davis\n",
      "203-555-3475\n",
      "419 Lake St., Balmora OR 30826\n",
      "neildavis@bogusemail.com\n",
      "\n",
      "Laura Jackson\n",
      "884-555-8444\n",
      "443 Maple St., Quahog MS 29348\n",
      "laurajackson@bogusemail.com\n",
      "\n",
      "John Williams\n",
      "904-555-8559\n",
      "756 Hill St., Valyria KY 94854\n",
      "johnwilliams@bogusemail.com\n",
      "\n",
      "Michael Martin\n",
      "889-555-7393\n",
      "216 High St., Olympus NV 21888\n",
      "michaelmartin@bogusemail.com\n",
      "\n",
      "Maggie Brown\n",
      "195-555-2405\n",
      "806 Lake St., Lakeview MD 59348\n",
      "maggiebrown@bogusemail.com\n",
      "\n",
      "Erik Wilson\n",
      "321-555-9053\n",
      "354 Hill St., Mordor FL 74122\n",
      "kurtwilson@bogusemail.com\n",
      "\n",
      "Elizabeth Arnold\n",
      "133-555-1711\n",
      "805 Maple St., Winterfell NV 99431\n",
      "elizabetharnold@bogusemail.com\n",
      "\n",
      "Jane Martin\n",
      "900-555-5428\n",
      "418 Park St., Metropolis ID 16576\n",
      "janemartin@bogusemail.com\n",
      "\n",
      "Travis Johnson\n",
      "760-555-7147\n",
      "749 Washington St., Braavos‎ SD 25668\n",
      "travisjohnson@bogusemail.com\n",
      "\n",
      "Laura Jefferson\n",
      "391-555-6621\n",
      "122 High St., Metropolis ME 29540\n",
      "laurajefferson@bogusemail.com\n",
      "\n",
      "Tom Williams\n",
      "932-555-7724\n",
      "610 High St., Old-town FL 60758\n",
      "tomwilliams@bogusemail.com\n",
      "\n",
      "Jennifer Taylor\n",
      "609-555-7908\n",
      "332 Main St., Pythonville OH 78172\n",
      "jennifertaylor@bogusemail.com\n",
      "\n",
      "Erick Wright\n",
      "800-555-8810\n",
      "858 Hill St., Blackwater NC 79714\n",
      "jenniferwright@bogusemail.com\n",
      "\n",
      "Steve Doe\n",
      "149-555-7657\n",
      "441 Elm St., Atlantis MS 87195\n",
      "stevedoe@bogusemail.com\n",
      "\n",
      "Kurt Davis\n",
      "130-555-9709\n",
      "404 Oak St., Atlantis ND 85386\n",
      "kurtdavis@bogusemail.com\n",
      "\n",
      "Corey Harris\n",
      "143-555-9295\n",
      "286 Pearl St., Vice City TX 57112\n",
      "coreyharris@bogusemail.com\n",
      "\n",
      "Nicole Taylor\n",
      "903-555-9878\n",
      "465 Hill St., Old-town LA 64102\n",
      "nicoletaylor@bogusemail.com\n",
      "\n",
      "Elizabeth Davis\n",
      "574-555-3194\n",
      "151 Lake St., Eerie SD 17880\n",
      "elizabethdavis@bogusemail.com\n",
      "\n",
      "Maggie Jenkins\n",
      "496-555-7533\n",
      "504 Lake St., Gotham PA 46692\n",
      "maggiejenkins@bogusemail.com\n",
      "\n",
      "Linda Davis\n",
      "210-555-3757\n",
      "201 Pine St., Vice City AR 78455\n",
      "lindadavis@bogusemail.com\n",
      "\n",
      "Dave Moore\n",
      "900-555-9598\n",
      "251 Pine St., Old-town OK 29087\n",
      "davemoore@bogusemail.com\n",
      "\n",
      "Linda Jenkins\n",
      "866-555-9844\n",
      "117 High St., Bedrock NE 11899\n",
      "lindajenkins@bogusemail.com\n",
      "\n",
      "Eric White\n",
      "669-555-7159\n",
      "650 Oak St., Smalltown TN 43281\n",
      "samwhite@bogusemail.com\n",
      "\n",
      "Laura Robinson\n",
      "152-555-7417\n",
      "377 Pine St., Valyria NC 78036\n",
      "laurarobinson@bogusemail.com\n",
      "\n",
      "Charles Patterson\n",
      "893-555-9832\n",
      "416 Pearl St., Valyria AK 62260\n",
      "charlespatterson@bogusemail.com\n",
      "\n",
      "Joe Jackson\n",
      "217-555-7123\n",
      "683 Cedar St., South Park KS 66724\n",
      "joejackson@bogusemail.com\n",
      "\n",
      "Michael Johnson\n",
      "786-555-6544\n",
      "288 Hill St., Smalltown AZ 18586\n",
      "michaeljohnson@bogusemail.com\n",
      "\n",
      "Corey Miller\n",
      "780-555-2574\n",
      "286 High St., Springfield IA 16272\n",
      "coreymiller@bogusemail.com\n",
      "\n",
      "James Moore\n",
      "926-555-8735\n",
      "278 Main St., Gotham KY 89569\n",
      "jamesmoore@bogusemail.com\n",
      "\n",
      "Jennifer Stuart\n",
      "895-555-3539\n",
      "766 Hill St., King's Landing GA 54999\n",
      "jenniferstuart@bogusemail.com\n",
      "\n",
      "Charles Martin\n",
      "874-555-3949\n",
      "775 High St., Faketown PA 89260\n",
      "charlesmartin@bogusemail.com\n",
      "\n",
      "Eric Wilks\n",
      "800-555-2420\n",
      "885 Main St., Blackwater OH 61275\n",
      "joewilks@bogusemail.com\n",
      "\n",
      "Elizabeth Arnold\n",
      "936-555-6340\n",
      "528 Hill St., Atlantis NH 88289\n",
      "elizabetharnold@bogusemail.com\n",
      "\n",
      "John Miller\n",
      "372-555-9809\n",
      "117 Cedar St., Thundera NM 75205\n",
      "johnmiller@bogusemail.com\n",
      "\n",
      "Corey Jackson\n",
      "890-555-5618\n",
      "115 Oak St., Gotham UT 36433\n",
      "coreyjackson@bogusemail.com\n",
      "\n",
      "Sam Thomas\n",
      "670-555-3005\n",
      "743 Lake St., Springfield MS 25473\n",
      "samthomas@bogusemail.com\n",
      "\n",
      "Patricia Thomas\n",
      "509-555-5997\n",
      "381 Hill St., Blackwater CT 30958\n",
      "patriciathomas@bogusemail.com\n",
      "\n",
      "Jennifer Davis\n",
      "721-555-5632\n",
      "125 Main St., Smalltown MT 62155\n",
      "jenniferdavis@bogusemail.com\n",
      "\n",
      "Patricia Brown\n",
      "900-555-3567\n",
      "292 Hill St., Gotham WV 57680\n",
      "patriciabrown@bogusemail.com\n",
      "\n",
      "Barbara Williams\n",
      "147-555-6830\n",
      "514 Park St., Balmora NV 55462\n",
      "barbarawilliams@bogusemail.com\n",
      "\n",
      "James Taylor\n",
      "582-555-3426\n",
      "776 Hill St., Dawnstar MA 51312\n",
      "jamestaylor@bogusemail.com\n",
      "\n",
      "Eric Harris\n",
      "400-555-1706\n",
      "421 Elm St., Smalltown NV 72025\n",
      "barbaraharris@bogusemail.com\n",
      "\n",
      "Travis Anderson\n",
      "525-555-1793\n",
      "937 Cedar St., Thundera WA 78862\n",
      "travisanderson@bogusemail.com\n",
      "\n",
      "Sam Robinson\n",
      "317-555-6700\n",
      "417 Pine St., Lakeview MD 13147\n",
      "samrobinson@bogusemail.com\n",
      "\n",
      "Steve Robinson\n",
      "974-555-8301\n",
      "478 Park St., Springfield NM 92369\n",
      "steverobinson@bogusemail.com\n",
      "\n",
      "Mary Wilson\n",
      "800-555-3216\n",
      "708 Maple St., Braavos‎ UT 29551\n",
      "marywilson@bogusemail.com\n",
      "\n",
      "Sam Wilson\n",
      "746-555-4094\n",
      "557 Pearl St., Westworld KS 23225\n",
      "samwilson@bogusemail.com\n",
      "\n",
      "Charles Jones\n",
      "922-555-1773\n",
      "855 Hill St., Olympus HI 81427\n",
      "charlesjones@bogusemail.com\n",
      "\n",
      "Laura Brown\n",
      "711-555-4427\n",
      "980 Maple St., Smalltown MO 96421\n",
      "laurabrown@bogusemail.com\n",
      "\n",
      "Tom Harris\n",
      "355-555-1872\n",
      "676 Hill St., Blackwater AR 96698\n",
      "tomharris@bogusemail.com\n",
      "\n",
      "Patricia Taylor\n",
      "852-555-6521\n",
      "588 Pine St., Olympus FL 98412\n",
      "patriciataylor@bogusemail.com\n",
      "\n",
      "Barbara Williams\n",
      "691-555-5773\n",
      "351 Elm St., Sunnydale GA 26245\n",
      "barbarawilliams@bogusemail.com\n",
      "\n",
      "Maggie Johnson\n",
      "332-555-5441\n",
      "948 Cedar St., Quahog DE 56449\n",
      "maggiejohnson@bogusemail.com\n",
      "\n",
      "Kurt Miller\n",
      "900-555-7755\n",
      "381 Hill St., Quahog AL 97503\n",
      "kurtmiller@bogusemail.com\n",
      "\n",
      "Neil Stuart\n",
      "379-555-3685\n",
      "496 Cedar St., Sunnydale RI 49113\n",
      "neilstuart@bogusemail.com\n",
      "\n",
      "Linda Patterson\n",
      "127-555-9682\n",
      "736 Cedar St., Lakeview KY 47472\n",
      "lindapatterson@bogusemail.com\n",
      "\n",
      "Charles Davis\n",
      "789-555-7032\n",
      "678 Lake St., Mordor MN 11845\n",
      "charlesdavis@bogusemail.com\n",
      "\n",
      "Jennifer Jefferson\n",
      "783-555-5135\n",
      "289 Park St., Sunnydale WA 74526\n",
      "jenniferjefferson@bogusemail.com\n",
      "\n",
      "Erick Taylor\n",
      "315-555-6507\n",
      "245 Washington St., Bedrock IL 26941\n",
      "coreytaylor@bogusemail.com\n",
      "\n",
      "Robert Wilks\n",
      "481-555-5835\n",
      "573 Elm St., Sunnydale IL 47182\n",
      "robertwilks@bogusemail.com\n",
      "\n",
      "Travis Jackson\n",
      "365-555-8287\n",
      "851 Lake St., Metropolis PA 22772\n",
      "travisjackson@bogusemail.com\n",
      "\n",
      "Travis Jackson\n",
      "911-555-7535\n",
      "489 Oak St., Atlantis HI 73725\n",
      "travisjackson@bogusemail.com\n",
      "\n",
      "Laura Wilks\n",
      "681-555-2460\n",
      "371 Pearl St., Smalltown SC 47466\n",
      "laurawilks@bogusemail.com\n",
      "\n",
      "Neil Arnold\n",
      "274-555-9800\n",
      "504 Oak St., Faketown PA 73860\n",
      "neilarnold@bogusemail.com\n",
      "\n",
      "Linda Johnson\n",
      "800-555-1372\n",
      "667 High St., Balmora IN 82473\n",
      "lindajohnson@bogusemail.com\n",
      "\n",
      "Jennifer Wilson\n",
      "300-555-7821\n",
      "266 Pine St., Westworld DC 58720\n",
      "jenniferwilson@bogusemail.com\n",
      "\n",
      "Nicole White\n",
      "133-555-3889\n",
      "276 High St., Braavos‎ IL 57764\n",
      "nicolewhite@bogusemail.com\n",
      "\n",
      "Maria Arnold\n",
      "705-555-6863\n",
      "491 Elm St., Metropolis PA 31836\n",
      "mariaarnold@bogusemail.com\n",
      "\n",
      "Jennifer Davis\n",
      "215-555-9449\n",
      "859 Cedar St., Old-town MT 31169\n",
      "jenniferdavis@bogusemail.com\n",
      "\n",
      "Mary Patterson\n",
      "988-555-6112\n",
      "956 Park St., Valyria CT 81541\n",
      "marypatterson@bogusemail.com\n",
      "\n",
      "Jane Stuart\n",
      "623-555-3006\n",
      "983 Oak St., Old-town RI 15445\n",
      "janestuart@bogusemail.com\n",
      "\n",
      "Robert Davis\n",
      "192-555-4977\n",
      "789 Maple St., Mordor IN 22215\n",
      "robertdavis@bogusemail.com\n",
      "\n",
      "James Taylor\n",
      "178-555-4899\n",
      "439 Hill St., Olympus NV 39308\n",
      "jamestaylor@bogusemail.com\n",
      "\n",
      "Eric Stuart\n",
      "952-555-3089\n",
      "777 High St., King's Landing AZ 16547\n",
      "johnstuart@bogusemail.com\n",
      "\n",
      "Charles Miller\n",
      "900-555-6426\n",
      "207 Washington St., Blackwater MA 24886\n",
      "charlesmiller@bogusemail.com\n",
      "\n"
     ]
    }
   ],
   "source": [
    "url = 'https://raw.githubusercontent.com/CoreyMSchafer/code_snippets/master/Python-Regular-Expressions/data.txt'\n",
    "import urllib\n",
    "\n",
    "url = 'https://raw.githubusercontent.com/CoreyMSchafer/code_snippets/master/Python-Regular-Expressions/data.txt'\n",
    "my_request = urllib.request.urlopen(url)\n",
    "\n",
    "my_HTML = my_request.read().decode(\"utf8\")\n",
    "\n",
    "print(my_HTML)"
   ]
  },
  {
   "cell_type": "code",
   "execution_count": null,
   "id": "761406a3-a1f7-4cdd-8166-f47de288b2a3",
   "metadata": {
    "gradient": {
     "execution_count": 23,
     "id": "761406a3-a1f7-4cdd-8166-f47de288b2a3",
     "kernelId": "8fc715da-86fc-4d4b-86d3-b8a86d88ea5c"
    }
   },
   "outputs": [
    {
     "name": "stdout",
     "output_type": "stream",
     "text": [
      "<re.Match object; span=(12, 24), match='615-555-7164'>\n",
      "<re.Match object; span=(102, 114), match='800-555-5669'>\n",
      "<re.Match object; span=(191, 203), match='560-555-5153'>\n",
      "<re.Match object; span=(281, 293), match='900-555-9340'>\n",
      "<re.Match object; span=(378, 390), match='714-555-7405'>\n",
      "<re.Match object; span=(467, 479), match='800-555-6771'>\n",
      "<re.Match object; span=(557, 569), match='783-555-4799'>\n",
      "<re.Match object; span=(647, 659), match='516-555-4615'>\n",
      "<re.Match object; span=(740, 752), match='127-555-1867'>\n",
      "<re.Match object; span=(829, 841), match='608-555-4938'>\n",
      "<re.Match object; span=(915, 927), match='568-555-6051'>\n",
      "<re.Match object; span=(1003, 1015), match='292-555-1875'>\n",
      "<re.Match object; span=(1091, 1103), match='900-555-3205'>\n",
      "<re.Match object; span=(1180, 1192), match='614-555-1166'>\n",
      "<re.Match object; span=(1269, 1281), match='530-555-2676'>\n",
      "<re.Match object; span=(1355, 1367), match='470-555-2750'>\n",
      "<re.Match object; span=(1439, 1451), match='800-555-6089'>\n",
      "<re.Match object; span=(1526, 1538), match='880-555-8319'>\n",
      "<re.Match object; span=(1614, 1626), match='777-555-8378'>\n",
      "<re.Match object; span=(1697, 1709), match='998-555-7385'>\n",
      "<re.Match object; span=(1790, 1802), match='800-555-7100'>\n",
      "<re.Match object; span=(1874, 1886), match='903-555-8277'>\n",
      "<re.Match object; span=(1962, 1974), match='196-555-5674'>\n",
      "<re.Match object; span=(2051, 2063), match='900-555-5118'>\n",
      "<re.Match object; span=(2135, 2147), match='905-555-1630'>\n",
      "<re.Match object; span=(2216, 2228), match='203-555-3475'>\n",
      "<re.Match object; span=(2300, 2312), match='884-555-8444'>\n",
      "<re.Match object; span=(2387, 2399), match='904-555-8559'>\n",
      "<re.Match object; span=(2475, 2487), match='889-555-7393'>\n",
      "<re.Match object; span=(2562, 2574), match='195-555-2405'>\n",
      "<re.Match object; span=(2647, 2659), match='321-555-9053'>\n",
      "<re.Match object; span=(2734, 2746), match='133-555-1711'>\n",
      "<re.Match object; span=(2826, 2838), match='900-555-5428'>\n",
      "<re.Match object; span=(2915, 2927), match='760-555-7147'>\n",
      "<re.Match object; span=(3012, 3024), match='391-555-6621'>\n",
      "<re.Match object; span=(3103, 3115), match='932-555-7724'>\n",
      "<re.Match object; span=(3192, 3204), match='609-555-7908'>\n",
      "<re.Match object; span=(3284, 3296), match='800-555-8810'>\n",
      "<re.Match object; span=(3372, 3384), match='149-555-7657'>\n",
      "<re.Match object; span=(3452, 3464), match='130-555-9709'>\n",
      "<re.Match object; span=(3535, 3547), match='143-555-9295'>\n",
      "<re.Match object; span=(3624, 3636), match='903-555-9878'>\n",
      "<re.Match object; span=(3714, 3726), match='574-555-3194'>\n",
      "<re.Match object; span=(3802, 3814), match='496-555-7533'>\n",
      "<re.Match object; span=(3887, 3899), match='210-555-3757'>\n",
      "<re.Match object; span=(3971, 3983), match='900-555-9598'>\n",
      "<re.Match object; span=(4056, 4068), match='866-555-9844'>\n",
      "<re.Match object; span=(4140, 4152), match='669-555-7159'>\n",
      "<re.Match object; span=(4225, 4237), match='152-555-7417'>\n",
      "<re.Match object; span=(4317, 4329), match='893-555-9832'>\n",
      "<re.Match object; span=(4407, 4419), match='217-555-7123'>\n",
      "<re.Match object; span=(4498, 4510), match='786-555-6544'>\n",
      "<re.Match object; span=(4588, 4600), match='780-555-2574'>\n",
      "<re.Match object; span=(4676, 4688), match='926-555-8735'>\n",
      "<re.Match object; span=(4762, 4774), match='895-555-3539'>\n",
      "<re.Match object; span=(4859, 4871), match='874-555-3949'>\n",
      "<re.Match object; span=(4945, 4957), match='800-555-2420'>\n",
      "<re.Match object; span=(5034, 5046), match='936-555-6340'>\n",
      "<re.Match object; span=(5123, 5135), match='372-555-9809'>\n",
      "<re.Match object; span=(5210, 5222), match='890-555-5618'>\n",
      "<re.Match object; span=(5292, 5304), match='670-555-3005'>\n",
      "<re.Match object; span=(5382, 5394), match='509-555-5997'>\n",
      "<re.Match object; span=(5475, 5487), match='721-555-5632'>\n",
      "<re.Match object; span=(5566, 5578), match='900-555-3567'>\n",
      "<re.Match object; span=(5656, 5668), match='147-555-6830'>\n",
      "<re.Match object; span=(5745, 5757), match='582-555-3426'>\n",
      "<re.Match object; span=(5830, 5842), match='400-555-1706'>\n",
      "<re.Match object; span=(5921, 5933), match='525-555-1793'>\n",
      "<re.Match object; span=(6011, 6023), match='317-555-6700'>\n",
      "<re.Match object; span=(6099, 6111), match='974-555-8301'>\n",
      "<re.Match object; span=(6189, 6201), match='800-555-3216'>\n",
      "<re.Match object; span=(6273, 6285), match='746-555-4094'>\n",
      "<re.Match object; span=(6360, 6372), match='922-555-1773'>\n",
      "<re.Match object; span=(6445, 6457), match='711-555-4427'>\n",
      "<re.Match object; span=(6530, 6542), match='355-555-1872'>\n",
      "<re.Match object; span=(6619, 6631), match='852-555-6521'>\n",
      "<re.Match object; span=(6711, 6723), match='691-555-5773'>\n",
      "<re.Match object; span=(6803, 6815), match='332-555-5441'>\n",
      "<re.Match object; span=(6889, 6901), match='900-555-7755'>\n",
      "<re.Match object; span=(6971, 6983), match='379-555-3685'>\n",
      "<re.Match object; span=(7061, 7073), match='127-555-9682'>\n",
      "<re.Match object; span=(7152, 7164), match='789-555-7032'>\n",
      "<re.Match object; span=(7243, 7255), match='783-555-5135'>\n",
      "<re.Match object; span=(7336, 7348), match='315-555-6507'>\n",
      "<re.Match object; span=(7427, 7439), match='481-555-5835'>\n",
      "<re.Match object; span=(7515, 7527), match='365-555-8287'>\n",
      "<re.Match object; span=(7607, 7619), match='911-555-7535'>\n",
      "<re.Match object; span=(7693, 7705), match='681-555-2460'>\n",
      "<re.Match object; span=(7779, 7791), match='274-555-9800'>\n",
      "<re.Match object; span=(7864, 7876), match='800-555-1372'>\n",
      "<re.Match object; span=(7953, 7965), match='300-555-7821'>\n",
      "<re.Match object; span=(8043, 8055), match='133-555-3889'>\n",
      "<re.Match object; span=(8129, 8141), match='705-555-6863'>\n",
      "<re.Match object; span=(8218, 8230), match='215-555-9449'>\n",
      "<re.Match object; span=(8309, 8321), match='988-555-6112'>\n",
      "<re.Match object; span=(8395, 8407), match='623-555-3006'>\n",
      "<re.Match object; span=(8479, 8491), match='192-555-4977'>\n",
      "<re.Match object; span=(8564, 8576), match='178-555-4899'>\n",
      "<re.Match object; span=(8648, 8660), match='952-555-3089'>\n",
      "<re.Match object; span=(8741, 8753), match='900-555-6426'>\n"
     ]
    }
   ],
   "source": [
    "pattern = re.compile(r'\\d\\d\\d.\\d\\d\\d.\\d\\d\\d\\d') # find where 'end' ends a string\n",
    "\n",
    "matches = pattern.finditer(my_HTML)\n",
    "for match in matches:\n",
    "    print(match)"
   ]
  },
  {
   "cell_type": "code",
   "execution_count": null,
   "id": "0fc2cdd5-62d1-4d20-83dc-d7551872ec1f",
   "metadata": {
    "gradient": {
     "execution_count": 24,
     "id": "0fc2cdd5-62d1-4d20-83dc-d7551872ec1f",
     "kernelId": "8fc715da-86fc-4d4b-86d3-b8a86d88ea5c"
    }
   },
   "outputs": [
    {
     "name": "stdout",
     "output_type": "stream",
     "text": [
      "<re.Match object; span=(281, 293), match='900-555-9340'>\n",
      "<re.Match object; span=(1091, 1103), match='900-555-3205'>\n",
      "<re.Match object; span=(1697, 1709), match='998-555-7385'>\n",
      "<re.Match object; span=(1874, 1886), match='903-555-8277'>\n",
      "<re.Match object; span=(2051, 2063), match='900-555-5118'>\n",
      "<re.Match object; span=(2135, 2147), match='905-555-1630'>\n",
      "<re.Match object; span=(2387, 2399), match='904-555-8559'>\n",
      "<re.Match object; span=(2826, 2838), match='900-555-5428'>\n",
      "<re.Match object; span=(3103, 3115), match='932-555-7724'>\n",
      "<re.Match object; span=(3624, 3636), match='903-555-9878'>\n",
      "<re.Match object; span=(3971, 3983), match='900-555-9598'>\n",
      "<re.Match object; span=(4676, 4688), match='926-555-8735'>\n",
      "<re.Match object; span=(5034, 5046), match='936-555-6340'>\n",
      "<re.Match object; span=(5566, 5578), match='900-555-3567'>\n",
      "<re.Match object; span=(6099, 6111), match='974-555-8301'>\n",
      "<re.Match object; span=(6360, 6372), match='922-555-1773'>\n",
      "<re.Match object; span=(6889, 6901), match='900-555-7755'>\n",
      "<re.Match object; span=(7607, 7619), match='911-555-7535'>\n",
      "<re.Match object; span=(8309, 8321), match='988-555-6112'>\n",
      "<re.Match object; span=(8648, 8660), match='952-555-3089'>\n",
      "<re.Match object; span=(8741, 8753), match='900-555-6426'>\n"
     ]
    }
   ],
   "source": [
    "pattern = re.compile(r'[9]\\d\\d.\\d\\d\\d.\\d\\d\\d\\d') # find where 'end' ends a string\n",
    "\n",
    "matches = pattern.finditer(my_HTML)\n",
    "for match in matches:\n",
    "    print(match)"
   ]
  },
  {
   "cell_type": "code",
   "execution_count": null,
   "id": "2ac2c037-2b20-492e-8f0c-0c302d6fa898",
   "metadata": {
    "gradient": {
     "execution_count": 25,
     "id": "2ac2c037-2b20-492e-8f0c-0c302d6fa898",
     "kernelId": "8fc715da-86fc-4d4b-86d3-b8a86d88ea5c"
    }
   },
   "outputs": [],
   "source": [
    "# i  used [] to look for a sepcifc character, in this case 9. See how all the search returned \n",
    "# a phone number that starts with 9"
   ]
  },
  {
   "cell_type": "code",
   "execution_count": null,
   "id": "cae3051d-5c03-4d9a-baa4-25fce83669f7",
   "metadata": {
    "gradient": {
     "execution_count": 26,
     "id": "cae3051d-5c03-4d9a-baa4-25fce83669f7",
     "kernelId": "8fc715da-86fc-4d4b-86d3-b8a86d88ea5c"
    }
   },
   "outputs": [
    {
     "name": "stdout",
     "output_type": "stream",
     "text": [
      "<re.Match object; span=(102, 114), match='800-555-5669'>\n",
      "<re.Match object; span=(281, 293), match='900-555-9340'>\n",
      "<re.Match object; span=(467, 479), match='800-555-6771'>\n",
      "<re.Match object; span=(1091, 1103), match='900-555-3205'>\n",
      "<re.Match object; span=(1439, 1451), match='800-555-6089'>\n",
      "<re.Match object; span=(1790, 1802), match='800-555-7100'>\n",
      "<re.Match object; span=(2051, 2063), match='900-555-5118'>\n",
      "<re.Match object; span=(2826, 2838), match='900-555-5428'>\n",
      "<re.Match object; span=(3284, 3296), match='800-555-8810'>\n",
      "<re.Match object; span=(3971, 3983), match='900-555-9598'>\n",
      "<re.Match object; span=(4945, 4957), match='800-555-2420'>\n",
      "<re.Match object; span=(5566, 5578), match='900-555-3567'>\n",
      "<re.Match object; span=(6189, 6201), match='800-555-3216'>\n",
      "<re.Match object; span=(6889, 6901), match='900-555-7755'>\n",
      "<re.Match object; span=(7864, 7876), match='800-555-1372'>\n",
      "<re.Match object; span=(8741, 8753), match='900-555-6426'>\n"
     ]
    }
   ],
   "source": [
    "pattern = re.compile(r'[89]00.\\d\\d\\d.\\d\\d\\d\\d') # this is only finding 800 or 900 numbers\n",
    "\n",
    "matches = pattern.finditer(my_HTML)\n",
    "for match in matches:\n",
    "    print(match)"
   ]
  },
  {
   "cell_type": "code",
   "execution_count": null,
   "id": "effc89db-5576-42e9-a522-1b19821af9d0",
   "metadata": {
    "gradient": {
     "execution_count": 27,
     "id": "effc89db-5576-42e9-a522-1b19821af9d0",
     "kernelId": "8fc715da-86fc-4d4b-86d3-b8a86d88ea5c"
    }
   },
   "outputs": [
    {
     "name": "stdout",
     "output_type": "stream",
     "text": [
      "<re.Match object; span=(55, 56), match='1'>\n",
      "<re.Match object; span=(56, 57), match='2'>\n",
      "<re.Match object; span=(57, 58), match='3'>\n",
      "<re.Match object; span=(58, 59), match='4'>\n",
      "<re.Match object; span=(59, 60), match='5'>\n",
      "<re.Match object; span=(118, 119), match='1'>\n",
      "<re.Match object; span=(119, 120), match='2'>\n",
      "<re.Match object; span=(120, 121), match='3'>\n",
      "<re.Match object; span=(122, 123), match='4'>\n",
      "<re.Match object; span=(123, 124), match='5'>\n",
      "<re.Match object; span=(129, 130), match='1'>\n",
      "<re.Match object; span=(131, 132), match='1'>\n",
      "<re.Match object; span=(132, 133), match='2'>\n",
      "<re.Match object; span=(133, 134), match='3'>\n",
      "<re.Match object; span=(135, 136), match='5'>\n",
      "<re.Match object; span=(136, 137), match='5'>\n",
      "<re.Match object; span=(137, 138), match='5'>\n",
      "<re.Match object; span=(139, 140), match='1'>\n",
      "<re.Match object; span=(140, 141), match='2'>\n",
      "<re.Match object; span=(141, 142), match='3'>\n",
      "<re.Match object; span=(142, 143), match='4'>\n"
     ]
    }
   ],
   "source": [
    "pattern = re.compile(r'[1-5]') # this is only finds digits that are 1,2,3,4 or 5\n",
    "\n",
    "matches = pattern.finditer(text_to_search)\n",
    "for match in matches:\n",
    "    print(match)"
   ]
  },
  {
   "cell_type": "code",
   "execution_count": null,
   "id": "84c61bb0-1df8-4b55-80a1-94002eee48f3",
   "metadata": {
    "gradient": {
     "execution_count": 28,
     "id": "84c61bb0-1df8-4b55-80a1-94002eee48f3",
     "kernelId": "8fc715da-86fc-4d4b-86d3-b8a86d88ea5c"
    }
   },
   "outputs": [
    {
     "name": "stdout",
     "output_type": "stream",
     "text": [
      "<re.Match object; span=(1, 2), match='a'>\n",
      "<re.Match object; span=(2, 3), match='b'>\n",
      "<re.Match object; span=(3, 4), match='c'>\n",
      "<re.Match object; span=(68, 69), match='a'>\n",
      "<re.Match object; span=(71, 72), match='a'>\n",
      "<re.Match object; span=(73, 74), match='a'>\n",
      "<re.Match object; span=(105, 106), match='c'>\n",
      "<re.Match object; span=(113, 114), match='c'>\n",
      "<re.Match object; span=(151, 152), match='a'>\n",
      "<re.Match object; span=(168, 169), match='a'>\n",
      "<re.Match object; span=(188, 189), match='b'>\n",
      "<re.Match object; span=(196, 197), match='a'>\n",
      "<re.Match object; span=(200, 201), match='a'>\n",
      "<re.Match object; span=(204, 205), match='a'>\n",
      "<re.Match object; span=(214, 215), match='a'>\n",
      "<re.Match object; span=(218, 219), match='b'>\n",
      "<re.Match object; span=(219, 220), match='a'>\n",
      "<re.Match object; span=(223, 224), match='a'>\n"
     ]
    }
   ],
   "source": [
    "# we can do the same thing with letters\n",
    "pattern = re.compile(r'[a-c]') # this is only finds digits that are a,b,c\n",
    "\n",
    "matches = pattern.finditer(text_to_search)\n",
    "for match in matches:\n",
    "    print(match)"
   ]
  },
  {
   "cell_type": "code",
   "execution_count": null,
   "id": "f9909c72-f475-42f1-9feb-4b668d6eb1f2",
   "metadata": {
    "gradient": {
     "execution_count": 29,
     "id": "f9909c72-f475-42f1-9feb-4b668d6eb1f2",
     "kernelId": "8fc715da-86fc-4d4b-86d3-b8a86d88ea5c"
    }
   },
   "outputs": [
    {
     "name": "stdout",
     "output_type": "stream",
     "text": [
      "<re.Match object; span=(1, 2), match='a'>\n",
      "<re.Match object; span=(2, 3), match='b'>\n",
      "<re.Match object; span=(3, 4), match='c'>\n",
      "<re.Match object; span=(28, 29), match='A'>\n",
      "<re.Match object; span=(29, 30), match='B'>\n",
      "<re.Match object; span=(30, 31), match='C'>\n",
      "<re.Match object; span=(31, 32), match='D'>\n",
      "<re.Match object; span=(68, 69), match='a'>\n",
      "<re.Match object; span=(71, 72), match='a'>\n",
      "<re.Match object; span=(73, 74), match='a'>\n",
      "<re.Match object; span=(105, 106), match='c'>\n",
      "<re.Match object; span=(113, 114), match='c'>\n",
      "<re.Match object; span=(151, 152), match='a'>\n",
      "<re.Match object; span=(167, 168), match='D'>\n",
      "<re.Match object; span=(168, 169), match='a'>\n",
      "<re.Match object; span=(188, 189), match='b'>\n",
      "<re.Match object; span=(196, 197), match='a'>\n",
      "<re.Match object; span=(199, 200), match='B'>\n",
      "<re.Match object; span=(200, 201), match='a'>\n",
      "<re.Match object; span=(204, 205), match='a'>\n",
      "<re.Match object; span=(214, 215), match='a'>\n",
      "<re.Match object; span=(218, 219), match='b'>\n",
      "<re.Match object; span=(219, 220), match='a'>\n",
      "<re.Match object; span=(223, 224), match='a'>\n"
     ]
    }
   ],
   "source": [
    "# we can do the same thing with uppercase or lowercase\n",
    "pattern = re.compile(r'[a-cA-D]') # this is only finds digits that are a,b,c,A,B,C,D\n",
    "\n",
    "matches = pattern.finditer(text_to_search)\n",
    "for match in matches:\n",
    "    print(match)"
   ]
  },
  {
   "cell_type": "code",
   "execution_count": null,
   "id": "7507531f-9d30-4c39-99e1-984418043c25",
   "metadata": {
    "gradient": {
     "execution_count": 30,
     "id": "7507531f-9d30-4c39-99e1-984418043c25",
     "kernelId": "8fc715da-86fc-4d4b-86d3-b8a86d88ea5c"
    }
   },
   "outputs": [
    {
     "name": "stdout",
     "output_type": "stream",
     "text": [
      "<re.Match object; span=(0, 1), match='\\n'>\n",
      "<re.Match object; span=(4, 5), match='d'>\n",
      "<re.Match object; span=(5, 6), match='e'>\n",
      "<re.Match object; span=(6, 7), match='f'>\n",
      "<re.Match object; span=(7, 8), match='g'>\n",
      "<re.Match object; span=(8, 9), match='h'>\n",
      "<re.Match object; span=(9, 10), match='i'>\n",
      "<re.Match object; span=(10, 11), match='j'>\n",
      "<re.Match object; span=(11, 12), match='k'>\n",
      "<re.Match object; span=(12, 13), match='l'>\n",
      "<re.Match object; span=(13, 14), match='m'>\n",
      "<re.Match object; span=(14, 15), match='n'>\n",
      "<re.Match object; span=(15, 16), match='o'>\n",
      "<re.Match object; span=(16, 17), match='p'>\n",
      "<re.Match object; span=(17, 18), match='q'>\n",
      "<re.Match object; span=(18, 19), match='r'>\n",
      "<re.Match object; span=(19, 20), match='s'>\n",
      "<re.Match object; span=(20, 21), match='t'>\n",
      "<re.Match object; span=(21, 22), match='u'>\n",
      "<re.Match object; span=(22, 23), match='v'>\n",
      "<re.Match object; span=(23, 24), match='w'>\n",
      "<re.Match object; span=(24, 25), match='x'>\n",
      "<re.Match object; span=(25, 26), match='y'>\n",
      "<re.Match object; span=(26, 27), match='z'>\n",
      "<re.Match object; span=(27, 28), match='\\n'>\n",
      "<re.Match object; span=(32, 33), match='E'>\n",
      "<re.Match object; span=(33, 34), match='F'>\n",
      "<re.Match object; span=(34, 35), match='G'>\n",
      "<re.Match object; span=(35, 36), match='H'>\n",
      "<re.Match object; span=(36, 37), match='I'>\n",
      "<re.Match object; span=(37, 38), match='J'>\n",
      "<re.Match object; span=(38, 39), match='K'>\n",
      "<re.Match object; span=(39, 40), match='L'>\n",
      "<re.Match object; span=(40, 41), match='M'>\n",
      "<re.Match object; span=(41, 42), match='N'>\n",
      "<re.Match object; span=(42, 43), match='O'>\n",
      "<re.Match object; span=(43, 44), match='P'>\n",
      "<re.Match object; span=(44, 45), match='Q'>\n",
      "<re.Match object; span=(45, 46), match='R'>\n",
      "<re.Match object; span=(46, 47), match='S'>\n",
      "<re.Match object; span=(47, 48), match='T'>\n",
      "<re.Match object; span=(48, 49), match='U'>\n",
      "<re.Match object; span=(49, 50), match='V'>\n",
      "<re.Match object; span=(50, 51), match='W'>\n",
      "<re.Match object; span=(51, 52), match='X'>\n",
      "<re.Match object; span=(52, 53), match='Y'>\n",
      "<re.Match object; span=(53, 54), match='Z'>\n",
      "<re.Match object; span=(54, 55), match='\\n'>\n",
      "<re.Match object; span=(55, 56), match='1'>\n",
      "<re.Match object; span=(56, 57), match='2'>\n",
      "<re.Match object; span=(57, 58), match='3'>\n",
      "<re.Match object; span=(58, 59), match='4'>\n",
      "<re.Match object; span=(59, 60), match='5'>\n",
      "<re.Match object; span=(60, 61), match='6'>\n",
      "<re.Match object; span=(61, 62), match='7'>\n",
      "<re.Match object; span=(62, 63), match='8'>\n",
      "<re.Match object; span=(63, 64), match='9'>\n",
      "<re.Match object; span=(64, 65), match='0'>\n",
      "<re.Match object; span=(65, 66), match='\\n'>\n",
      "<re.Match object; span=(66, 67), match='\\n'>\n",
      "<re.Match object; span=(67, 68), match='H'>\n",
      "<re.Match object; span=(69, 70), match=' '>\n",
      "<re.Match object; span=(70, 71), match='H'>\n",
      "<re.Match object; span=(72, 73), match='H'>\n",
      "<re.Match object; span=(74, 75), match='\\n'>\n",
      "<re.Match object; span=(75, 76), match='\\n'>\n",
      "<re.Match object; span=(76, 77), match='.'>\n",
      "<re.Match object; span=(77, 78), match=' '>\n",
      "<re.Match object; span=(78, 79), match='^'>\n",
      "<re.Match object; span=(79, 80), match=' '>\n",
      "<re.Match object; span=(80, 81), match='$'>\n",
      "<re.Match object; span=(81, 82), match=' '>\n",
      "<re.Match object; span=(82, 83), match='*'>\n",
      "<re.Match object; span=(83, 84), match=' '>\n",
      "<re.Match object; span=(84, 85), match='+'>\n",
      "<re.Match object; span=(85, 86), match=' '>\n",
      "<re.Match object; span=(86, 87), match='?'>\n",
      "<re.Match object; span=(87, 88), match=' '>\n",
      "<re.Match object; span=(88, 89), match='{'>\n",
      "<re.Match object; span=(89, 90), match=' '>\n",
      "<re.Match object; span=(90, 91), match='}'>\n",
      "<re.Match object; span=(91, 92), match=' '>\n",
      "<re.Match object; span=(92, 93), match='['>\n",
      "<re.Match object; span=(93, 94), match=' '>\n",
      "<re.Match object; span=(94, 95), match=']'>\n",
      "<re.Match object; span=(95, 96), match=' '>\n",
      "<re.Match object; span=(96, 97), match='\\\\'>\n",
      "<re.Match object; span=(97, 98), match=' '>\n",
      "<re.Match object; span=(98, 99), match='\\\\'>\n",
      "<re.Match object; span=(99, 100), match=' '>\n",
      "<re.Match object; span=(100, 101), match='('>\n",
      "<re.Match object; span=(101, 102), match=' '>\n",
      "<re.Match object; span=(102, 103), match=')'>\n",
      "<re.Match object; span=(103, 104), match='\\n'>\n",
      "<re.Match object; span=(104, 105), match='\\n'>\n",
      "<re.Match object; span=(106, 107), match='o'>\n",
      "<re.Match object; span=(107, 108), match='r'>\n",
      "<re.Match object; span=(108, 109), match='e'>\n",
      "<re.Match object; span=(109, 110), match='y'>\n",
      "<re.Match object; span=(110, 111), match='m'>\n",
      "<re.Match object; span=(111, 112), match='s'>\n",
      "<re.Match object; span=(112, 113), match='.'>\n",
      "<re.Match object; span=(114, 115), match='o'>\n",
      "<re.Match object; span=(115, 116), match='m'>\n",
      "<re.Match object; span=(116, 117), match='\\n'>\n",
      "<re.Match object; span=(117, 118), match='\\n'>\n",
      "<re.Match object; span=(118, 119), match='1'>\n",
      "<re.Match object; span=(119, 120), match='2'>\n",
      "<re.Match object; span=(120, 121), match='3'>\n",
      "<re.Match object; span=(121, 122), match='-'>\n",
      "<re.Match object; span=(122, 123), match='4'>\n",
      "<re.Match object; span=(123, 124), match='5'>\n",
      "<re.Match object; span=(124, 125), match='6'>\n",
      "<re.Match object; span=(125, 126), match='-'>\n",
      "<re.Match object; span=(126, 127), match='7'>\n",
      "<re.Match object; span=(127, 128), match='8'>\n",
      "<re.Match object; span=(128, 129), match='9'>\n",
      "<re.Match object; span=(129, 130), match='1'>\n",
      "<re.Match object; span=(130, 131), match='\\n'>\n",
      "<re.Match object; span=(131, 132), match='1'>\n",
      "<re.Match object; span=(132, 133), match='2'>\n",
      "<re.Match object; span=(133, 134), match='3'>\n",
      "<re.Match object; span=(134, 135), match='.'>\n",
      "<re.Match object; span=(135, 136), match='5'>\n",
      "<re.Match object; span=(136, 137), match='5'>\n",
      "<re.Match object; span=(137, 138), match='5'>\n",
      "<re.Match object; span=(138, 139), match='.'>\n",
      "<re.Match object; span=(139, 140), match='1'>\n",
      "<re.Match object; span=(140, 141), match='2'>\n",
      "<re.Match object; span=(141, 142), match='3'>\n",
      "<re.Match object; span=(142, 143), match='4'>\n",
      "<re.Match object; span=(143, 144), match='\\n'>\n",
      "<re.Match object; span=(144, 145), match='\\n'>\n",
      "<re.Match object; span=(145, 146), match='\\n'>\n",
      "<re.Match object; span=(146, 147), match='M'>\n",
      "<re.Match object; span=(147, 148), match='r'>\n",
      "<re.Match object; span=(148, 149), match='.'>\n",
      "<re.Match object; span=(149, 150), match=' '>\n",
      "<re.Match object; span=(150, 151), match='M'>\n",
      "<re.Match object; span=(152, 153), match='r'>\n",
      "<re.Match object; span=(153, 154), match='k'>\n",
      "<re.Match object; span=(154, 155), match='\\n'>\n",
      "<re.Match object; span=(155, 156), match='M'>\n",
      "<re.Match object; span=(156, 157), match='r'>\n",
      "<re.Match object; span=(157, 158), match=' '>\n",
      "<re.Match object; span=(158, 159), match='S'>\n",
      "<re.Match object; span=(159, 160), match='m'>\n",
      "<re.Match object; span=(160, 161), match='i'>\n",
      "<re.Match object; span=(161, 162), match='t'>\n",
      "<re.Match object; span=(162, 163), match='h'>\n",
      "<re.Match object; span=(163, 164), match='\\n'>\n",
      "<re.Match object; span=(164, 165), match='M'>\n",
      "<re.Match object; span=(165, 166), match='s'>\n",
      "<re.Match object; span=(166, 167), match=' '>\n",
      "<re.Match object; span=(169, 170), match='v'>\n",
      "<re.Match object; span=(170, 171), match='i'>\n",
      "<re.Match object; span=(171, 172), match='s'>\n",
      "<re.Match object; span=(172, 173), match='\\n'>\n",
      "<re.Match object; span=(173, 174), match='M'>\n",
      "<re.Match object; span=(174, 175), match='r'>\n",
      "<re.Match object; span=(175, 176), match=' '>\n",
      "<re.Match object; span=(176, 177), match='L'>\n",
      "<re.Match object; span=(177, 178), match='o'>\n",
      "<re.Match object; span=(178, 179), match='v'>\n",
      "<re.Match object; span=(179, 180), match='e'>\n",
      "<re.Match object; span=(180, 181), match='\\n'>\n",
      "<re.Match object; span=(181, 182), match='M'>\n",
      "<re.Match object; span=(182, 183), match='r'>\n",
      "<re.Match object; span=(183, 184), match='s'>\n",
      "<re.Match object; span=(184, 185), match='.'>\n",
      "<re.Match object; span=(185, 186), match=' '>\n",
      "<re.Match object; span=(186, 187), match='R'>\n",
      "<re.Match object; span=(187, 188), match='o'>\n",
      "<re.Match object; span=(189, 190), match='i'>\n",
      "<re.Match object; span=(190, 191), match='n'>\n",
      "<re.Match object; span=(191, 192), match='s'>\n",
      "<re.Match object; span=(192, 193), match='o'>\n",
      "<re.Match object; span=(193, 194), match='n'>\n",
      "<re.Match object; span=(194, 195), match='\\n'>\n",
      "<re.Match object; span=(195, 196), match='P'>\n",
      "<re.Match object; span=(197, 198), match='t'>\n",
      "<re.Match object; span=(198, 199), match='\\n'>\n",
      "<re.Match object; span=(201, 202), match='t'>\n",
      "<re.Match object; span=(202, 203), match=' '>\n",
      "<re.Match object; span=(203, 204), match='M'>\n",
      "<re.Match object; span=(205, 206), match='s'>\n",
      "<re.Match object; span=(206, 207), match='t'>\n",
      "<re.Match object; span=(207, 208), match='e'>\n",
      "<re.Match object; span=(208, 209), match='r'>\n",
      "<re.Match object; span=(209, 210), match='s'>\n",
      "<re.Match object; span=(210, 211), match='o'>\n",
      "<re.Match object; span=(211, 212), match='n'>\n",
      "<re.Match object; span=(212, 213), match='\\n'>\n",
      "<re.Match object; span=(213, 214), match='N'>\n",
      "<re.Match object; span=(215, 216), match='t'>\n",
      "<re.Match object; span=(216, 217), match='\\n'>\n",
      "<re.Match object; span=(217, 218), match='\\n'>\n",
      "<re.Match object; span=(220, 221), match='t'>\n",
      "<re.Match object; span=(221, 222), match='s'>\n",
      "<re.Match object; span=(222, 223), match=' '>\n",
      "<re.Match object; span=(224, 225), match='r'>\n",
      "<re.Match object; span=(225, 226), match='e'>\n",
      "<re.Match object; span=(226, 227), match=' '>\n",
      "<re.Match object; span=(227, 228), match='g'>\n",
      "<re.Match object; span=(228, 229), match='o'>\n",
      "<re.Match object; span=(229, 230), match='o'>\n",
      "<re.Match object; span=(230, 231), match='d'>\n",
      "<re.Match object; span=(231, 232), match='\\n'>\n"
     ]
    }
   ],
   "source": [
    "pattern = re.compile(r'[^a-cA-D]') # the '^' finds everything that IS NOT in the list\n",
    "\n",
    "matches = pattern.finditer(text_to_search)\n",
    "for match in matches:\n",
    "    print(match)"
   ]
  },
  {
   "cell_type": "code",
   "execution_count": null,
   "id": "554cd773-980d-4a48-a322-5ea8a23201b4",
   "metadata": {
    "gradient": {
     "execution_count": 31,
     "id": "554cd773-980d-4a48-a322-5ea8a23201b4",
     "kernelId": "8fc715da-86fc-4d4b-86d3-b8a86d88ea5c"
    },
    "tags": []
   },
   "outputs": [
    {
     "name": "stdout",
     "output_type": "stream",
     "text": [
      "<re.Match object; span=(195, 198), match='Pat'>\n",
      "<re.Match object; span=(199, 202), match='Bat'>\n",
      "<re.Match object; span=(213, 216), match='Nat'>\n"
     ]
    }
   ],
   "source": [
    "pattern = re.compile(r'[^b]at') # if you are looking for 'at' words that DONT START with b\n",
    "\n",
    "matches = pattern.finditer(text_to_search)\n",
    "for match in matches:\n",
    "    print(match)"
   ]
  },
  {
   "cell_type": "code",
   "execution_count": null,
   "id": "33c7ef54-1e7d-45c2-bc2f-edfc21564edf",
   "metadata": {
    "gradient": {
     "execution_count": 32,
     "id": "33c7ef54-1e7d-45c2-bc2f-edfc21564edf",
     "kernelId": "8fc715da-86fc-4d4b-86d3-b8a86d88ea5c"
    }
   },
   "outputs": [
    {
     "name": "stdout",
     "output_type": "stream",
     "text": [
      "<re.Match object; span=(118, 130), match='123-456-7891'>\n",
      "<re.Match object; span=(131, 143), match='123.555.1234'>\n"
     ]
    }
   ],
   "source": [
    "pattern = re.compile(r'\\d{3}.\\d{3}.\\d{4}') # that {3} means that we are looking for EXACT 3 digits, and there are other qualifiers\n",
    "\n",
    "matches = pattern.finditer(text_to_search)\n",
    "for match in matches:\n",
    "    print(match)"
   ]
  },
  {
   "cell_type": "code",
   "execution_count": null,
   "id": "ec43cf5a-8e76-45d5-9794-795f78bb4e11",
   "metadata": {
    "gradient": {
     "execution_count": 33,
     "id": "ec43cf5a-8e76-45d5-9794-795f78bb4e11",
     "kernelId": "8fc715da-86fc-4d4b-86d3-b8a86d88ea5c"
    }
   },
   "outputs": [
    {
     "name": "stdout",
     "output_type": "stream",
     "text": [
      "<re.Match object; span=(146, 149), match='Mr.'>\n"
     ]
    }
   ],
   "source": [
    "pattern = re.compile(r'Mr\\.') # finding names starting with Mr.\n",
    "\n",
    "matches = pattern.finditer(text_to_search)\n",
    "for match in matches:\n",
    "    print(match)"
   ]
  },
  {
   "cell_type": "code",
   "execution_count": null,
   "id": "b877366f-4b31-4e03-90d6-5d3e2d7f5741",
   "metadata": {
    "gradient": {
     "execution_count": 34,
     "id": "b877366f-4b31-4e03-90d6-5d3e2d7f5741",
     "kernelId": "8fc715da-86fc-4d4b-86d3-b8a86d88ea5c"
    }
   },
   "outputs": [
    {
     "name": "stdout",
     "output_type": "stream",
     "text": [
      "<re.Match object; span=(146, 149), match='Mr.'>\n",
      "<re.Match object; span=(155, 157), match='Mr'>\n",
      "<re.Match object; span=(173, 175), match='Mr'>\n",
      "<re.Match object; span=(181, 183), match='Mr'>\n"
     ]
    }
   ],
   "source": [
    "pattern = re.compile(r'Mr\\.?') # finding names starting with Mr (making the '.' optional)\n",
    "\n",
    "matches = pattern.finditer(text_to_search)\n",
    "for match in matches:\n",
    "    print(match)"
   ]
  },
  {
   "cell_type": "code",
   "execution_count": null,
   "id": "1b48446c-262a-41c9-90c5-4c6079aab5d1",
   "metadata": {
    "gradient": {
     "execution_count": 35,
     "id": "1b48446c-262a-41c9-90c5-4c6079aab5d1",
     "kernelId": "8fc715da-86fc-4d4b-86d3-b8a86d88ea5c"
    }
   },
   "outputs": [
    {
     "name": "stdout",
     "output_type": "stream",
     "text": [
      "<re.Match object; span=(146, 151), match='Mr. M'>\n",
      "<re.Match object; span=(155, 159), match='Mr S'>\n",
      "<re.Match object; span=(173, 177), match='Mr L'>\n"
     ]
    }
   ],
   "source": [
    "pattern = re.compile(r'Mr\\.?\\s[A-Z]') # we are matching up to the first letter after the Mr\n",
    "\n",
    "matches = pattern.finditer(text_to_search)\n",
    "for match in matches:\n",
    "    print(match)"
   ]
  },
  {
   "cell_type": "code",
   "execution_count": null,
   "id": "438990d2-6c65-4a4f-b13d-365fe9129a01",
   "metadata": {
    "gradient": {
     "execution_count": 36,
     "id": "438990d2-6c65-4a4f-b13d-365fe9129a01",
     "kernelId": "8fc715da-86fc-4d4b-86d3-b8a86d88ea5c"
    }
   },
   "outputs": [
    {
     "name": "stdout",
     "output_type": "stream",
     "text": [
      "<re.Match object; span=(146, 151), match='Mr. M'>\n",
      "<re.Match object; span=(155, 159), match='Mr S'>\n",
      "<re.Match object; span=(173, 177), match='Mr L'>\n"
     ]
    }
   ],
   "source": [
    "pattern = re.compile(r'Mr\\.?\\s[A-Z]w*') # the * allows you to match 0 or more\n",
    "\n",
    "matches = pattern.finditer(text_to_search)\n",
    "for match in matches:\n",
    "    print(match)"
   ]
  },
  {
   "cell_type": "code",
   "execution_count": null,
   "id": "955e1cf7-4fcd-41d9-8701-730ed4325ebb",
   "metadata": {
    "gradient": {
     "execution_count": 37,
     "id": "955e1cf7-4fcd-41d9-8701-730ed4325ebb",
     "kernelId": "8fc715da-86fc-4d4b-86d3-b8a86d88ea5c"
    }
   },
   "outputs": [],
   "source": [
    "#now we will make grouping to match the variations of Mrs etc"
   ]
  },
  {
   "cell_type": "code",
   "execution_count": null,
   "id": "ca226aca-184b-4b56-8e3f-79e0dda78dd1",
   "metadata": {
    "gradient": {
     "execution_count": 38,
     "id": "ca226aca-184b-4b56-8e3f-79e0dda78dd1",
     "kernelId": "8fc715da-86fc-4d4b-86d3-b8a86d88ea5c"
    }
   },
   "outputs": [
    {
     "name": "stdout",
     "output_type": "stream",
     "text": [
      "<re.Match object; span=(146, 154), match='Mr. Mark'>\n",
      "<re.Match object; span=(155, 163), match='Mr Smith'>\n",
      "<re.Match object; span=(164, 172), match='Ms Davis'>\n",
      "<re.Match object; span=(173, 180), match='Mr Love'>\n",
      "<re.Match object; span=(181, 194), match='Mrs. Robinson'>\n"
     ]
    }
   ],
   "source": [
    "pattern = re.compile(r'M(r|s|rs)\\.?\\s[A-Z]\\w*') # finds Mr, Ms, or Mrs with a '.' or not with letters after\n",
    "\n",
    "matches = pattern.finditer(text_to_search)\n",
    "for match in matches:\n",
    "    print(match)"
   ]
  },
  {
   "cell_type": "code",
   "execution_count": null,
   "id": "80ec43bb-e6ad-4e23-a7cf-bfee436b12b8",
   "metadata": {
    "gradient": {
     "execution_count": 39,
     "id": "80ec43bb-e6ad-4e23-a7cf-bfee436b12b8",
     "kernelId": "8fc715da-86fc-4d4b-86d3-b8a86d88ea5c"
    }
   },
   "outputs": [
    {
     "name": "stdout",
     "output_type": "stream",
     "text": [
      "<re.Match object; span=(146, 154), match='Mr. Mark'>\n",
      "<re.Match object; span=(155, 163), match='Mr Smith'>\n",
      "<re.Match object; span=(164, 172), match='Ms Davis'>\n",
      "<re.Match object; span=(173, 180), match='Mr Love'>\n",
      "<re.Match object; span=(181, 194), match='Mrs. Robinson'>\n"
     ]
    }
   ],
   "source": [
    "pattern = re.compile(r'(Mr|Ms|Mrs)\\.?\\s[A-Z]\\w*') # for the exact same response as last time\n",
    "\n",
    "matches = pattern.finditer(text_to_search)\n",
    "for match in matches:\n",
    "    print(match)"
   ]
  },
  {
   "cell_type": "code",
   "execution_count": null,
   "id": "4ffe21d5-c672-45ab-9805-41d21e75eaab",
   "metadata": {
    "gradient": {
     "execution_count": 40,
     "id": "4ffe21d5-c672-45ab-9805-41d21e75eaab",
     "kernelId": "8fc715da-86fc-4d4b-86d3-b8a86d88ea5c"
    }
   },
   "outputs": [],
   "source": [
    "# how to capture information from groups"
   ]
  },
  {
   "cell_type": "code",
   "execution_count": null,
   "id": "f8a3aee7-4755-4a3e-9ed9-4fece5b05f53",
   "metadata": {
    "gradient": {
     "execution_count": 45,
     "id": "f8a3aee7-4755-4a3e-9ed9-4fece5b05f53",
     "kernelId": "8fc715da-86fc-4d4b-86d3-b8a86d88ea5c"
    }
   },
   "outputs": [],
   "source": [
    "urls = '''\n",
    "https://www.google.com\n",
    "http://coreyms.com\n",
    "https://youtube.com\n",
    "https://www.nana.gov\n",
    "'''"
   ]
  },
  {
   "cell_type": "code",
   "execution_count": null,
   "id": "3d1eca19-c0eb-4967-bbe3-e20edebe6815",
   "metadata": {
    "gradient": {
     "id": "3d1eca19-c0eb-4967-bbe3-e20edebe6815",
     "kernelId": "8fc715da-86fc-4d4b-86d3-b8a86d88ea5c"
    }
   },
   "outputs": [],
   "source": [
    "#Lets look at these websites"
   ]
  },
  {
   "cell_type": "code",
   "execution_count": null,
   "id": "e15075f0-51a7-4262-9097-a047a2f506c7",
   "metadata": {
    "gradient": {
     "execution_count": 47,
     "id": "e15075f0-51a7-4262-9097-a047a2f506c7",
     "kernelId": "8fc715da-86fc-4d4b-86d3-b8a86d88ea5c"
    }
   },
   "outputs": [
    {
     "name": "stdout",
     "output_type": "stream",
     "text": [
      "<re.Match object; span=(1, 23), match='https://www.google.com'>\n",
      "<re.Match object; span=(24, 42), match='http://coreyms.com'>\n",
      "<re.Match object; span=(43, 62), match='https://youtube.com'>\n",
      "<re.Match object; span=(63, 83), match='https://www.nana.gov'>\n"
     ]
    }
   ],
   "source": [
    "pattern = re.compile(r'https?://(www\\.)?(\\w+)(\\.\\w+)')\n",
    "\n",
    "matches = pattern.finditer(urls)\n",
    "for match in matches:\n",
    "    print(match)"
   ]
  },
  {
   "cell_type": "code",
   "execution_count": null,
   "id": "a0720805-cdcf-4999-9852-2ae2dc45ef53",
   "metadata": {
    "gradient": {
     "execution_count": 48,
     "id": "a0720805-cdcf-4999-9852-2ae2dc45ef53",
     "kernelId": "8fc715da-86fc-4d4b-86d3-b8a86d88ea5c"
    }
   },
   "outputs": [
    {
     "name": "stdout",
     "output_type": "stream",
     "text": [
      "https://www.google.com\n",
      "http://coreyms.com\n",
      "https://youtube.com\n",
      "https://www.nana.gov\n"
     ]
    }
   ],
   "source": [
    "pattern = re.compile(r'https?://(www\\.)?(\\w+)(\\.\\w+)')\n",
    "\n",
    "matches = pattern.finditer(urls)\n",
    "for match in matches:\n",
    "    print(match.group(0))#that is group 0"
   ]
  },
  {
   "cell_type": "code",
   "execution_count": null,
   "id": "093e4d31-82fc-44c4-977e-5d4c98d5ea29",
   "metadata": {
    "gradient": {
     "execution_count": 49,
     "id": "093e4d31-82fc-44c4-977e-5d4c98d5ea29",
     "kernelId": "8fc715da-86fc-4d4b-86d3-b8a86d88ea5c"
    }
   },
   "outputs": [
    {
     "name": "stdout",
     "output_type": "stream",
     "text": [
      "www.\n",
      "None\n",
      "None\n",
      "www.\n"
     ]
    }
   ],
   "source": [
    "pattern = re.compile(r'https?://(www\\.)?(\\w+)(\\.\\w+)')\n",
    "\n",
    "matches = pattern.finditer(urls)\n",
    "for match in matches:\n",
    "    print(match.group(1))#that is group 1"
   ]
  },
  {
   "cell_type": "code",
   "execution_count": null,
   "id": "e3f3e758-c221-405c-8ed5-690072eae0f5",
   "metadata": {
    "gradient": {
     "execution_count": 50,
     "id": "e3f3e758-c221-405c-8ed5-690072eae0f5",
     "kernelId": "8fc715da-86fc-4d4b-86d3-b8a86d88ea5c"
    }
   },
   "outputs": [
    {
     "name": "stdout",
     "output_type": "stream",
     "text": [
      "google\n",
      "coreyms\n",
      "youtube\n",
      "nana\n"
     ]
    }
   ],
   "source": [
    "pattern = re.compile(r'https?://(www\\.)?(\\w+)(\\.\\w+)')\n",
    "\n",
    "matches = pattern.finditer(urls)\n",
    "for match in matches:\n",
    "    print(match.group(2))#that is group 2"
   ]
  },
  {
   "cell_type": "code",
   "execution_count": null,
   "id": "fa03e6c4-cb13-4852-822e-d9b578a8ade7",
   "metadata": {
    "gradient": {
     "execution_count": 51,
     "id": "fa03e6c4-cb13-4852-822e-d9b578a8ade7",
     "kernelId": "8fc715da-86fc-4d4b-86d3-b8a86d88ea5c"
    }
   },
   "outputs": [
    {
     "name": "stdout",
     "output_type": "stream",
     "text": [
      ".com\n",
      ".com\n",
      ".com\n",
      ".gov\n"
     ]
    }
   ],
   "source": [
    "pattern = re.compile(r'https?://(www\\.)?(\\w+)(\\.\\w+)')\n",
    "\n",
    "matches = pattern.finditer(urls)\n",
    "for match in matches:\n",
    "    print(match.group(3))#that is group 3"
   ]
  },
  {
   "cell_type": "code",
   "execution_count": null,
   "id": "c546c664-3792-4eb3-bfb1-4f0e34609446",
   "metadata": {
    "gradient": {
     "execution_count": 52,
     "id": "c546c664-3792-4eb3-bfb1-4f0e34609446",
     "kernelId": "8fc715da-86fc-4d4b-86d3-b8a86d88ea5c"
    }
   },
   "outputs": [
    {
     "name": "stdout",
     "output_type": "stream",
     "text": [
      "\n",
      "google.com\n",
      "coreyms.com\n",
      "youtube.com\n",
      "nana.gov\n",
      "\n"
     ]
    }
   ],
   "source": [
    "pattern = re.compile(r'https?://(www\\.)?(\\w+)(\\.\\w+)')\n",
    "\n",
    "subbed_urls= pattern.sub(r'\\2\\3', urls)\n",
    "\n",
    "print(subbed_urls)"
   ]
  },
  {
   "cell_type": "code",
   "execution_count": null,
   "id": "0245cfea-b521-4a23-9ec2-fdfd670a8f68",
   "metadata": {
    "gradient": {
     "id": "0245cfea-b521-4a23-9ec2-fdfd670a8f68",
     "kernelId": "8fc715da-86fc-4d4b-86d3-b8a86d88ea5c"
    }
   },
   "outputs": [],
   "source": [
    "# we don't need to use the finditer()\n",
    "# we can use the findall()\n",
    "# we can use match() allows you to find the way that strings start, only the first one it finds\n",
    "# search is an option too\n",
    "# we can add a \"flag\" ie pattern = re.compile(r'start' , re.IGNORECASE) the IGNORECASE is the flag.\n"
   ]
  }
 ],
 "metadata": {
  "kernelspec": {
   "display_name": "Python 3",
   "language": "python",
   "name": "python3"
  },
  "language_info": {
   "codemirror_mode": {
    "name": "ipython",
    "version": 3
   },
   "file_extension": ".py",
   "mimetype": "text/x-python",
   "name": "python",
   "nbconvert_exporter": "python",
   "pygments_lexer": "ipython3",
   "version": "3.9.5"
  }
 },
 "nbformat": 4,
 "nbformat_minor": 5
}
