{
 "cells": [
  {
   "cell_type": "code",
   "execution_count": 1,
   "id": "1c5e9844-1966-403d-8097-370d7269feeb",
   "metadata": {},
   "outputs": [
    {
     "data": {
      "text/plain": [
       "[500, 400, 300, 200, 100]"
      ]
     },
     "execution_count": 1,
     "metadata": {},
     "output_type": "execute_result"
    }
   ],
   "source": [
    "#reverse a list\n",
    "alist = [100,200,300,400,500]\n",
    "alist[::-1]"
   ]
  },
  {
   "cell_type": "code",
   "execution_count": 2,
   "id": "34fb6f00-444d-4802-915d-87d68774ac2b",
   "metadata": {},
   "outputs": [],
   "source": [
    "#Concatenate 2 lists index-wise\n",
    "list1= [\"M\",'na','i', 'Ke']\n",
    "list2= ['y', \"me\",'s', 'lly']"
   ]
  },
  {
   "cell_type": "code",
   "execution_count": 3,
   "id": "c53ce071-b80f-430e-9fa9-0de4b414e33e",
   "metadata": {},
   "outputs": [
    {
     "name": "stdout",
     "output_type": "stream",
     "text": [
      "['My', 'name', 'is', 'Kelly']\n"
     ]
    }
   ],
   "source": [
    "res=[i+j for i,j in zip(list1,list2)]\n",
    "print(res)"
   ]
  },
  {
   "cell_type": "code",
   "execution_count": 4,
   "id": "5d00fdbe-a19b-4449-88b9-5b21cb3c4841",
   "metadata": {},
   "outputs": [],
   "source": [
    "#\n",
    "alist = [1,2,3,4,5,6,7]"
   ]
  },
  {
   "cell_type": "code",
   "execution_count": 5,
   "id": "25d0b2de-9de9-4846-8bd4-0e2b7cfeb983",
   "metadata": {},
   "outputs": [
    {
     "data": {
      "text/plain": [
       "[1, 4, 9, 16, 25, 36, 49]"
      ]
     },
     "execution_count": 5,
     "metadata": {},
     "output_type": "execute_result"
    }
   ],
   "source": [
    "alist = [x**2 for x in alist]\n",
    "alist"
   ]
  },
  {
   "cell_type": "code",
   "execution_count": 6,
   "id": "b4d0b595-92bd-4f0d-854d-f274eb31d865",
   "metadata": {},
   "outputs": [
    {
     "name": "stdout",
     "output_type": "stream",
     "text": [
      "['Hello Dear', 'Hello Sir', 'take Dear', 'take Sir']\n"
     ]
    }
   ],
   "source": [
    "#Concatenate 2 list in the following order\n",
    "list1 = [\"Hello\", \"take\"]\n",
    "list2 = [\"Dear\", \"Sir\"]\n",
    "list3=[]\n",
    "for i in list1:\n",
    "    for j in list2:\n",
    "         list3.append(i+ ' ' +j)\n",
    "print(list3)"
   ]
  },
  {
   "cell_type": "code",
   "execution_count": 7,
   "id": "8f5e95ac-3c09-45b1-ab60-8edea86b43d9",
   "metadata": {},
   "outputs": [
    {
     "name": "stdout",
     "output_type": "stream",
     "text": [
      "['HelloDear', 'HelloSir', 'takeDear', 'takeSir']\n"
     ]
    }
   ],
   "source": [
    "# or\n",
    "list4 = [i+j for i in list1 for j in list2]\n",
    "print(list4)"
   ]
  },
  {
   "cell_type": "code",
   "execution_count": 8,
   "id": "e9020094-c327-459f-811d-0f0758545896",
   "metadata": {},
   "outputs": [
    {
     "name": "stdout",
     "output_type": "stream",
     "text": [
      "10 400\n",
      "20 300\n",
      "30 200\n",
      "40 100\n"
     ]
    }
   ],
   "source": [
    "list1 = [10,20,30,40]\n",
    "list2 = [100,200,300,400]\n",
    "\n",
    "for i,j in zip(list1, list2[::-1]):\n",
    "    print(i,j)\n"
   ]
  },
  {
   "cell_type": "code",
   "execution_count": 9,
   "id": "ca98e245-ad88-46e4-ad33-283cc503fb9c",
   "metadata": {},
   "outputs": [],
   "source": [
    "list1 =[\"Mike\",\"\",\"Emma\", \"Kelly\",\"\" \"Brad\"]"
   ]
  },
  {
   "cell_type": "code",
   "execution_count": 10,
   "id": "456ec417-8ed1-47b2-9d86-9c6673d2fa36",
   "metadata": {},
   "outputs": [
    {
     "data": {
      "text/plain": [
       "['Mike', 'Emma', 'Kelly', 'Brad']"
      ]
     },
     "execution_count": 10,
     "metadata": {},
     "output_type": "execute_result"
    }
   ],
   "source": [
    "list1.remove(\"\")\n",
    "list1"
   ]
  },
  {
   "cell_type": "code",
   "execution_count": 11,
   "id": "0e60595c-14b4-42f5-96a0-7763c8c5e21d",
   "metadata": {},
   "outputs": [
    {
     "name": "stdout",
     "output_type": "stream",
     "text": [
      "['Mike', 'Emma', 'Kelly', 'Brad']\n"
     ]
    }
   ],
   "source": [
    "# or you could use filter\n",
    "reslist = list(filter(None,list1))\n",
    "print(reslist)"
   ]
  },
  {
   "cell_type": "code",
   "execution_count": 12,
   "id": "c4a34214-402c-4ee5-afac-2752f0e1c51c",
   "metadata": {},
   "outputs": [
    {
     "data": {
      "text/plain": [
       "[10, 20, [300, 400, [5000, 6000, 7000], 500], 30, 40]"
      ]
     },
     "execution_count": 12,
     "metadata": {},
     "output_type": "execute_result"
    }
   ],
   "source": [
    "list1 = [10,20,[300,400,[5000,6000],500],30,40]\n",
    "list1[2][2].append(7000)\n",
    "list1"
   ]
  },
  {
   "cell_type": "code",
   "execution_count": 13,
   "id": "12d379ce-9c90-4fc4-a149-f0b1e4647b2d",
   "metadata": {},
   "outputs": [
    {
     "data": {
      "text/plain": [
       "['a', 'b', ['c', ['d', 'e', ['f', 'g', 'h', 'i', 'j'], 'k'], 'l'], 'm', 'n']"
      ]
     },
     "execution_count": 13,
     "metadata": {},
     "output_type": "execute_result"
    }
   ],
   "source": [
    "list2 =['h', 'i','j']\n",
    "list1 =['a','b', ['c',['d','e',['f', 'g'],'k'],'l'],'m','n']\n",
    "list1[2][1][2].extend(list2)\n",
    "list1\n"
   ]
  },
  {
   "cell_type": "code",
   "execution_count": 14,
   "id": "507ae9b3-3745-4a97-ba00-8a790240091c",
   "metadata": {},
   "outputs": [],
   "source": [
    "# we had to use the \"extend\" function, insteaad of append, because append would have \n",
    "#added a new list, and we just wanted a current list extended."
   ]
  },
  {
   "cell_type": "code",
   "execution_count": 15,
   "id": "62cba85e-3d21-4cf8-9d8c-f423efe8bb5c",
   "metadata": {},
   "outputs": [
    {
     "name": "stdout",
     "output_type": "stream",
     "text": [
      "[5, 10, 15, 200, 25, 50, 20]\n"
     ]
    }
   ],
   "source": [
    "list1 = [5,10,15,20,25,50,20]\n",
    "index = list1.index(20)\n",
    "list1[index] = 200\n",
    "print(list1)"
   ]
  },
  {
   "cell_type": "code",
   "execution_count": 16,
   "id": "e6f6f6db-eeb5-444c-bc82-0e4df30c04e4",
   "metadata": {},
   "outputs": [
    {
     "data": {
      "text/plain": [
       "[5, 15, 25, 50, 50]"
      ]
     },
     "execution_count": 16,
     "metadata": {},
     "output_type": "execute_result"
    }
   ],
   "source": [
    "list1 = [5,20,15,20,25,50,50]\n",
    "\n",
    "def remove_val(saplist, val):\n",
    "    return[i for i in saplist if i != val]\n",
    "reslist = remove_val(list1, 20)\n",
    "reslist"
   ]
  },
  {
   "cell_type": "code",
   "execution_count": 17,
   "id": "de493494-a85c-4ac3-a037-e83561a4ada1",
   "metadata": {},
   "outputs": [
    {
     "name": "stdout",
     "output_type": "stream",
     "text": [
      "[5, 15, 25, 50, 50]\n"
     ]
    }
   ],
   "source": [
    "list1 = [5,20,15,20,25,50,50]\n",
    "\n",
    "for i in list1:\n",
    "    if i ==20:\n",
    "        list1.remove(i)\n",
    "print(list1)"
   ]
  },
  {
   "cell_type": "code",
   "execution_count": 18,
   "id": "7a79263b-2be9-45aa-8430-c8b3bf3a2768",
   "metadata": {},
   "outputs": [],
   "source": [
    "list1 = [5,20,15,20,25,50,50]\n",
    "\n",
    "while 20 in list1:\n",
    "    list1.remove(20)"
   ]
  },
  {
   "cell_type": "code",
   "execution_count": 19,
   "id": "69dd72cf-063c-4bb7-8f03-2dd6a46931c1",
   "metadata": {},
   "outputs": [
    {
     "data": {
      "text/plain": [
       "[5, 15, 25, 50, 50]"
      ]
     },
     "execution_count": 19,
     "metadata": {},
     "output_type": "execute_result"
    }
   ],
   "source": [
    "list1"
   ]
  },
  {
   "cell_type": "code",
   "execution_count": null,
   "id": "89889a45-4a4f-4474-938f-b1e98e49e1ac",
   "metadata": {},
   "outputs": [],
   "source": []
  }
 ],
 "metadata": {
  "kernelspec": {
   "display_name": "Python 3",
   "language": "python",
   "name": "python3"
  },
  "language_info": {
   "codemirror_mode": {
    "name": "ipython",
    "version": 3
   },
   "file_extension": ".py",
   "mimetype": "text/x-python",
   "name": "python",
   "nbconvert_exporter": "python",
   "pygments_lexer": "ipython3",
   "version": "3.9.5"
  }
 },
 "nbformat": 4,
 "nbformat_minor": 5
}
